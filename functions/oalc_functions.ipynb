{
 "cells": [
  {
   "cell_type": "code",
   "execution_count": 1,
   "id": "4a61c3bc-1c80-4a47-a2e9-b40870f4d8d3",
   "metadata": {
    "lines_to_next_cell": 2,
    "scrolled": true
   },
   "outputs": [],
   "source": [
    "from datasets import load_dataset\n",
    "from datasets import load_dataset_builder\n",
    "from datasets import get_dataset_split_names\n",
    "from datasets import load_from_disk"
   ]
  },
  {
   "cell_type": "code",
   "execution_count": 2,
   "id": "ddb78382-dd82-406b-8817-85a3b57658c8",
   "metadata": {},
   "outputs": [
    {
     "data": {
      "application/vnd.jupyter.widget-view+json": {
       "model_id": "7cfcd42e9a324273a0337454a86c510d",
       "version_major": 2,
       "version_minor": 0
      },
      "text/plain": [
       "Loading dataset from disk:   0%|          | 0/18 [00:00<?, ?it/s]"
      ]
     },
     "metadata": {},
     "output_type": "display_data"
    }
   ],
   "source": [
    "corpus = load_from_disk('/Users/Ben/Library/CloudStorage/OneDrive-TheUniversityofSydney(Staff)/My OneDrive/corpus.hf')"
   ]
  },
  {
   "cell_type": "code",
   "execution_count": 19,
   "id": "c9149f97-1df3-4bf3-99fe-c892cbea1652",
   "metadata": {},
   "outputs": [
    {
     "data": {
      "text/plain": [
       "DatasetInfo(description='', citation='', homepage='', license='', features={'version_id': Value(dtype='string', id=None), 'type': Value(dtype='string', id=None), 'jurisdiction': Value(dtype='string', id=None), 'source': Value(dtype='string', id=None), 'mime': Value(dtype='string', id=None), 'date': Value(dtype='string', id=None), 'citation': Value(dtype='string', id=None), 'url': Value(dtype='string', id=None), 'when_scraped': Value(dtype='string', id=None), 'text': Value(dtype='string', id=None)}, post_processed=None, supervised_keys=None, task_templates=None, builder_name='json', dataset_name='open-australian-legal-corpus', config_name='corpus', version=0.0.0, splits={'corpus': SplitInfo(name='corpus', num_bytes=8998747393, num_examples=227488, shard_lengths=[8496, 10353, 11944, 11948, 12339, 12201, 12220, 12104, 12227, 12351, 12376, 11959, 12316, 12394, 11896, 17847, 22026, 10491], dataset_name='open-australian-legal-corpus')}, download_checksums={'hf://datasets/umarbutler/open-australian-legal-corpus@d6544ee18e1d127de271e766096f267bb0e317ae/corpus.jsonl': {'num_bytes': 9099817906, 'checksum': None}}, download_size=9099817906, post_processing_size=None, dataset_size=8998747393, size_in_bytes=18098565299)"
      ]
     },
     "execution_count": 19,
     "metadata": {},
     "output_type": "execute_result"
    }
   ],
   "source": [
    "corpus.info"
   ]
  },
  {
   "cell_type": "code",
   "execution_count": 20,
   "id": "4f009f76-c072-485a-9661-b9d4ea44841f",
   "metadata": {},
   "outputs": [],
   "source": [
    "#Get mnc from olca citation if court is given\n",
    "#D/W\n",
    "\n",
    "def get_mnc_w_court(court, olac_citation):\n",
    "    \n",
    "    mnc_raw = ''\n",
    "    \n",
    "    olac_citation_list = olac_citation.split('[')\n",
    "    \n",
    "    for item in olac_citation_list:\n",
    "    \n",
    "        if court.lower() in item.lower():\n",
    "            mnc_raw = item\n",
    "            \n",
    "            break\n",
    "\n",
    "    try:\n",
    "\n",
    "        mnc_list = mnc_raw.lower().split(' ')\n",
    "\n",
    "        court_index = mnc_list.indeolac_citation(court.lower())\n",
    "    \n",
    "        mnc = f\"[{mnc_list[court_index-1]} {court.upper()} {mnc_list[court_index+1]}\"\n",
    "    \n",
    "        return mnc\n",
    "\n",
    "    except:\n",
    "    \n",
    "        return mnc_raw\n"
   ]
  },
  {
   "cell_type": "code",
   "execution_count": 35,
   "id": "a4ac32a3-e70b-4f77-98df-ef7c9ad7e758",
   "metadata": {},
   "outputs": [],
   "source": [
    "#Get mnc from olca citation if court is not given\n",
    "#olca citation doesn't have text like 'this decision has been amended etc'\n",
    "\n",
    "def get_mnc(olac_citation):\n",
    "    \n",
    "    mnc = '[' + olac_citation.split('[')[-1]\n",
    "    \n",
    "    return mnc\n"
   ]
  },
  {
   "cell_type": "code",
   "execution_count": 36,
   "id": "fcc32810-8cf5-4399-bf5b-c665f7d92c20",
   "metadata": {},
   "outputs": [],
   "source": [
    "#test_mnc = '[1992] HCA 23' #Mabo\n",
    "test_mnc = '[2003] NSWCA 10' #Harris v Digital Pulse\n",
    "#test_mnc = '[1997] HCA 45' #Re Davison"
   ]
  },
  {
   "cell_type": "code",
   "execution_count": 6,
   "id": "3b194bc8-f7ca-4f64-9f77-0cd9b8d301b3",
   "metadata": {},
   "outputs": [],
   "source": [
    "#test_case = corpus.filter(lambda x: get_mnc_w_court('NSWCA', x['citation']) == test_mnc)\n",
    "#test_case[0]['citation']"
   ]
  },
  {
   "cell_type": "code",
   "execution_count": 44,
   "id": "19c441d4-2491-47c4-8ca6-c807451c5bf2",
   "metadata": {},
   "outputs": [],
   "source": [
    "#Use the approach of getting a list of relevant mncs and then scraping the judgment text from oalc\n",
    "\n",
    "test_mnc_list = ['[1992] HCA 23', '[2003] NSWCA 10', '[1997] HCA 45']\n",
    "\n",
    "test_case_alt = corpus.filter(lambda x: get_mnc(x['citation']) in test_mnc_list)"
   ]
  },
  {
   "cell_type": "code",
   "execution_count": 47,
   "id": "2ad1de20-3777-47a7-8dd2-e50c484d86d3",
   "metadata": {
    "scrolled": true
   },
   "outputs": [
    {
     "data": {
      "text/plain": [
       "'HARRIS v DIGITAL PULSE PTY LTD [2003] NSWCA 10'"
      ]
     },
     "execution_count": 47,
     "metadata": {},
     "output_type": "execute_result"
    }
   ],
   "source": [
    "test_case_alt[2]['citation']"
   ]
  },
  {
   "cell_type": "code",
   "execution_count": 43,
   "id": "7bd89a6b-80e3-4747-b8ca-b8e0d5205867",
   "metadata": {},
   "outputs": [
    {
     "data": {
      "text/plain": [
       "dict"
      ]
     },
     "execution_count": 43,
     "metadata": {},
     "output_type": "execute_result"
    }
   ],
   "source": [
    "type(test_case_alt[0])"
   ]
  },
  {
   "cell_type": "code",
   "execution_count": null,
   "id": "e24aa436-d700-4943-87e9-890b5df57333",
   "metadata": {},
   "outputs": [],
   "source": []
  }
 ],
 "metadata": {
  "kernelspec": {
   "display_name": "Python 3 (ipykernel)",
   "language": "python",
   "name": "python3"
  },
  "language_info": {
   "codemirror_mode": {
    "name": "ipython",
    "version": 3
   },
   "file_extension": ".py",
   "mimetype": "text/x-python",
   "name": "python",
   "nbconvert_exporter": "python",
   "pygments_lexer": "ipython3",
   "version": "3.11.7"
  }
 },
 "nbformat": 4,
 "nbformat_minor": 5
}
