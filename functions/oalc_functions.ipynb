{
 "cells": [
  {
   "cell_type": "code",
   "execution_count": 1,
   "id": "4a61c3bc-1c80-4a47-a2e9-b40870f4d8d3",
   "metadata": {
    "lines_to_next_cell": 2,
    "scrolled": true
   },
   "outputs": [],
   "source": [
    "from datasets import load_dataset\n",
    "#from datasets import DatasetInfo\n",
    "#from datasets import load_dataset_builder\n",
    "#from datasets import get_dataset_split_names\n",
    "from datasets import load_from_disk\n",
    "import os\n",
    "import streamlit as st"
   ]
  },
  {
   "cell_type": "code",
   "execution_count": null,
   "id": "12dfb4db-a394-46b7-9f40-dbd9538ba2bb",
   "metadata": {
    "lines_to_next_cell": 2
   },
   "outputs": [],
   "source": [
    "#Determine if running on HuggingFace\n",
    "current_dir = ''\n",
    "try:\n",
    "    current_dir = os.getcwd()\n",
    "    print(f\"current_dir == {current_dir}\")\n",
    "except Exception as e:\n",
    "    print(f\"current_dir not generated.\")\n",
    "    print(e)\n",
    "\n",
    "huggingface = False\n",
    "\n",
    "#if '/home/user/app' in current_dir:\n",
    "if 'Users/Ben' not in current_dir: #If running on Huggingface or Github Actions\n",
    "    huggingface = True\n",
    "\n",
    "print(f'huggingface == {huggingface}')"
   ]
  },
  {
   "cell_type": "code",
   "execution_count": 2,
   "id": "80066088-77dc-4b37-b56b-e5d177170170",
   "metadata": {
    "lines_to_next_cell": 2
   },
   "outputs": [],
   "source": [
    "from functions.common_functions import split_title_mnc\n",
    "#from common_functions import split_title_mnc"
   ]
  },
  {
   "cell_type": "code",
   "execution_count": 4,
   "id": "69baa871-b38e-4f02-bd6b-7677a6385537",
   "metadata": {},
   "outputs": [],
   "source": [
    "#Load corpus\n",
    "\n",
    "@st.cache_resource(show_spinner = False)\n",
    "def load_corpus():\n",
    "\n",
    "    #Generate current directory, just to check whether running on Github Actions or locally\n",
    "    current_dir = ''\n",
    "    try:\n",
    "        current_dir = os.getcwd()\n",
    "        print(current_dir)\n",
    "    except Exception as e:\n",
    "        print(f\"current_dir not generated.\")\n",
    "        print(e)\n",
    "    \n",
    "    if 'Users/Ben' not in current_dir: #If running on Huggingface or Github Actions\n",
    "        corpus = load_dataset('nehcneb/oalc_cases', split='train', revision='refs/convert/parquet')#, streaming=True)\n",
    "        #corpus = load_dataset('umarbutler/open-australian-legal-corpus', split='corpus')#, streaming=True)\n",
    "    else:        \n",
    "        #If running locally\n",
    "        corpus = load_from_disk(st.secrets['huggingface']['oalc_cases_local_path']) #keep_in_memory=False, \n",
    "        #corpus = load_from_disk(st.secrets['huggingface']['oalc_local_path']) #keep_in_memory=False, \n",
    "\n",
    "    return corpus\n",
    "    \n"
   ]
  },
  {
   "cell_type": "code",
   "execution_count": 6,
   "id": "55fcba2e-89fc-4295-b8db-e8586d2c075a",
   "metadata": {
    "lines_to_next_cell": 2
   },
   "outputs": [
    {
     "name": "stderr",
     "output_type": "stream",
     "text": [
      "2024-10-19 12:16:14.345 No runtime found, using MemoryCacheStorageManager\n"
     ]
    }
   ],
   "source": [
    "#Function for getting texts from a list of cases then match with the mnc\n",
    "\n",
    "@st.cache_data(show_spinner = False)\n",
    "def get_judgment_from_oalc(mnc_list):\n",
    "\n",
    "    #Load corpus\n",
    "    corpus = load_corpus()\n",
    "\n",
    "    #Get judgments from corpus\n",
    "    mnc_judgment_dict = {}\n",
    "    for mnc in mnc_list:\n",
    "        mnc_judgment_dict.update({mnc: ''})\n",
    "        \n",
    "    records = corpus.filter(lambda x: split_title_mnc(x['citation'])[1] in mnc_list)\n",
    "\n",
    "    for record in records:\n",
    "        mnc = split_title_mnc(record['citation'])[1]\n",
    "        if mnc in mnc_judgment_dict.keys():\n",
    "            judgment = record['text']\n",
    "            mnc_judgment_dict[mnc] = judgment\n",
    "\n",
    "    #Remove any blank or very short judgments\n",
    "    mncs_to_pop = []\n",
    "    \n",
    "    for mnc in mnc_judgment_dict.keys():\n",
    "        if len(mnc_judgment_dict[mnc]) < 1000:\n",
    "            mncs_to_pop.append(mnc)\n",
    "\n",
    "    for mnc in mncs_to_pop:\n",
    "        mnc_judgment_dict.pop(mnc)\n",
    "    \n",
    "    return mnc_judgment_dict"
   ]
  }
 ],
 "metadata": {
  "kernelspec": {
   "display_name": "Python 3 (ipykernel)",
   "language": "python",
   "name": "python3"
  },
  "language_info": {
   "codemirror_mode": {
    "name": "ipython",
    "version": 3
   },
   "file_extension": ".py",
   "mimetype": "text/x-python",
   "name": "python",
   "nbconvert_exporter": "python",
   "pygments_lexer": "ipython3",
   "version": "3.11.7"
  }
 },
 "nbformat": 4,
 "nbformat_minor": 5
}
