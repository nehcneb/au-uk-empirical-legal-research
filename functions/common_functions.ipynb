{
 "cells": [
  {
   "cell_type": "markdown",
   "id": "31316dc6-71a8-49ed-9153-57cb22e04462",
   "metadata": {},
   "source": [
    "# Preliminaries"
   ]
  },
  {
   "cell_type": "code",
   "execution_count": 68,
   "id": "7d0b75ab-02c0-4767-adc2-99417a499aea",
   "metadata": {},
   "outputs": [],
   "source": [
    "def own_account_allowed():\n",
    "    return 1"
   ]
  },
  {
   "cell_type": "code",
   "execution_count": 69,
   "id": "6b334b9a-be29-49ae-844a-05105d5f3d5e",
   "metadata": {},
   "outputs": [],
   "source": [
    "def check_questions_answers():\n",
    "    return 1"
   ]
  },
  {
   "cell_type": "code",
   "execution_count": null,
   "id": "120ee5fb-5ea9-45f6-812f-26bc1f38274c",
   "metadata": {},
   "outputs": [],
   "source": [
    "def batch_mode_allowed():\n",
    "    return 1"
   ]
  },
  {
   "cell_type": "code",
   "execution_count": null,
   "id": "92b83d79-bc01-45fa-b6cc-97f5526991e9",
   "metadata": {
    "lines_to_next_cell": 2
   },
   "outputs": [],
   "source": [
    "huggingface = True\n",
    "\n",
    "#if depends on director\n",
    "\n",
    "huggingface_directory = 0\n",
    "\n",
    "if huggingface_directory > 1:\n",
    "    \n",
    "    current_dir = ''\n",
    "    try:\n",
    "        current_dir = os.getcwd()\n",
    "        print(f\"current_dir == {current_dir}\")\n",
    "    except Exception as e:\n",
    "        print(f\"current_dir not generated.\")\n",
    "        print(e)\n",
    "    \n",
    "    if 'Users/Ben' not in current_dir: #If running on Huggingface or Github Actions\n",
    "        huggingface = True\n",
    "        \n",
    "print(f'huggingface == {huggingface}')"
   ]
  },
  {
   "cell_type": "code",
   "execution_count": 67,
   "id": "d1449d6e-ae1c-4b96-a07d-67e3b192b4cb",
   "metadata": {},
   "outputs": [],
   "source": [
    "#Preliminaries\n",
    "import datetime\n",
    "from datetime import date\n",
    "from dateutil import parser\n",
    "from dateutil.relativedelta import *\n",
    "from datetime import datetime, timedelta\n",
    "import pandas as pd\n",
    "import numpy as np\n",
    "import requests\n",
    "import pypdf\n",
    "import io\n",
    "from io import BytesIO\n",
    "import pause\n",
    "\n",
    "#Excel\n",
    "from io import BytesIO\n",
    "from pyxlsb import open_workbook as open_xlsb\n",
    "import xlsxwriter\n",
    "\n",
    "#Streamlit\n",
    "import streamlit as st\n",
    "#from streamlit_gsheets import GSheetsConnection\n",
    "from streamlit.components.v1 import html\n",
    "import streamlit_ext as ste\n",
    "\n",
    "#AWS\n",
    "import boto3\n",
    "from botocore.config import Config\n",
    "from botocore.exceptions import ClientError"
   ]
  },
  {
   "cell_type": "markdown",
   "id": "21ac956b-28f9-48d0-9d63-e0baa658a69f",
   "metadata": {},
   "source": [
    "# Scraper, GPT etc"
   ]
  },
  {
   "cell_type": "code",
   "execution_count": 70,
   "id": "62de9605-e5f0-4656-a3fe-924dd9fc2f5d",
   "metadata": {},
   "outputs": [],
   "source": [
    "#Default judgment counter bound\n",
    "default_judgment_counter_bound = 10"
   ]
  },
  {
   "cell_type": "code",
   "execution_count": 71,
   "id": "a224ee69-5225-405c-bf1a-1a5e2d8a36e8",
   "metadata": {},
   "outputs": [],
   "source": [
    "#Default page bound for OWN.py\n",
    "default_page_bound = 50"
   ]
  },
  {
   "cell_type": "code",
   "execution_count": 72,
   "id": "598c5031-0de9-41fd-a1bf-cc7224a73789",
   "metadata": {},
   "outputs": [],
   "source": [
    "#Check if string is date\n",
    "\n",
    "#From https://stackoverflow.com/questions/25341945/check-if-string-has-date-any-format\n",
    "\n",
    "def is_date(string, fuzzy=False):\n",
    "    \"\"\"\n",
    "    Return whether the string can be interpreted as a date.\n",
    "\n",
    "    :param string: str, string to check for date\n",
    "    :param fuzzy: bool, ignore unknown tokens in string if True\n",
    "    \"\"\"\n",
    "    try: \n",
    "        parser.parse(string, fuzzy=fuzzy)\n",
    "        return True\n",
    "\n",
    "    except ValueError:\n",
    "        return False\n",
    "\n"
   ]
  },
  {
   "cell_type": "code",
   "execution_count": 73,
   "id": "8379113b-2ecf-4f14-b0a7-f75846837e18",
   "metadata": {},
   "outputs": [],
   "source": [
    "def date_parser(string):\n",
    "    try:\n",
    "        date = parser.parse(string, dayfirst=True)\n",
    "        return date\n",
    "    except:\n",
    "        return None\n",
    "\n"
   ]
  },
  {
   "cell_type": "code",
   "execution_count": 74,
   "id": "cbd16144-32e7-4859-9c83-e198c3a69bf7",
   "metadata": {},
   "outputs": [],
   "source": [
    "#today\n",
    "today_in_nums = str(datetime.now())[0:10]\n",
    "today = datetime.now().strftime(\"%d/%m/%Y\")"
   ]
  },
  {
   "cell_type": "code",
   "execution_count": 75,
   "id": "2b14951c-6387-46be-bc28-a9b90f7064f7",
   "metadata": {},
   "outputs": [],
   "source": [
    "# Generate placeholder list of errors\n",
    "errors_list = set()"
   ]
  },
  {
   "cell_type": "code",
   "execution_count": 13,
   "id": "9a4b7739-2698-46a7-bc72-cd3060f08f53",
   "metadata": {},
   "outputs": [],
   "source": [
    "#Split title and mnc from full case full title\n",
    "\n",
    "def split_title_mnc(full_title):\n",
    "    #Returns a list where first item is full_title and second item mnc\n",
    "\n",
    "    full_title = str(full_title)\n",
    "    \n",
    "    #Get rid of extra spaces\n",
    "    while '  ' in full_title:\n",
    "        full_title = full_title.replace('  ', ' ')\n",
    "\n",
    "    #Get mnc with potentially extra words after\n",
    "    mnc = full_title\n",
    "    if '[' in full_title:\n",
    "        mnc = '[' + full_title.split('[')[-1]\n",
    "\n",
    "    #Get rid of extra words after mnc\n",
    "    mnc_list = mnc.split(' ')\n",
    "    \n",
    "    if len(mnc_list) > 3:\n",
    "        mnc = f\"{mnc_list[0]} {mnc_list[1]} {mnc_list[2]}\"\n",
    "\n",
    "    #Get title \n",
    "    if mnc in full_title:\n",
    "        \n",
    "        title = full_title.split(mnc)[0]\n",
    "\n",
    "        if len(title) > 0:\n",
    "            \n",
    "            while title[-1] == ' ':\n",
    "                title = title[:-1]\n",
    "    else:\n",
    "        title = full_title\n",
    "    \n",
    "    return [title, mnc]\n",
    "\n"
   ]
  },
  {
   "cell_type": "code",
   "execution_count": 76,
   "id": "7b59a7ad-980c-4c5e-8c1c-717887de66a1",
   "metadata": {
    "lines_to_next_cell": 2
   },
   "outputs": [],
   "source": [
    "#Pause between judgment scraping\n",
    "\n",
    "scraper_pause_mean = int((15-5)/2)\n",
    "\n",
    "#print(f\"The pause between judgment scraping is {scraper_pause_mean} second.\\n\")"
   ]
  },
  {
   "cell_type": "code",
   "execution_count": 77,
   "id": "63300543-d8a8-4165-8480-9ec5c752fc07",
   "metadata": {
    "lines_to_next_cell": 2
   },
   "outputs": [],
   "source": [
    "#Lowerbound on length of judgment text to proccess, in tokens\n",
    "\n",
    "judgment_text_lower_bound = 4000 #~3000 words"
   ]
  },
  {
   "cell_type": "code",
   "execution_count": 80,
   "id": "2276c642-efdc-481b-bbde-e05551270a66",
   "metadata": {},
   "outputs": [],
   "source": [
    "#Tidy up medium neutral citation\n",
    "#def mnc_cleaner(x):\n",
    "    #if '[' in x:\n",
    "        #x_clean=str(x).split(\"[\")\n",
    "        #y = '[' + x_clean[-1]\n",
    "        #return y\n",
    "    #else:\n",
    "        #return x"
   ]
  },
  {
   "cell_type": "code",
   "execution_count": 81,
   "id": "ea50c32c-7529-482c-b0d4-b8b322351896",
   "metadata": {},
   "outputs": [],
   "source": [
    "#Tidy up hyperlink\n",
    "def link(x):\n",
    "    value = '=HYPERLINK(\"' + str(x) + '\")'\n",
    "    return value\n",
    "\n"
   ]
  },
  {
   "cell_type": "code",
   "execution_count": 82,
   "id": "32bbfae7-5c78-42f2-b4b7-b4b407d2e0f5",
   "metadata": {},
   "outputs": [],
   "source": [
    "#Define function for judgment link containing PDF\n",
    "def pdf_judgment(url):\n",
    "    headers = {'User-Agent': 'whatever'}\n",
    "    r = requests.get(url, headers=headers)\n",
    "    remote_file_bytes = io.BytesIO(r.content)\n",
    "    pdfdoc_remote = pypdf.PdfReader(remote_file_bytes)\n",
    "    text_list = []\n",
    "\n",
    "    for page in pdfdoc_remote.pages:\n",
    "        text_list.append(page.extract_text())\n",
    "    \n",
    "    return str(text_list)\n",
    "\n"
   ]
  },
  {
   "cell_type": "code",
   "execution_count": 17,
   "id": "83a91733-ec33-4cef-8af5-ef62cc7d4ad0",
   "metadata": {},
   "outputs": [],
   "source": [
    "def tips():\n",
    "    st.markdown(\"\"\":green[**DO's**:]\n",
    "- :green[Do break down complex tasks into simple sub-tasks.]\n",
    "- :green[Do give clear and detailed instructions (eg specify steps required to complete a task).]\n",
    "- :green[Do use the same terminology as the relevant judgments or files themselves.]\n",
    "- :green[Do give exemplar answers.]\n",
    "- :green[Do manually check some or all answers.]\n",
    "- :green[Do revise questions to get better answers.]\n",
    "- :green[Do evaluate answers on the same sample of judgments or files (ie the \"training\" sample).]\n",
    "\"\"\")\n",
    "\n",
    "    st.markdown(\"\"\":red[**Don'ts**:]\n",
    "- :red[Don't ask questions which go beyond the relevant judgments or files themselves.]\n",
    "- :red[Don't ask difficult maths questions.]\n",
    "- :red[Don't skip manual evaluation.]\n",
    "\"\"\")\n",
    "\n",
    "    st.markdown(\"\"\":orange[**Maybe's**:]\n",
    "- :orange[Maybe ask for reasoning.]\n",
    "- :orange[Maybe re-run the same questions and manually check for inconsistency.]\n",
    "\"\"\")\n",
    "\n",
    "    st.write('Click [here](https://platform.openai.com/docs/guides/prompt-engineering) for more tips.')"
   ]
  },
  {
   "cell_type": "code",
   "execution_count": 18,
   "id": "95fe1424-ee5e-43c2-b199-3154a73b5f93",
   "metadata": {},
   "outputs": [],
   "source": [
    "def list_value_check(some_list, some_value):\n",
    "    try:\n",
    "        index = some_list.index(some_value)\n",
    "        return index\n",
    "    except:\n",
    "        return None"
   ]
  },
  {
   "cell_type": "code",
   "execution_count": 19,
   "id": "9336510a-d69f-4bc5-8b99-5fa138fff27f",
   "metadata": {},
   "outputs": [],
   "source": [
    "def list_range_check(some_list, some_string):\n",
    "    selected_list = []\n",
    "    try:\n",
    "        raw_list = some_string.split(',')\n",
    "\n",
    "        for item in raw_list:\n",
    "\n",
    "            while item[0] == ' ':\n",
    "                item = item[1:]\n",
    "            \n",
    "            if item in some_list:\n",
    "                selected_list.append(item)\n",
    "\n",
    "    except:\n",
    "        print(f'List {str(some_list)} does not contain {some_string}')\n",
    " \n",
    "    return selected_list\n",
    "\n"
   ]
  },
  {
   "cell_type": "code",
   "execution_count": 20,
   "id": "ebd49778-2c57-4887-8658-6b63941105d6",
   "metadata": {},
   "outputs": [],
   "source": [
    "def au_date(x):\n",
    "    try:\n",
    "        return parser.parse(x, dayfirst=True)\n",
    "    except:\n",
    "        return None"
   ]
  },
  {
   "cell_type": "code",
   "execution_count": 21,
   "id": "3bbdbc72-172d-4575-a850-314562134070",
   "metadata": {},
   "outputs": [],
   "source": [
    "#String to integer\n",
    "def str_to_int(string):\n",
    "    try:\n",
    "        output = int(float(string))\n",
    "        return output\n",
    "    except:\n",
    "        return int(default_judgment_counter_bound)"
   ]
  },
  {
   "cell_type": "code",
   "execution_count": 22,
   "id": "d15bf0b8-1ef3-4f6b-a043-545d15a51178",
   "metadata": {},
   "outputs": [],
   "source": [
    "#String to integer\n",
    "def str_to_int_page(string):\n",
    "    try:\n",
    "        output = int(float(string))\n",
    "        return output\n",
    "    except:\n",
    "        return int(default_page_bound)"
   ]
  },
  {
   "cell_type": "code",
   "execution_count": 23,
   "id": "8f231c89-6e14-430a-8db1-ef660821f170",
   "metadata": {},
   "outputs": [],
   "source": [
    "#Save jurisdiction specific input\n",
    "def save_input(df_master):\n",
    "\n",
    "    keys_to_carry_over = ['Your name', \n",
    "                        'Your email address', \n",
    "                        'Your GPT API key', \n",
    "                        'Maximum number of judgments', \n",
    "                        'Maximum number of files',\n",
    "                        'Maximum number of pages per file',\n",
    "                        'Language choice',\n",
    "                        'Enter your questions for GPT', \n",
    "                        'Use GPT', \n",
    "                        'Use own account', \n",
    "                        'Use flagship version of GPT', \n",
    "                         'submission_time', \n",
    "                         'status', \n",
    "                          'jurisdiction_page', \n",
    "                          'Consent',\n",
    "                          #'CourtListener API token' #US specific\n",
    "                         ]\n",
    "    \n",
    "    df_master = df_master.replace({np.nan: None})\n",
    "    \n",
    "    for key in st.session_state.df_master.keys():\n",
    "        \n",
    "        if key not in keys_to_carry_over:\n",
    "            try:            \n",
    "                st.session_state.df_master.loc[0, key]  = df_master.loc[0, key]\n",
    "            except Exception as e:\n",
    "                print(f'{key} not saved.')\n",
    "                print(e)\n",
    "\n"
   ]
  },
  {
   "cell_type": "code",
   "execution_count": null,
   "id": "94a0c731-be56-499b-940d-3331637eac12",
   "metadata": {},
   "outputs": [],
   "source": [
    "#Function to hide own token\n",
    "\n",
    "def hide_own_token(user_token, own_token):\n",
    "    if user_token:\n",
    "        if user_token == own_token:\n",
    "            return None\n",
    "        else:\n",
    "            return user_token\n",
    "    else:\n",
    "        return None\n",
    "\n"
   ]
  },
  {
   "cell_type": "code",
   "execution_count": null,
   "id": "5c55d1c4-f1af-43e9-aecc-cc0a913cc19d",
   "metadata": {},
   "outputs": [],
   "source": [
    "#Reverse hyperlink display\n",
    "def reverse_link(x):\n",
    "    value = str(x).replace('=HYPERLINK(\"', '').replace('\")', '')\n",
    "    return value"
   ]
  },
  {
   "cell_type": "markdown",
   "id": "d2f7a105-6d86-49a2-8e65-bebeaae654c9",
   "metadata": {},
   "source": [
    "# Streamlit"
   ]
  },
  {
   "cell_type": "code",
   "execution_count": 24,
   "id": "bed4b91b-dadb-4831-b1ba-0b85d767a1c8",
   "metadata": {},
   "outputs": [],
   "source": [
    "#Function to open url\n",
    "def open_page(url):\n",
    "    open_script= \"\"\"\n",
    "        <script type=\"text/javascript\">\n",
    "            window.open('%s', '_blank').focus();\n",
    "        </script>\n",
    "    \"\"\" % (url)\n",
    "    html(open_script)"
   ]
  },
  {
   "cell_type": "code",
   "execution_count": 25,
   "id": "137d660f-e152-4ac8-8f2d-f2e9fe46d980",
   "metadata": {},
   "outputs": [],
   "source": [
    "def clear_cache():\n",
    "    \n",
    "    keys = list(st.session_state.keys())\n",
    "    \n",
    "    for key in keys:\n",
    "        st.session_state.pop(key)\n",
    "\n"
   ]
  },
  {
   "cell_type": "code",
   "execution_count": 26,
   "id": "7a0daf68-c7c4-4e1e-a01d-da4e8cd68b8f",
   "metadata": {},
   "outputs": [],
   "source": [
    "def clear_cache_except_validation_df_master():\n",
    "    keys = list(st.session_state.keys())\n",
    "    if 'df_master' in keys:\n",
    "        keys.remove('df_master')\n",
    "    if 'page_from' in keys:\n",
    "        keys.remove('page_from')\n",
    "    if 'jurisdiction_page' in keys:\n",
    "        keys.remove('jurisdiction_page')\n",
    "    for key in keys:\n",
    "        st.session_state.pop(key)"
   ]
  },
  {
   "cell_type": "code",
   "execution_count": null,
   "id": "17bdc0d2-9860-4e48-a8cd-8aa8176aa85d",
   "metadata": {},
   "outputs": [],
   "source": [
    "def streamlit_timezone():\n",
    "    local_now = datetime.now().astimezone()\n",
    "    time_zone = local_now.tzname()\n",
    "    if time_zone in ['AEST', 'AEDT', 'ACST', 'AWST', 'BST']:\n",
    "        return True\n",
    "    else:\n",
    "        return False"
   ]
  },
  {
   "cell_type": "code",
   "execution_count": 27,
   "id": "abba850f-268c-4643-8980-7cd2bbbaf4b9",
   "metadata": {},
   "outputs": [],
   "source": [
    "def streamlit_cloud_date_format(date):\n",
    "    local_now = datetime.now().astimezone()\n",
    "    time_zone = local_now.tzname()\n",
    "    if time_zone in ['AEST', 'ACST', 'AWST', 'BST']:\n",
    "        date_to_send = parser.parse(date, dayfirst=True).strftime(\"%d/%m/%Y\")\n",
    "    else:\n",
    "        date_to_send = parser.parse(date, dayfirst=True).strftime(\"%m/%d/%Y\")\n",
    "    return date_to_send"
   ]
  },
  {
   "cell_type": "code",
   "execution_count": null,
   "id": "8dbd4d6c-155d-47c5-8cd2-9436da08e06c",
   "metadata": {},
   "outputs": [],
   "source": [
    "#No results msg\n",
    "no_results_msg = 'Your search terms returned 0 results. Please change your search terms and try again.'"
   ]
  },
  {
   "cell_type": "code",
   "execution_count": null,
   "id": "d0f2e6dc-4b9a-4ea5-a6b9-8d5d44e296e9",
   "metadata": {
    "lines_to_next_cell": 2
   },
   "outputs": [],
   "source": [
    "#Default spinner_text\n",
    "\n",
    "spinner_text = r\"$\\textsf{\\normalsize In progress... }$\""
   ]
  },
  {
   "cell_type": "code",
   "execution_count": null,
   "id": "3ac8817b-6010-45ca-9626-55d786b0e1a0",
   "metadata": {},
   "outputs": [],
   "source": [
    "#Funder\n",
    "funder_msg = \"Lawtodata is partially funded by a 2022 University of Sydney Research Accelerator (SOAR) Prize and a 2023 Discovery Early Career Researcher Award (DECRA). Please kindly acknowledge this if you use your requested data to produce any research output. \""
   ]
  },
  {
   "cell_type": "code",
   "execution_count": null,
   "id": "26a36b88-951c-402d-9ab7-3db2b254e037",
   "metadata": {},
   "outputs": [],
   "source": [
    "#Create function for saving responses and results\n",
    "def convert_df_to_json(df):\n",
    "    return df.to_json(orient = 'split', compression = 'infer', default_handler=str, indent=4)\n",
    "\n",
    "def convert_df_to_csv(df):\n",
    "   return df.to_csv(index=False).encode('utf-8')\n",
    "\n",
    "def convert_df_to_excel(df):\n",
    "    #Excel metadata\n",
    "    excel_author = 'LawtoData'\n",
    "    excel_description = 'A 2022 University of Sydney Research Accelerator (SOAR) Prize and a 2023 Discovery Early Career Researcher Award (DECRA) partially funded the development of LawtoData, which generated this spreadsheet.'\n",
    "    output = BytesIO()\n",
    "    #writer = pd.ExcelWriter(output, engine='xlsxwriter', engine_kwargs={'options': {'strings_to_urls': False}})\n",
    "    writer = pd.ExcelWriter(output, engine='xlsxwriter', engine_kwargs={'options': {'strings_to_urls': False}})\n",
    "    df.to_excel(writer, index=False, sheet_name='Sheet1')\n",
    "    workbook = writer.book\n",
    "    workbook.set_properties({\"author\": excel_author, \"comments\": excel_description})\n",
    "    worksheet = writer.sheets['Sheet1']\n",
    "#    format1 = workbook.add_format({'num_format': '0.00'}) \n",
    "    worksheet.set_column('A:A', None)#, format1)  \n",
    "    writer.save()\n",
    "    processed_data = output.getvalue()\n",
    "    return processed_data"
   ]
  },
  {
   "cell_type": "code",
   "execution_count": null,
   "id": "b4d67f21-3a69-41ec-a8a5-4f125f8af511",
   "metadata": {},
   "outputs": [],
   "source": [
    "#Download entries and results\n",
    "\n",
    "def download_buttons(df_master, df_individual = [], saving = False, previous = False):\n",
    "    #Enable the saving argument if want to allow saving of entries\n",
    "    #Enable the previous argument if want to allow saving of last produced results\n",
    "    #Default df_individual is empty to ensure no buttons for downloading data is shown\n",
    "    \n",
    "    #For downloading entries\n",
    "    if saving:\n",
    "\n",
    "        if 'Your GPT API key' in df_master.columns:\n",
    "            df_master.pop(\"Your GPT API key\")\n",
    "\n",
    "        if 'CourtListener API token' in df_master.columns:\n",
    "            #Essential to avoiding both default and user secrets\n",
    "            df_master.pop(\"CourtListener API token\")\n",
    "\n",
    "        if previous:\n",
    "            \n",
    "            st.warning('Looking for your entries?')\n",
    "            \n",
    "            previous_str = 'your last produced '\n",
    "            \n",
    "        else:\n",
    "            \n",
    "            st.success('Your entries are now available for download.')\n",
    "        \n",
    "        responses_output_name = str(df_master.loc[0, 'Your name']) + '_' + str(today_in_nums) + '_responses'\n",
    "        \n",
    "        xlsx = convert_df_to_excel(df_master)\n",
    "        \n",
    "        ste.download_button(label='DOWNLOAD your entries as an Excel spreadsheet (XLSX)',\n",
    "                            data=xlsx,\n",
    "                            file_name=responses_output_name + '.xlsx', \n",
    "                            mime='application/vnd.ms-excel',\n",
    "                           )\n",
    "    \n",
    "        csv = convert_df_to_csv(df_master)\n",
    "    \n",
    "        ste.download_button(\n",
    "            label=\"DOWNLOAD your entries as a CSV\", \n",
    "            data = csv,\n",
    "            file_name=responses_output_name + '.csv', \n",
    "            mime= \"text/csv\", \n",
    "        )\n",
    "    \n",
    "        json = convert_df_to_json(df_master)\n",
    "        \n",
    "        ste.download_button(\n",
    "            label=\"DOWNLOAD your entries as a JSON\", \n",
    "            data = json,\n",
    "            file_name= responses_output_name + '.json', \n",
    "            mime= \"application/json\", \n",
    "        )\n",
    "    \n",
    "    #For downloading data\n",
    "    if len(df_individual) > 0:\n",
    "\n",
    "        #Determine whether to note previous results\n",
    "        previous_str = ''\n",
    "        \n",
    "        if previous:\n",
    "            st.warning('Looking for your last produced data?')\n",
    "            \n",
    "            previous_str = 'your last produced '\n",
    "            \n",
    "        else:\n",
    "            \n",
    "            st.success(\"Your data is now available for download. Thank you for using *LawtoData*!\")\n",
    "\n",
    "        #Produce output spreadsheets\n",
    "        output_name = str(df_master.loc[0, 'Your name']) + '_' + str(today_in_nums) + '_output'\n",
    "\n",
    "        excel_xlsx = convert_df_to_excel(df_individual)\n",
    "        \n",
    "        ste.download_button(label=f'DOWNLOAD {previous_str}data as an Excel spreadsheet (XLSX)',\n",
    "                            data=excel_xlsx,\n",
    "                            file_name= output_name + '.xlsx', \n",
    "                            mime='application/vnd.ms-excel',\n",
    "                           )\n",
    "    \n",
    "        csv_output = convert_df_to_csv(df_individual)\n",
    "        \n",
    "        ste.download_button(\n",
    "            label=f'DOWNLOAD {previous_str}data as a CSV', \n",
    "            data = csv_output,\n",
    "            file_name= output_name + '.csv', \n",
    "            mime= \"text/csv\", \n",
    "        )\n",
    "        \n",
    "        json_output = convert_df_to_json(df_individual)\n",
    "        \n",
    "        ste.download_button(\n",
    "            label=f'DOWNLOAD {previous_str}data as a JSON', \n",
    "            data = json_output,\n",
    "            file_name= output_name + '.json', \n",
    "            mime= \"application/json\", \n",
    "        )\n",
    "    \n",
    "        st.page_link('pages/AI.py', label=f\"ANALYSE {previous_str}data with an AI\", icon = '🤔')\n",
    "\n",
    "    #For noting a lack of data\n",
    "    if ((not saving) and (len(df_individual) == 0)):\n",
    "        \n",
    "        st.error('Sorry, no data was produced. Please return to the previous page, check your search terms and try again.')\n",
    "\n"
   ]
  },
  {
   "cell_type": "markdown",
   "id": "867f58d5-5bcd-4105-a0f5-fc4c09bb7a1a",
   "metadata": {},
   "source": [
    "# AWS"
   ]
  },
  {
   "cell_type": "code",
   "execution_count": null,
   "id": "45832be8-5ba2-477e-809f-46776f604497",
   "metadata": {
    "lines_to_next_cell": 2
   },
   "outputs": [],
   "source": [
    "#AWS email\n",
    "#Define send email function\n",
    "\n",
    "def send_notification_email(ULTIMATE_RECIPIENT_NAME, ULTIMATE_RECIPIENT_EMAIL):\n",
    "\n",
    "    ses = boto3.client('ses',region_name=st.secrets[\"aws\"][\"AWS_DEFAULT_REGION\"], aws_access_key_id=st.secrets[\"aws\"][\"AWS_ACCESS_KEY_ID\"], aws_secret_access_key=st.secrets[\"aws\"][\"AWS_SECRET_ACCESS_KEY\"])\n",
    "    \n",
    "    #Based on the following upon substituting various arguments, https://docs.aws.amazon.com/ses/latest/dg/send-an-email-using-sdk-programmatically.html\n",
    "    \n",
    "    # Replace sender@example.com with your \"From\" address.\n",
    "    # This address must be verified with Amazon SES.\n",
    "    SENDER = st.secrets[\"email_notifications\"][\"email_sender\"]\n",
    "    \n",
    "    # Replace recipient@example.com with a \"To\" address. If your account \n",
    "    # is still in the sandbox, this address must be verified.\n",
    "    RECIPIENT = st.secrets[\"email_notifications\"][\"email_receiver_personal\"]\n",
    "    \n",
    "    # The subject line for the email.\n",
    "    SUBJECT = f\"LawtoData: {ULTIMATE_RECIPIENT_NAME} has requested data\"\n",
    "    \n",
    "    BODY_TEXT = (\n",
    "    \n",
    "    f\"{ULTIMATE_RECIPIENT_NAME} at {ULTIMATE_RECIPIENT_EMAIL} has requested data via LawtoData.\"\n",
    "    \n",
    "    )\n",
    "      \n",
    "    # The character encoding for the email.\n",
    "    CHARSET = \"UTF-8\"\n",
    "\n",
    "    # Try to send the email.\n",
    "    try:\n",
    "        #Provide the contents of the email.\n",
    "        response = ses.send_email(\n",
    "            Destination={\n",
    "                'ToAddresses': [\n",
    "                    RECIPIENT,\n",
    "                ],\n",
    "            },\n",
    "            Message={\n",
    "                'Body': {\n",
    "                    'Text': {\n",
    "                        'Charset': CHARSET,\n",
    "                        'Data': BODY_TEXT,\n",
    "                    },\n",
    "                },\n",
    "                'Subject': {\n",
    "                    'Charset': CHARSET,\n",
    "                    'Data': SUBJECT,\n",
    "                },\n",
    "            },\n",
    "            Source=SENDER,\n",
    "        )\n",
    "    # Display an error if something goes wrong.\t\n",
    "    except ClientError as e:\n",
    "        print(e.response['Error']['Message'])\n",
    "    #else:\n",
    "        #print(\"Email sent! Message ID:\"),\n",
    "        #print(response['MessageId'])"
   ]
  },
  {
   "cell_type": "markdown",
   "id": "07c34a19-ada5-4be8-83d0-b1889cc35976",
   "metadata": {},
   "source": [
    "# [NOT IN USE] Google Sheets"
   ]
  },
  {
   "cell_type": "code",
   "execution_count": null,
   "id": "b64a63e4-bb0f-4fa3-a152-ff813ea299ae",
   "metadata": {},
   "outputs": [],
   "source": [
    "#Keep record on Google sheet\n",
    "#Obtain google spreadsheet       \n",
    "#conn = st.connection(\"gsheets_nsw\", type=GSheetsConnection)\n",
    "#df_google = conn.read()\n",
    "#df_google = df_google.fillna('')\n",
    "#df_google=df_google[df_google[\"Processed\"]!='']\n",
    "#df_master[\"Processed\"] = datetime.now()\n",
    "#df_master.pop(\"Your GPT API key\")\n",
    "#df_to_update = pd.concat([df_google, df_master])\n",
    "#conn.update(worksheet=\"CTH\", data=df_to_update, )"
   ]
  }
 ],
 "metadata": {
  "kernelspec": {
   "display_name": "Python 3 (ipykernel)",
   "language": "python",
   "name": "python3"
  },
  "language_info": {
   "codemirror_mode": {
    "name": "ipython",
    "version": 3
   },
   "file_extension": ".py",
   "mimetype": "text/x-python",
   "name": "python",
   "nbconvert_exporter": "python",
   "pygments_lexer": "ipython3",
   "version": "3.11.7"
  }
 },
 "nbformat": 4,
 "nbformat_minor": 5
}
