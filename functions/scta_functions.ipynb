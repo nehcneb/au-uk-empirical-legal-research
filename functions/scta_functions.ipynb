{
 "cells": [
  {
   "cell_type": "markdown",
   "id": "c3b8b879",
   "metadata": {},
   "source": [
    "# Preliminaries"
   ]
  },
  {
   "cell_type": "code",
   "execution_count": 1,
   "id": "f2312235",
   "metadata": {
    "lines_to_next_cell": 2,
    "scrolled": true
   },
   "outputs": [],
   "source": [
    "#Preliminary modules\n",
    "import base64 \n",
    "import json\n",
    "import pandas as pd\n",
    "import shutil\n",
    "import numpy as np\n",
    "import re\n",
    "import datetime\n",
    "from datetime import date\n",
    "from dateutil import parser\n",
    "from dateutil.relativedelta import *\n",
    "from datetime import datetime, timedelta\n",
    "import sys\n",
    "import pause\n",
    "import requests\n",
    "from bs4 import BeautifulSoup, SoupStrainer\n",
    "import httplib2\n",
    "from urllib.request import urlretrieve\n",
    "import os\n",
    "import urllib.request\n",
    "import io\n",
    "from io import BytesIO\n",
    "\n",
    "#Streamlit\n",
    "import streamlit as st\n",
    "#from streamlit_gsheets import GSheetsConnection\n",
    "from streamlit.components.v1 import html\n",
    "import streamlit_ext as ste\n",
    "from streamlit_extras.stylable_container import stylable_container\n",
    "\n",
    "#OpenAI\n",
    "import openai\n",
    "import tiktoken\n",
    "\n",
    "#Google\n",
    "#from google.oauth2 import service_account\n",
    "\n",
    "#Excel\n",
    "from pyxlsb import open_workbook as open_xlsb"
   ]
  },
  {
   "cell_type": "code",
   "execution_count": 2,
   "id": "89b19432-dc40-4740-ac69-cb4e7f6d356b",
   "metadata": {
    "lines_to_next_cell": 2
   },
   "outputs": [
    {
     "ename": "ModuleNotFoundError",
     "evalue": "No module named 'common_functions'",
     "output_type": "error",
     "traceback": [
      "\u001b[0;31m---------------------------------------------------------------------------\u001b[0m",
      "\u001b[0;31mModuleNotFoundError\u001b[0m                       Traceback (most recent call last)",
      "Cell \u001b[0;32mIn[2], line 2\u001b[0m\n\u001b[1;32m      1\u001b[0m \u001b[38;5;66;03m#Import functions\u001b[39;00m\n\u001b[0;32m----> 2\u001b[0m \u001b[38;5;28;01mfrom\u001b[39;00m \u001b[38;5;21;01mcommon_functions\u001b[39;00m \u001b[38;5;28;01mimport\u001b[39;00m own_account_allowed, convert_df_to_json, convert_df_to_csv, convert_df_to_excel, mnc_cleaner, save_input\n\u001b[1;32m      3\u001b[0m \u001b[38;5;66;03m#Import variables\u001b[39;00m\n\u001b[1;32m      4\u001b[0m \u001b[38;5;28;01mfrom\u001b[39;00m \u001b[38;5;21;01mcommon_functions\u001b[39;00m \u001b[38;5;28;01mimport\u001b[39;00m today_in_nums, errors_list, scraper_pause_mean, judgment_text_lower_bound, default_judgment_counter_bound\n",
      "\u001b[0;31mModuleNotFoundError\u001b[0m: No module named 'common_functions'"
     ]
    }
   ],
   "source": [
    "#Import functions\n",
    "from functions.common_functions import own_account_allowed, convert_df_to_json, convert_df_to_csv, convert_df_to_excel, save_input\n",
    "#Import variables\n",
    "from functions.common_functions import today_in_nums, scraper_pause_mean, judgment_text_lower_bound, default_judgment_counter_bound, no_results_msg"
   ]
  },
  {
   "cell_type": "markdown",
   "id": "4e819e27",
   "metadata": {},
   "source": [
    "# SCTA search engine"
   ]
  },
  {
   "cell_type": "code",
   "execution_count": 3,
   "id": "55cab971-389c-47ed-a636-32d12f113b72",
   "metadata": {},
   "outputs": [
    {
     "ename": "ModuleNotFoundError",
     "evalue": "No module named 'common_functions'",
     "output_type": "error",
     "traceback": [
      "\u001b[0;31m---------------------------------------------------------------------------\u001b[0m",
      "\u001b[0;31mModuleNotFoundError\u001b[0m                       Traceback (most recent call last)",
      "Cell \u001b[0;32mIn[3], line 1\u001b[0m\n\u001b[0;32m----> 1\u001b[0m \u001b[38;5;28;01mfrom\u001b[39;00m \u001b[38;5;21;01mcommon_functions\u001b[39;00m \u001b[38;5;28;01mimport\u001b[39;00m link\n",
      "\u001b[0;31mModuleNotFoundError\u001b[0m: No module named 'common_functions'"
     ]
    }
   ],
   "source": [
    "from functions.common_functions import link"
   ]
  },
  {
   "cell_type": "code",
   "execution_count": 3,
   "id": "f9f2f670-342c-44ab-a87b-58aa2b023b9b",
   "metadata": {},
   "outputs": [],
   "source": [
    "#list of search methods\n",
    "\n",
    "scta_methods_list = ['Full text', 'Titles only', 'This Boolean query', 'Any of these words', 'All of these words']\n",
    "scta_method_types = ['auto', 'title', 'boolean', 'any', 'all']"
   ]
  },
  {
   "cell_type": "code",
   "execution_count": 4,
   "id": "e2a0e86c",
   "metadata": {},
   "outputs": [],
   "source": [
    "#Function turning search terms to search results url\n",
    "\n",
    "#@st.cache_data(show_spinner = False)\n",
    "def scta_search(query= '', \n",
    "              method = ''\n",
    "             ):\n",
    "    base_url = \"https://www.austlii.edu.au/cgi-bin/sinosrch.cgi?\"\n",
    "\n",
    "    method_index = scta_methods_list.index(method)\n",
    "    method_type = scta_method_types[method_index]\n",
    "\n",
    "    query_text = query\n",
    "\n",
    "    params = {#'meta' : ';',\n",
    "              'mask_path' : 'au/cases/cth/SCTA', \n",
    "              'method' : method_type,\n",
    "              'query' : query_text\n",
    "             }\n",
    "    \n",
    "    headers = {'User-Agent': 'whatever'}\n",
    "    response = requests.get(base_url, params=params, headers=headers)\n",
    "\n",
    "    soup = BeautifulSoup(response.content, \"lxml\")\n",
    "    \n",
    "    return {'results_url': response.url, 'soup': soup}"
   ]
  },
  {
   "cell_type": "code",
   "execution_count": 37,
   "id": "c6321d43",
   "metadata": {},
   "outputs": [],
   "source": [
    "#Define function turning search results url to case_link_pairs to judgments\n",
    "\n",
    "#@st.cache_data(show_spinner = False)\n",
    "def scta_search_results_to_case_link_pairs(_soup, url_search_results, judgment_counter_bound):\n",
    "    #_soup, url_search_results are from scta_search\n",
    "\n",
    "    hrefs = _soup.find_all('a', href=True)\n",
    "    case_link_pairs = []\n",
    "\n",
    "    #number of search results\n",
    "    docs_found_string = str(_soup.find('title')).split('AustLII:')[1].split('documents')[0].replace(' ', '').replace(',', '')\n",
    "    docs_found = int(float(docs_found_string))\n",
    "\n",
    "    #Start counter\n",
    "    counter = 1\n",
    "    \n",
    "    for link in hrefs:\n",
    "        if ((counter <= judgment_counter_bound) and (' SCTA ' in str(link)) and ('LawCite' not in str(link))):\n",
    "            case = link.get_text()\n",
    "            link_direct = link.get('href')\n",
    "            link = 'https://www.austlii.edu.au' + link_direct.split('?context')[0]\n",
    "            dict_object = { 'case': case, 'link_direct': link}\n",
    "            case_link_pairs.append(dict_object)\n",
    "            counter = counter + 1\n",
    "        \n",
    "    for ending in range(10, docs_found, 10):\n",
    "        if counter <= min(judgment_counter_bound, docs_found):\n",
    "            url_next_page = url_search_results + ';offset=' + f\"{ending}\"\n",
    "            headers = {'User-Agent': 'whatever'}\n",
    "            page_judgment_next_page = requests.get(url_next_page, headers=headers)\n",
    "            soup_judgment_next_page = BeautifulSoup(page_judgment_next_page.content, \"lxml\")\n",
    "            \n",
    "            hrefs_next_page = soup_judgment_next_page.find_all('a', href=True)\n",
    "            for extra_link in hrefs_next_page:\n",
    "                if ((counter <= judgment_counter_bound) and (' SCTA ' in str(extra_link)) and ('LawCite' not in str(extra_link))):\n",
    "                    case = extra_link.get_text()\n",
    "                    extra_link_direct = extra_link.get('href')\n",
    "                    extra_link = 'https://www.austlii.edu.au' + extra_link_direct.split('?context')[0]\n",
    "                    dict_object = { 'case': case, 'link_direct': extra_link}\n",
    "                    case_link_pairs.append(dict_object)\n",
    "                    counter = counter + 1\n",
    "\n",
    "            pause.seconds(np.random.randint(5, 15))\n",
    "            \n",
    "        else:\n",
    "            break\n",
    "\n",
    "    #Get rid of repetitions\n",
    "    case_link_pairs_no_repeats = []\n",
    "\n",
    "    for case_link_pair in case_link_pairs:\n",
    "        if  case_link_pair not in case_link_pairs_no_repeats:\n",
    "            case_link_pairs_no_repeats.append(case_link_pair)\n",
    "            \n",
    "    return case_link_pairs_no_repeats"
   ]
  },
  {
   "cell_type": "code",
   "execution_count": 41,
   "id": "3a72562c-8dce-4d9e-a2f4-c7a14a5877a2",
   "metadata": {},
   "outputs": [],
   "source": [
    "#Convert case-link pairs to judgment text\n",
    "\n",
    "#@st.cache_data(show_spinner = False)\n",
    "def scta_judgment_text(case_link_pair):\n",
    "    url = case_link_pair['link_direct']\n",
    "    headers = {'User-Agent': 'whatever'}\n",
    "    page = requests.get(url, headers=headers)\n",
    "    soup = BeautifulSoup(page.content, \"lxml\")\n",
    "    text = soup.get_text()\n",
    "    try:\n",
    "        text = soup.get_text().split('Print (pretty)')[0].split('\\n Any \\n')[-1]\n",
    "    except:\n",
    "        pass\n",
    "    \n",
    "    return text\n",
    "        \n"
   ]
  },
  {
   "cell_type": "code",
   "execution_count": 45,
   "id": "86a85223-64ca-4d1b-998c-1c2769c5a3e0",
   "metadata": {},
   "outputs": [],
   "source": [
    "#Meta labels and judgment combined\n",
    "\n",
    "#@st.cache_data(show_spinner = False)\n",
    "def scta_meta_judgment_dict(case_link_pair):\n",
    "    \n",
    "    judgment_dict = {'Case name': '',\n",
    "                     'Medium neutral citation' : '', \n",
    "                     'Other reports': '', \n",
    "                     'Hyperlink to AustLII': '', \n",
    "                     'Date' : '', \n",
    "                     'judgment': ''\n",
    "                    }\n",
    "    try:\n",
    "    \n",
    "        case_name = case_link_pair['case']\n",
    "        date = case_link_pair['case'].split('(')[-1].replace(')', '')\n",
    "        year = case_link_pair['case'].split('[')[1][0:4]\n",
    "        case_number_raw = case_link_pair['case'].split('SCTA ')[1].split(' (')[0]\n",
    "        \n",
    "        if \";\" in case_number_raw:\n",
    "            case_number = case_number_raw.split(';')[0]\n",
    "        else:\n",
    "            case_number = case_number_raw\n",
    "        \n",
    "        mnc = '[' + year +']' + ' SCTA ' + case_number\n",
    "        nr_cite = ''\n",
    "            \n",
    "        try:\n",
    "            case_name = case_link_pair['case'].split('[')[0][:-1]\n",
    "            nr_cite = case_link_pair['case'].split('; ')[1].replace(' (' + date + ')', '')\n",
    "        except:\n",
    "            pass\n",
    "                    \n",
    "        judgment_dict['Case name'] = case_name\n",
    "        judgment_dict['Medium neutral citation'] = mnc\n",
    "        judgment_dict['Other reports'] = nr_cite\n",
    "        judgment_dict['Date'] = date\n",
    "        judgment_dict['Hyperlink to AustLII'] = link(case_link_pair['link_direct'])\n",
    "        judgment_dict['judgment'] = scta_judgment_text(case_link_pair)\n",
    "\n",
    "    except Exception as e:\n",
    "        print(f\"{judgment_dict['Case name']}: judgment not scrapped\")\n",
    "        print(e)\n",
    "    \n",
    "    return judgment_dict"
   ]
  },
  {
   "cell_type": "code",
   "execution_count": null,
   "id": "981d72fc-5eac-462a-9987-6473864ee4db",
   "metadata": {},
   "outputs": [],
   "source": [
    "#@st.cache_data(show_spinner = False)\n",
    "def scta_search_url(df_master):\n",
    "\n",
    "    df_master = df_master.fillna('')\n",
    "    \n",
    "    #Conduct search\n",
    "    \n",
    "    url_soup = scta_search(query= df_master.loc[0, 'Enter search query'],\n",
    "                    method= df_master.loc[0, 'Find (method)']\n",
    "                   )\n",
    "    \n",
    "    return {'results_url': url_soup['results_url'], 'soup': url_soup['soup']}\n",
    "\n"
   ]
  },
  {
   "cell_type": "markdown",
   "id": "f9a2d594",
   "metadata": {},
   "source": [
    "# GPT functions and parameters"
   ]
  },
  {
   "cell_type": "code",
   "execution_count": null,
   "id": "da2db138-2b99-4be8-a9a9-7d6e80758a14",
   "metadata": {
    "lines_to_next_cell": 2
   },
   "outputs": [],
   "source": [
    "#Import functions\n",
    "from functions.gpt_functions import split_by_line, GPT_label_dict, is_api_key_valid, gpt_input_cost, gpt_output_cost, tokens_cap, max_output, num_tokens_from_string, judgment_prompt_json, GPT_json, engage_GPT_json  \n",
    "#Import variables\n",
    "from functions.gpt_functions import question_characters_bound, role_content"
   ]
  },
  {
   "cell_type": "code",
   "execution_count": null,
   "id": "c3751f91-6a65-49b8-b053-cc02e831c271",
   "metadata": {},
   "outputs": [],
   "source": [
    "#For checking questions and answers\n",
    "from functions.common_functions import check_questions_answers\n",
    "\n",
    "from functions.gpt_functions import questions_check_system_instruction, GPT_questions_check, checked_questions_json, answers_check_system_instruction\n",
    "\n"
   ]
  },
  {
   "cell_type": "code",
   "execution_count": null,
   "id": "30996a2d-5df6-460a-a800-da606cadd825",
   "metadata": {},
   "outputs": [],
   "source": [
    "#Jurisdiction specific instruction\n",
    "system_instruction = role_content\n",
    "\n",
    "intro_for_GPT = [{\"role\": \"system\", \"content\": system_instruction}]"
   ]
  },
  {
   "cell_type": "code",
   "execution_count": null,
   "id": "83981e9d",
   "metadata": {},
   "outputs": [],
   "source": [
    "#Obtain parameters\n",
    "\n",
    "@st.cache_data(show_spinner = False, ttl=600)\n",
    "def scta_run(df_master):\n",
    "    df_master = df_master.fillna('')\n",
    "\n",
    "    #Apply split and format functions for headnotes choice, court choice and GPT questions\n",
    "     \n",
    "    df_master['Enter your questions for GPT'] = df_master['Enter your questions for GPT'][0: question_characters_bound].apply(split_by_line)\n",
    "    df_master['questions_json'] = df_master['Enter your questions for GPT'].apply(GPT_label_dict)\n",
    "    \n",
    "    #Create judgments file\n",
    "    judgments_file = []\n",
    "    \n",
    "    #Conduct search\n",
    "\n",
    "    url_soup = scta_search(query= df_master.loc[0, 'Enter search query'], \n",
    "                                   method = df_master.loc[0, 'Find (method)']\n",
    "                                  )\n",
    "\n",
    "    url_search_results = url_soup['results_url']\n",
    "\n",
    "    soup = url_soup['soup']\n",
    "    \n",
    "    judgments_counter_bound = int(df_master.loc[0, 'Maximum number of judgments'])\n",
    "\n",
    "    case_link_pairs = scta_search_results_to_case_link_pairs(soup, url_search_results, judgments_counter_bound)\n",
    "\n",
    "    for case_link_pair in case_link_pairs:\n",
    "\n",
    "        judgment_dict = scta_meta_judgment_dict(case_link_pair)\n",
    "        judgments_file.append(judgment_dict)\n",
    "        pause.seconds(np.random.randint(5, 15))\n",
    "    \n",
    "    #Create and export json file with search results\n",
    "    json_individual = json.dumps(judgments_file, indent=2)\n",
    "    df_individual = pd.read_json(json_individual)\n",
    "\n",
    "    #For SCTA, convert date to string so as to avoid Excel producing random numbers for dates\n",
    "    df_individual['Date'] = df_individual['Date'].astype(str)\n",
    "\n",
    "    #Instruct GPT\n",
    "    \n",
    "    #GPT model\n",
    "\n",
    "    if df_master.loc[0, 'Use flagship version of GPT'] == True:\n",
    "        gpt_model = \"gpt-4o-2024-08-06\"\n",
    "    else:        \n",
    "        gpt_model = \"gpt-4o-mini\"\n",
    "            \n",
    "    #apply GPT_individual to each respondent's judgment spreadsheet\n",
    "    \n",
    "    GPT_activation = int(df_master.loc[0, 'Use GPT'])\n",
    "\n",
    "    questions_json = df_master.loc[0, 'questions_json']\n",
    "            \n",
    "    #Engage GPT\n",
    "    df_updated = engage_GPT_json(questions_json = questions_json, df_example = df_master.loc[0, 'Example'], df_individual = df_individual, GPT_activation = GPT_activation, gpt_model = gpt_model, system_instruction = system_instruction)\n",
    "\n",
    "    df_updated.pop('judgment')\n",
    "    \n",
    "    return df_updated"
   ]
  },
  {
   "cell_type": "code",
   "execution_count": null,
   "id": "dacc31ee",
   "metadata": {},
   "outputs": [],
   "source": []
  }
 ],
 "metadata": {
  "jupytext": {
   "formats": "ipynb,py:percent"
  },
  "kernelspec": {
   "display_name": "Python 3 (ipykernel)",
   "language": "python",
   "name": "python3"
  },
  "language_info": {
   "codemirror_mode": {
    "name": "ipython",
    "version": 3
   },
   "file_extension": ".py",
   "mimetype": "text/x-python",
   "name": "python",
   "nbconvert_exporter": "python",
   "pygments_lexer": "ipython3",
   "version": "3.11.7"
  }
 },
 "nbformat": 4,
 "nbformat_minor": 5
}
