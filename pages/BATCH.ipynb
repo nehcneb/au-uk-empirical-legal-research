{
 "cells": [
  {
   "cell_type": "code",
   "execution_count": 1,
   "id": "e492256b-5aaa-4959-8342-9d9ec6c19f16",
   "metadata": {
    "editable": true,
    "slideshow": {
     "slide_type": ""
    },
    "tags": []
   },
   "outputs": [],
   "source": [
    "#streamlit run Dropbox/Python/GitHub/au-uk-empirical-legal-research-unlimited/BATCH.py"
   ]
  },
  {
   "cell_type": "markdown",
   "id": "0984b066-1f75-4b93-9847-9e7638c7d429",
   "metadata": {
    "editable": true,
    "slideshow": {
     "slide_type": ""
    },
    "tags": []
   },
   "source": [
    "# Preliminaries"
   ]
  },
  {
   "cell_type": "code",
   "execution_count": 1,
   "id": "dbee894d-ed7b-4208-a6bc-cd95e42639f9",
   "metadata": {
    "editable": true,
    "lines_to_next_cell": 2,
    "slideshow": {
     "slide_type": ""
    },
    "tags": []
   },
   "outputs": [],
   "source": [
    "#Preliminary modules\n",
    "#import base64 \n",
    "import json\n",
    "import pandas as pd\n",
    "#import shutil\n",
    "import numpy as np\n",
    "import re\n",
    "import datetime\n",
    "from datetime import date\n",
    "from dateutil import parser\n",
    "from dateutil.relativedelta import *\n",
    "from datetime import datetime, timedelta\n",
    "#import sys\n",
    "#import pause\n",
    "#import requests\n",
    "#from bs4 import BeautifulSoup, SoupStrainer\n",
    "#import httplib2\n",
    "#from urllib.request import urlretrieve\n",
    "import os\n",
    "#import PyPDF2\n",
    "import io\n",
    "from io import BytesIO\n",
    "from io import StringIO\n",
    "#import copy\n",
    "\n",
    "#Streamlit\n",
    "import streamlit as st\n",
    "#from streamlit_gsheets import GSheetsConnection\n",
    "#from streamlit.components.v1 import html\n",
    "import streamlit_ext as ste\n",
    "from streamlit_extras.stylable_container import stylable_container\n",
    "\n",
    "#OpenAI\n",
    "#import openai\n",
    "#import tiktoken\n",
    "\n",
    "#aws\n",
    "import boto3\n",
    "from botocore.config import Config\n",
    "from botocore.exceptions import ClientError\n",
    "\n",
    "#Google\n",
    "#from google.oauth2 import service_account\n",
    "\n",
    "#Excel\n",
    "from pyxlsb import open_workbook as open_xlsb"
   ]
  },
  {
   "cell_type": "code",
   "execution_count": 2,
   "id": "bc236dcb-a17f-40cc-a903-6026e84de575",
   "metadata": {},
   "outputs": [],
   "source": [
    "#Import functions and variables\n",
    "from functions.common_functions import convert_df_to_json, convert_df_to_csv, convert_df_to_excel, today_in_nums\n",
    "\n"
   ]
  },
  {
   "cell_type": "code",
   "execution_count": 3,
   "id": "6a706700-d1c5-4666-bf14-e18d099bde07",
   "metadata": {
    "editable": true,
    "slideshow": {
     "slide_type": ""
    },
    "tags": []
   },
   "outputs": [
    {
     "name": "stderr",
     "output_type": "stream",
     "text": [
      "2024-09-13 17:21:00.210 WARNING streamlit.runtime.scriptrunner_utils.script_run_context: Thread 'MainThread': missing ScriptRunContext! This warning can be ignored when running in bare mode.\n"
     ]
    }
   ],
   "source": [
    "#Title of webpage\n",
    "st.set_page_config(\n",
    "   page_title=\"LawtoData: An Empirical Legal Research Kickstarter\",\n",
    "   page_icon=\"🧊\",\n",
    "   layout=\"centered\",\n",
    "   initial_sidebar_state=\"collapsed\",\n",
    ")"
   ]
  },
  {
   "cell_type": "code",
   "execution_count": 4,
   "id": "cd75f905-c0d8-4209-ae8c-88ff81041053",
   "metadata": {},
   "outputs": [],
   "source": [
    "#Initiate aws s3\n",
    "s3_resource = boto3.resource('s3',region_name=st.secrets[\"aws\"][\"AWS_DEFAULT_REGION\"], aws_access_key_id=st.secrets[\"aws\"][\"AWS_ACCESS_KEY_ID\"], aws_secret_access_key=st.secrets[\"aws\"][\"AWS_SECRET_ACCESS_KEY\"])\n",
    "\n",
    "#Get a list of all files on s3\n",
    "bucket = s3_resource.Bucket('lawtodata')\n",
    "\n",
    "aws_objects = []\n",
    "\n",
    "for obj in bucket.objects.all():\n",
    "    key = obj.key\n",
    "    body = obj.get()['Body'].read()\n",
    "    key_body = {'key': key, 'body': body}\n",
    "    aws_objects.append(key_body)"
   ]
  },
  {
   "cell_type": "code",
   "execution_count": 5,
   "id": "619629f7-a140-48a1-9fe2-1a2b58f2f6b3",
   "metadata": {},
   "outputs": [
    {
     "name": "stdout",
     "output_type": "stream",
     "text": [
      "Succesfully loaded all_df_masters.csv.\n"
     ]
    }
   ],
   "source": [
    "#Get all_df_masters\n",
    "\n",
    "for key_body in aws_objects:\n",
    "    if key_body['key'] == 'all_df_masters.csv':\n",
    "        all_df_masters = pd.read_csv(BytesIO(key_body['body']), index_col=0)\n",
    "        print(f\"Succesfully loaded {key_body['key']}.\")\n",
    "        break"
   ]
  },
  {
   "cell_type": "code",
   "execution_count": 9,
   "id": "e87dbc1a-7026-42bd-bad6-d025adc2b345",
   "metadata": {},
   "outputs": [],
   "source": [
    "#Define function to check if email matches with batch_id\n",
    "\n",
    "def check_email_batch_id(df, email, batch_id):\n",
    "    \n",
    "    value = False\n",
    "    \n",
    "    try:\n",
    "        batch_index = df.index[df['batch_id'] == batch_id].tolist()[0]\n",
    "        correct_email = df.loc[batch_index, 'Your email address']\n",
    "        if email.lower() == correct_email.lower():\n",
    "            value = True\n",
    "    except:\n",
    "        print(f'Email does not match with batch_id.')\n",
    "\n",
    "    return value\n",
    "\n"
   ]
  },
  {
   "cell_type": "code",
   "execution_count": null,
   "id": "3c4f963b-fccc-4527-a87d-581237071158",
   "metadata": {
    "lines_to_next_cell": 2
   },
   "outputs": [],
   "source": [
    "#Initialise \n",
    "\n",
    "if 'df_master' not in st.session_state:\n",
    "\n",
    "    #Generally applicable\n",
    "    st.session_state['df_master'] = pd.DataFrame([])\n",
    "    st.session_state['df_master'].loc[0, 'Your name'] = ''\n",
    "    st.session_state['df_master'].loc[0, 'Your email address'] = ''\n",
    "    st.session_state['df_master'].loc[0, 'Your GPT API key'] = ''\n",
    "    st.session_state['df_master'].loc[0, 'Use own account'] = False\n",
    "    st.session_state['df_master'].loc[0, 'Use flagship version of GPT'] = False\n",
    "    st.session_state['df_master'].loc[0, 'batch_id'] = ''\n",
    "\n",
    "if 'df_individual' not in st.session_state:\n",
    "\n",
    "    st.session_state['df_individual'] = pd.DataFrame([])\n",
    "\n",
    "if 'match_status' not in st.session_state:\n",
    "\n",
    "    st.session_state['match_status'] = False"
   ]
  },
  {
   "cell_type": "markdown",
   "id": "4a7b0ca1-43d5-45fa-800e-30862b453e63",
   "metadata": {},
   "source": [
    "# Streamlit page"
   ]
  },
  {
   "cell_type": "code",
   "execution_count": null,
   "id": "850ebb7c-e52b-411c-87e4-3de0ff685095",
   "metadata": {
    "lines_to_next_cell": 2
   },
   "outputs": [],
   "source": [
    "st.title(\":blue[LawtoData]\")\n",
    "\n",
    "st.subheader(\"An Empirical Legal Research Kickstarter\")\n",
    "\n",
    "st.write('Thank you for using *LawtoData*! Please enter your nominated email address and access code to retrieve your requested data.')\n",
    "\n",
    "st.write('Your access code can be found in the email notifying you of the availability of your requested data.')\n",
    "\n",
    "email_entry = st.text_input(label = 'Email address', value = st.session_state['df_master'].loc[0, 'Your email address'])\n",
    "\n",
    "#if email_entry:\n",
    "    #st.session_state['df_master'].loc[0, 'Your email address'] = email_entry\n",
    "\n",
    "batch_code_entry = st.text_input(label = 'Access code', value = st.session_state['df_master'].loc[0, 'batch_id'])\n",
    "\n",
    "#if batch_code_entry:\n",
    "    #st.session_state['df_master'].loc[0, 'batch_id'] = batch_code_entry\n",
    "\n",
    "with stylable_container(\n",
    "    \"green\",\n",
    "    css_styles=\"\"\"\n",
    "    button {\n",
    "        background-color: #00FF00;\n",
    "        color: black;\n",
    "    }\"\"\",\n",
    "):\n",
    "    retrive_button = st.button(label = 'RETRIVE data')"
   ]
  },
  {
   "cell_type": "markdown",
   "id": "a1b600c3-e4e5-45b3-b153-f4c6e1efcfa3",
   "metadata": {},
   "source": [
    "# Retrieve"
   ]
  },
  {
   "cell_type": "code",
   "execution_count": null,
   "id": "b55483cb-abfc-4e3d-a8b0-2be9b2a543c3",
   "metadata": {},
   "outputs": [],
   "source": [
    "if retrive_button:\n",
    "    if not (batch_code_entry and email_entry):\n",
    "        st.warning('Please enter your nominated email address and access code.')\n",
    "        quit()\n",
    "    else:\n",
    "        st.session_state['df_master'].loc[0, 'Your email address'] = email_entry\n",
    "        st.session_state['df_master'].loc[0, 'batch_id'] = batch_code_entry\n",
    "        \n",
    "        st.session_state['match_status'] = check_email_batch_id(all_df_masters, email_entry, batch_code_entry)\n",
    "\n",
    "    if st.session_state['match_status'] == False:\n",
    "        \n",
    "        st.error('Your nominated email address or access code is not correct.')\n",
    "        quit()\n",
    "        \n",
    "    else:\n",
    "        #Get relevant df_individual\n",
    "        for key_body in aws_objects:\n",
    "            if key_body['key'] == f'{batch_code_entry}.csv':\n",
    "                df_individual = pd.read_csv(BytesIO(key_body['body']), index_col=0)\n",
    "                st.session_state.df_individual = df_individual\n",
    "                print(f\"Succesfully loaded {key_body['key']}.\")\n",
    "                break\n",
    "    \n",
    "    if len(st.session_state.df_individual) > 0:\n",
    "    \n",
    "        st.session_state[\"page_from\"] = 'pages/BATCH.py'           \n",
    "    \n",
    "        #Write results\n",
    "    \n",
    "        st.success(\"Your data is now available for download. Thank you for using LawtoData!\")\n",
    "    \n",
    "        batch_index = all_df_masters.index[all_df_masters['batch_id'] == batch_code_entry].tolist()[0]\n",
    "        \n",
    "        #Button for downloading results\n",
    "        output_name = str(all_df_masters.loc[batch_index, 'Your name']) + '_' + str(today_in_nums) + '_results'\n",
    "    \n",
    "        csv_output = convert_df_to_csv(df_individual)\n",
    "        \n",
    "        ste.download_button(\n",
    "            label=\"Download your data as a CSV (for use in Excel etc)\", \n",
    "            data = csv_output,\n",
    "            file_name= output_name + '.csv', \n",
    "            mime= \"text/csv\", \n",
    "    #            key='download-csv'\n",
    "        )\n",
    "    \n",
    "        excel_xlsx = convert_df_to_excel(df_individual)\n",
    "        \n",
    "        ste.download_button(label='Download your data as an Excel spreadsheet (XLSX)',\n",
    "                            data=excel_xlsx,\n",
    "                            file_name= output_name + '.xlsx', \n",
    "                            mime='application/vnd.ms-excel',\n",
    "                           )\n",
    "    \n",
    "        json_output = convert_df_to_json(df_individual)\n",
    "        \n",
    "        ste.download_button(\n",
    "            label=\"Download your data as a JSON\", \n",
    "            data = json_output,\n",
    "            file_name= output_name + '.json', \n",
    "            mime= \"application/json\", \n",
    "        )\n",
    "    \n",
    "        st.page_link('pages/AI.py', label=\"ANALYSE your data with an AI\", icon = '🤔')        "
   ]
  },
  {
   "cell_type": "code",
   "execution_count": null,
   "id": "0c68ee0c-78d1-4e2a-a337-0f1c51abe11d",
   "metadata": {
    "lines_to_next_cell": 2
   },
   "outputs": [],
   "source": []
  }
 ],
 "metadata": {
  "kernelspec": {
   "display_name": "Python 3 (ipykernel)",
   "language": "python",
   "name": "python3"
  },
  "language_info": {
   "codemirror_mode": {
    "name": "ipython",
    "version": 3
   },
   "file_extension": ".py",
   "mimetype": "text/x-python",
   "name": "python",
   "nbconvert_exporter": "python",
   "pygments_lexer": "ipython3",
   "version": "3.11.7"
  }
 },
 "nbformat": 4,
 "nbformat_minor": 5
}
