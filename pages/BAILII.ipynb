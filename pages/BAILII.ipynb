{
 "cells": [
  {
   "cell_type": "markdown",
   "id": "c3b8b879",
   "metadata": {},
   "source": [
    "# Preliminaries"
   ]
  },
  {
   "cell_type": "code",
   "execution_count": 1,
   "id": "f2312235",
   "metadata": {},
   "outputs": [],
   "source": [
    "#Preliminary modules\n",
    "import base64 \n",
    "import json\n",
    "import pandas as pd\n",
    "import shutil\n",
    "import numpy as np\n",
    "import re\n",
    "import datetime\n",
    "from datetime import date\n",
    "from dateutil import parser\n",
    "#from dateutil.relativedelta import *\n",
    "from datetime import datetime, timedelta\n",
    "import sys\n",
    "import pause\n",
    "import requests\n",
    "from bs4 import BeautifulSoup, SoupStrainer\n",
    "import httplib2\n",
    "from urllib.request import urlretrieve\n",
    "import os\n",
    "from io import BytesIO\n",
    "import traceback\n",
    "\n",
    "#Streamlit\n",
    "import streamlit as st\n",
    "#from streamlit_gsheets import GSheetsConnection\n",
    "from streamlit.components.v1 import html\n",
    "#import streamlit_ext as ste\n",
    "from streamlit_extras.stylable_container import stylable_container\n",
    "\n",
    "#OpenAI\n",
    "import openai\n",
    "import tiktoken\n",
    "\n",
    "#Google\n",
    "#from google.oauth2 import service_account\n",
    "\n",
    "#Excel\n",
    "from pyxlsb import open_workbook as open_xlsb"
   ]
  },
  {
   "cell_type": "code",
   "execution_count": 2,
   "id": "2790eb5a-6de3-4548-89c7-902015d5ec10",
   "metadata": {
    "lines_to_next_cell": 2
   },
   "outputs": [
    {
     "ename": "ModuleNotFoundError",
     "evalue": "No module named 'common_functions'",
     "output_type": "error",
     "traceback": [
      "\u001b[0;31m---------------------------------------------------------------------------\u001b[0m",
      "\u001b[0;31mModuleNotFoundError\u001b[0m                       Traceback (most recent call last)",
      "Cell \u001b[0;32mIn[2], line 2\u001b[0m\n\u001b[1;32m      1\u001b[0m \u001b[38;5;66;03m#Import functions\u001b[39;00m\n\u001b[0;32m----> 2\u001b[0m \u001b[38;5;28;01mfrom\u001b[39;00m \u001b[38;5;21;01mcommon_functions\u001b[39;00m \u001b[38;5;28;01mimport\u001b[39;00m own_account_allowed, convert_df_to_json, convert_df_to_csv, convert_df_to_excel, mnc_cleaner, list_range_check, au_date\n\u001b[1;32m      3\u001b[0m \u001b[38;5;66;03m#Import variables\u001b[39;00m\n\u001b[1;32m      4\u001b[0m \u001b[38;5;28;01mfrom\u001b[39;00m \u001b[38;5;21;01mcommon_functions\u001b[39;00m \u001b[38;5;28;01mimport\u001b[39;00m today_in_nums, errors_list, scraper_pause_mean, judgment_text_lower_bound\n",
      "\u001b[0;31mModuleNotFoundError\u001b[0m: No module named 'common_functions'"
     ]
    }
   ],
   "source": [
    "#Import functions\n",
    "from functions.common_functions import own_account_allowed, convert_df_to_json, convert_df_to_csv, convert_df_to_excel, date_parser, save_input, search_error_display, display_df, download_buttons, list_value_check, report_error\n",
    "#Import variables\n",
    "from functions.common_functions import today_in_nums, errors_list, scraper_pause_mean, judgment_text_lower_bound, default_judgment_counter_bound, no_results_msg"
   ]
  },
  {
   "cell_type": "markdown",
   "id": "4e819e27",
   "metadata": {},
   "source": [
    "# BAILII search engine"
   ]
  },
  {
   "cell_type": "code",
   "execution_count": null,
   "id": "b22a71aa-767c-4ac5-b9ab-cad0f94e5999",
   "metadata": {},
   "outputs": [],
   "source": [
    "from functions.bailii_functions import bailii_sort_dict, bailii_highlight_dict, bailii_courts_default_list, bailii_courts_list, bailii_search_tool, bailii_search_url"
   ]
  },
  {
   "cell_type": "code",
   "execution_count": 2,
   "id": "0f841231-e0ad-4647-b5c2-244594a4cc51",
   "metadata": {},
   "outputs": [],
   "source": [
    "#function to create dataframe\n",
    "def bailii_create_df():\n",
    "\n",
    "    #submission time\n",
    "    timestamp = datetime.now()\n",
    "\n",
    "    #Personal info entries\n",
    "\n",
    "    name = ''\n",
    "    \n",
    "    email = ''\n",
    "\n",
    "    gpt_api_key = ''\n",
    "\n",
    "    try:\n",
    "        name = name_entry\n",
    "    except:\n",
    "        print('Name not entered')\n",
    "    \n",
    "    try:\n",
    "        email = email_entry\n",
    "    except:\n",
    "        print('Email not entered')\n",
    "\n",
    "    try:\n",
    "        gpt_api_key = gpt_api_key_entry\n",
    "    except:\n",
    "        print('API key not entered')\n",
    "        \n",
    "    #Own account status\n",
    "    own_account = st.session_state.own_account\n",
    "    \n",
    "    #Judgment counter bound\n",
    "    try:\n",
    "        judgments_counter_bound = judgments_counter_bound_entry\n",
    "    except:\n",
    "        print('judgments_counter_bound not entered')\n",
    "        judgments_counter_bound = default_judgment_counter_bound\n",
    "\n",
    "    #GPT enhancement\n",
    "    try:\n",
    "        gpt_enhancement = gpt_enhancement_entry\n",
    "    except:\n",
    "        print('GPT enhancement not entered')\n",
    "        gpt_enhancement = False\n",
    "            \n",
    "    #Textual entries text\n",
    "\n",
    "    citation = citation_entry\n",
    "    \n",
    "    case_name = case_name_entry\n",
    "\n",
    "    all_of_these_words = all_of_these_words_entry\n",
    "        \n",
    "    exact_phrase = exact_phrase_entry\n",
    "    \n",
    "    any_of_these_words = any_of_these_words_entry\n",
    "    \n",
    "    advanced_query = advanced_query_entry\n",
    "    \n",
    "    #dates        \n",
    "    from_date = from_date_entry\n",
    "    \n",
    "    to_date = to_date_entry\n",
    "    \n",
    "    sortby = sortby_entry\n",
    "    \n",
    "    highlight = highlight_entry\n",
    "    \n",
    "    #Courts\n",
    "    courts_list = courts_entry\n",
    "\n",
    "    #GPT choice and entry\n",
    "    try:\n",
    "        gpt_activation_status = gpt_activation_entry\n",
    "    except:\n",
    "        gpt_activation_status = False\n",
    "    \n",
    "    gpt_questions = ''\n",
    "    \n",
    "    try:\n",
    "        gpt_questions = gpt_questions_entry[0: question_characters_bound]\n",
    "    \n",
    "    except:\n",
    "        print('GPT questions not entered.')\n",
    "        \n",
    "    #metadata choice\n",
    "\n",
    "    meta_data_choice = meta_data_entry\n",
    "    \n",
    "    new_row = {'Processed': '',\n",
    "           'Timestamp': timestamp,\n",
    "           'Your name': name, \n",
    "           'Your email address': email, \n",
    "           'Your GPT API key': gpt_api_key, \n",
    "            'Citation': citation,\n",
    "            'Case name': case_name,\n",
    "            'All of these words': all_of_these_words,\n",
    "            'Exact phrase': exact_phrase,\n",
    "            'Any of these words': any_of_these_words,\n",
    "            'Advanced query': advanced_query,\n",
    "            'From date': from_date,\n",
    "            'To date': to_date,\n",
    "            'Sort results by': sortby,\n",
    "            'Highlight search terms in result': highlight,\n",
    "            'Courts' : courts_list, \n",
    "            'Metadata inclusion' : meta_data_choice,\n",
    "           'Maximum number of judgments': judgments_counter_bound, \n",
    "           'Enter your questions for GPT': gpt_questions, \n",
    "            'Use GPT': gpt_activation_status, \n",
    "          'Use own account': own_account,\n",
    "            'Use flagship version of GPT' : gpt_enhancement\n",
    "          }\n",
    "\n",
    "    df_master_new = pd.DataFrame([new_row])\n",
    "\n",
    "    return df_master_new"
   ]
  },
  {
   "cell_type": "markdown",
   "id": "f9a2d594",
   "metadata": {},
   "source": [
    "# GPT functions and parameters"
   ]
  },
  {
   "cell_type": "code",
   "execution_count": 9,
   "id": "c19fca0c-c315-45ce-b07a-f3cfc9950737",
   "metadata": {
    "lines_to_next_cell": 2
   },
   "outputs": [
    {
     "ename": "ModuleNotFoundError",
     "evalue": "No module named 'gpt_functions'",
     "output_type": "error",
     "traceback": [
      "\u001b[0;31m---------------------------------------------------------------------------\u001b[0m",
      "\u001b[0;31mModuleNotFoundError\u001b[0m                       Traceback (most recent call last)",
      "Cell \u001b[0;32mIn[9], line 2\u001b[0m\n\u001b[1;32m      1\u001b[0m \u001b[38;5;66;03m#Import functions\u001b[39;00m\n\u001b[0;32m----> 2\u001b[0m \u001b[38;5;28;01mfrom\u001b[39;00m \u001b[38;5;21;01mgpt_functions\u001b[39;00m \u001b[38;5;28;01mimport\u001b[39;00m split_by_line, GPT_label_dict, is_api_key_valid, gpt_input_cost, gpt_output_cost, tokens_cap, max_output, num_tokens_from_string, judgment_prompt_json, GPT_json, engage_GPT_json  \n\u001b[1;32m      3\u001b[0m \u001b[38;5;66;03m#Import variables\u001b[39;00m\n\u001b[1;32m      4\u001b[0m \u001b[38;5;28;01mfrom\u001b[39;00m \u001b[38;5;21;01mgpt_functions\u001b[39;00m \u001b[38;5;28;01mimport\u001b[39;00m question_characters_bound, default_judgment_counter_bound, role_content\u001b[38;5;66;03m#, intro_for_GPT\u001b[39;00m\n",
      "\u001b[0;31mModuleNotFoundError\u001b[0m: No module named 'gpt_functions'"
     ]
    }
   ],
   "source": [
    "#Import functions\n",
    "from functions.gpt_functions import split_by_line, GPT_label_dict, is_api_key_valid, gpt_input_cost, gpt_output_cost, tokens_cap, max_output, num_tokens_from_string, judgment_prompt_json, GPT_json, engage_GPT_json  \n",
    "#Import variables\n",
    "from functions.gpt_functions import question_characters_bound, default_msg, default_caption, basic_model, flagship_model"
   ]
  },
  {
   "cell_type": "code",
   "execution_count": null,
   "id": "809fd5a6-dd7a-42ee-9992-400d9b23909e",
   "metadata": {},
   "outputs": [],
   "source": [
    "#For checking questions and answers\n",
    "from functions.common_functions import check_questions_answers\n",
    "\n",
    "from functions.gpt_functions import questions_check_system_instruction, GPT_questions_check, checked_questions_json, answers_check_system_instruction\n",
    "\n"
   ]
  },
  {
   "cell_type": "code",
   "execution_count": null,
   "id": "a03e8eaf",
   "metadata": {
    "lines_to_next_cell": 2
   },
   "outputs": [],
   "source": [
    "#Initialize default GPT settings\n",
    "\n",
    "if 'gpt_model' not in st.session_state:\n",
    "    st.session_state['gpt_model'] = basic_model\n",
    "    \n",
    "#Initialize API key\n",
    "if 'gpt_api_key' not in st.session_state:\n",
    "\n",
    "    from functions.common_functions import API_key\n",
    "\n",
    "    st.session_state['gpt_api_key'] = API_key\n",
    "    "
   ]
  },
  {
   "cell_type": "markdown",
   "id": "63d5dcd6",
   "metadata": {},
   "source": [
    "# Streamlit form, functions and parameters"
   ]
  },
  {
   "cell_type": "code",
   "execution_count": null,
   "id": "9db2c1c8",
   "metadata": {
    "lines_to_next_cell": 2
   },
   "outputs": [],
   "source": [
    "#Import functions and variables\n",
    "from functions.common_functions import open_page, clear_cache_except_validation_df_master, tips"
   ]
  },
  {
   "cell_type": "markdown",
   "id": "f3b36918-83c1-44dc-b3d2-520630758e05",
   "metadata": {},
   "source": [
    "## Initialize session states"
   ]
  },
  {
   "cell_type": "code",
   "execution_count": null,
   "id": "687b6160-1b8d-45c4-9749-cd8f414f5884",
   "metadata": {
    "lines_to_next_cell": 2
   },
   "outputs": [],
   "source": [
    "#Initialize default values\n",
    "\n",
    "if 'gpt_api_key_validity' not in st.session_state:\n",
    "    st.session_state['gpt_api_key_validity'] = False\n",
    "\n",
    "if 'own_account' not in st.session_state:\n",
    "    st.session_state['own_account'] = False\n",
    "\n",
    "if 'need_resetting' not in st.session_state:\n",
    "        \n",
    "    st.session_state['need_resetting'] = 0\n",
    "\n",
    "if 'df_individual_output' not in st.session_state:\n",
    "\n",
    "    st.session_state['df_individual_output'] = pd.DataFrame([])\n",
    "    \n",
    "#Disable toggles\n",
    "if 'disable_input' not in st.session_state:\n",
    "    st.session_state[\"disable_input\"] = True\n",
    "\n",
    "if 'df_master' not in st.session_state:\n",
    "\n",
    "    #Generally applicable\n",
    "    df_master_dict = {'Your name' : '', \n",
    "    'Your email address' : '', \n",
    "    'Your GPT API key' : '', \n",
    "    'Metadata inclusion' : True, \n",
    "    'Maximum number of judgments' : default_judgment_counter_bound, \n",
    "    'Enter your questions for GPT' : '', \n",
    "    'Use GPT' : False, \n",
    "    'Use own account' : False, \n",
    "    'Use flagship version of GPT' : False,\n",
    "    'Example' : ''\n",
    "    }\n",
    "\n",
    "    #Jurisdiction specific\n",
    "    jurisdiction_specific_dict = {\n",
    "    'Citation': None,\n",
    "    'Case name': None,\n",
    "    'All of these words': None,\n",
    "    'Exact phrase': None,\n",
    "    'Any of these words': None,\n",
    "    'Advanced query': None,\n",
    "    'From date': None,\n",
    "    'To date': None,\n",
    "    'Sort results by': list(bailii_sort_dict.keys())[0],\n",
    "    'Highlight search terms in result': True,\n",
    "    'Courts': []\n",
    "    }\n",
    "\n",
    "    #Make into  df\n",
    "    df_master_dict.update(jurisdiction_specific_dict)\n",
    "    \n",
    "    st.session_state['df_master'] = pd.DataFrame([df_master_dict])\n",
    "\n",
    "#Initialise jurisdiction_page\n",
    "if 'jurisdiction_page' not in st.session_state:\n",
    "    st.session_state['jurisdiction_page'] = 'pages/BAILII.py'\n",
    "\n",
    "#Initialise error reporting status\n",
    "if 'error_msg' not in st.session_state:\n",
    "    st.session_state['error_msg'] = ''"
   ]
  },
  {
   "cell_type": "code",
   "execution_count": null,
   "id": "21b0fd02-45fc-448b-8595-df6b28b0cbd1",
   "metadata": {},
   "outputs": [],
   "source": [
    "#If landing page is not home\n",
    "if 'page_from' not in st.session_state:\n",
    "    st.session_state['page_from'] = 'Home.py'"
   ]
  },
  {
   "cell_type": "markdown",
   "id": "d821de9f-8f64-4b49-998d-c67d2de32f42",
   "metadata": {},
   "source": [
    "## Form before AI"
   ]
  },
  {
   "cell_type": "code",
   "execution_count": null,
   "id": "c683d9af",
   "metadata": {
    "lines_to_next_cell": 2
   },
   "outputs": [],
   "source": [
    "#if st.session_state.page_from != \"pages/BAILII.py\": #Need to add in order to avoid GPT page from showing form of previous page\n",
    "\n",
    "#Create form for court selection\n",
    "\n",
    "return_button = st.button('RETURN to first page')\n",
    "\n",
    "st.header(f\"Search :blue[cases from England and Wales]\")\n",
    "\n",
    "st.success(default_msg)\n",
    "\n",
    "st.caption(default_caption)\n",
    "\n",
    "reset_button = st.button(label='RESET', type = 'primary')\n",
    "\n",
    "st.subheader(\"Courts to cover\")\n",
    "\n",
    "default_on = st.button('ADD the House of Lords, the Supreme Court, the Privy Council, the Court of Appeal & the High Court', help = 'You may need to press :red[RESET] to add these courts.')\n",
    "\n",
    "if default_on:\n",
    "    \n",
    "    if isinstance(st.session_state['df_master'].loc[0, 'Courts'], list):\n",
    "        for court in bailii_courts_default_list:\n",
    "            if court not in st.session_state['df_master'].loc[0, 'Courts']:\n",
    "                st.session_state['df_master'].loc[0, 'Courts'].append(court)\n",
    "    else:\n",
    "        st.session_state['df_master']['Courts'] = st.session_state['df_master']['Courts'].astype('object')\n",
    "        st.session_state['df_master'].at[0, 'Courts'] = bailii_courts_default_list\n",
    "\n",
    "courts_entry = st.multiselect(label = 'Select or type in the courts to search', options = bailii_courts_list, default = st.session_state['df_master'].loc[0, 'Courts'])\n",
    "\n",
    "#st.caption(\"All courts and tribunals listed in this menu will be covered if left blank.\")\n",
    "\n",
    "#Search terms\n",
    "\n",
    "st.subheader(\"Your search terms\")\n",
    "\n",
    "st.markdown(\"\"\"For search tips, please visit [BAILII](https://www.bailii.org/form/search_cases.html). This section mimics their case law search function.\n",
    "\"\"\")\n",
    "\n",
    "citation_entry = st.text_input(label = 'Citation', value = st.session_state.df_master.loc[0, 'Citation'], help = 'e.g. [2000] 1 AC 360')\n",
    "\n",
    "case_name_entry = st.text_input(label = 'Case name', value = st.session_state.df_master.loc[0, 'Case name'], help = 'e.g. barber v somerset')\n",
    "\n",
    "all_of_these_words_entry = st.text_input(label = 'All of these words', value = st.session_state.df_master.loc[0, 'All of these words'], help = 'e.g. breach fiduciary duty')\n",
    "\n",
    "exact_phrase_entry = st.text_input(label = 'Exact phrase', value = st.session_state.df_master.loc[0, 'Exact phrase'], help = 'e.g. parliamentary sovereignty')\n",
    "\n",
    "any_of_these_words_entry = st.text_input(label = 'Any of these words', value = st.session_state.df_master.loc[0, 'Any of these words'], help = 'e.g. waste pollution radiation')\n",
    "\n",
    "advanced_query_entry = st.text_input(label = 'Advanced query [(help)](https://www.bailii.org/bailii/help/advanced_query.html)', value = st.session_state.df_master.loc[0, 'Advanced query'], help = 'e.g. pollut* and (nuclear or radioactiv*)')\n",
    "#st.write('')\n",
    "\n",
    "date_col1, date_col2 = st.columns(2)\n",
    "\n",
    "with date_col1:\n",
    "\n",
    "    from_date_entry = st.date_input('From date', value = date_parser(st.session_state.df_master.loc[0, 'From date']), format=\"DD/MM/YYYY\", min_value = date(1900, 1, 1), max_value = datetime.now(), help = \"If you cannot change this date entry, please press :red[RESET] and try again.\")\n",
    "\n",
    "with date_col2:\n",
    "\n",
    "    to_date_entry = st.date_input('To date', value = date_parser(st.session_state.df_master.loc[0, 'To date']), format=\"DD/MM/YYYY\", min_value = date(1900, 1, 1), max_value = datetime.now(), help = \"If you cannot change this date entry, please press :red[RESET] and try again.\")\n",
    "\n",
    "sortby_entry = st.selectbox(label = 'Sort results by', \n",
    "                                      options = [*bailii_sort_dict.keys()], \n",
    "                                    index = list_value_check([*bailii_sort_dict.keys()], st.session_state['df_master'].loc[0, \"Sort results by\"]), \n",
    "                                    )\n",
    "\n",
    "highlight_entry = st.checkbox(label = 'Highlight search terms in result', value = st.session_state['df_master'].loc[0, \"Highlight search terms in result\"])\n",
    "\n",
    "st.subheader(\"Judgment metadata collection\")\n",
    "\n",
    "st.markdown(\"\"\"Would you like to obtain judgment metadata? Such data include the judge(s), the parties and so on. \n",
    "\n",
    "You will always obtain case names and medium neutral citations.\n",
    "\"\"\")\n",
    "\n",
    "meta_data_entry = st.checkbox('Include metadata', value = st.session_state['df_master'].loc[0, 'Metadata inclusion'])\n",
    "\n",
    "st.info(\"\"\"You can preview the results returned by your search terms.\"\"\")\n",
    "\n",
    "with stylable_container(\n",
    "    \"purple\",\n",
    "    css_styles=\"\"\"\n",
    "    button {\n",
    "        background-color: purple;\n",
    "        color: white;\n",
    "    }\"\"\",\n",
    "):\n",
    "    preview_button = st.button(label = 'PREVIEW')"
   ]
  },
  {
   "cell_type": "markdown",
   "id": "75f2eb44-bbb3-44e5-86ef-3f1cb6f17fe7",
   "metadata": {},
   "source": [
    "## Preview"
   ]
  },
  {
   "cell_type": "code",
   "execution_count": 13,
   "id": "ab654f62-c6ca-4dbb-9f13-a5d700da2034",
   "metadata": {},
   "outputs": [],
   "source": [
    "if preview_button:\n",
    "    \n",
    "    all_search_terms = str(citation_entry) + str(case_name_entry) + str(all_of_these_words_entry) + str(exact_phrase_entry) + str(any_of_these_words_entry) + str(advanced_query_entry) + str(from_date_entry) + str(to_date_entry)\n",
    "    \n",
    "    if all_search_terms.replace('None', '') == \"\":\n",
    "\n",
    "        st.warning('You must enter some search terms.')\n",
    "\n",
    "    elif len(courts_entry) == 0:\n",
    "        \n",
    "        st.warning('Please select at least one court to cover.')\n",
    "    \n",
    "    else:\n",
    "        \n",
    "        with st.spinner(r\"$\\textsf{\\normalsize Getting your search results...}$\"):\n",
    "\n",
    "            try:\n",
    "                \n",
    "                df_master = bailii_create_df()\n",
    "                \n",
    "                search_results_w_count = bailii_search_url(df_master)\n",
    "                \n",
    "                results_count = search_results_w_count['results_count']\n",
    "            \n",
    "                results_url = search_results_w_count['results_url']\n",
    "        \n",
    "                case_infos = search_results_w_count['case_infos']\n",
    "            \n",
    "                if results_count > 0:\n",
    "                \n",
    "                    df_preview = pd.DataFrame(case_infos)\n",
    "            \n",
    "                    #Get display settings\n",
    "                    display_df_dict = display_df(df_preview)\n",
    "            \n",
    "                    df_preview = display_df_dict['df']\n",
    "            \n",
    "                    link_heading_config = display_df_dict['link_heading_config']\n",
    "                        \n",
    "                    #Display search results\n",
    "                    st.success(f'Your search terms returned {results_count} result(s). Please see below for the top {min(results_count, default_judgment_counter_bound)} result(s).')\n",
    "                                \n",
    "                    st.dataframe(df_preview.head(default_judgment_counter_bound),  column_config=link_heading_config)\n",
    "                \n",
    "                else:\n",
    "        \n",
    "                    st.error(no_results_msg)\n",
    "\n",
    "            except Exception as e:\n",
    "\n",
    "                st.error(search_error_display)\n",
    "                \n",
    "                print(traceback.format_exc())\n",
    "\n",
    "                st.session_state['error_msg'] = traceback.format_exc()\n",
    "\n"
   ]
  },
  {
   "cell_type": "markdown",
   "id": "d8c58a4b-c7b2-45b0-973d-f5e113384a1e",
   "metadata": {},
   "source": [
    "## Buttons"
   ]
  },
  {
   "cell_type": "code",
   "execution_count": 1,
   "id": "5428b07e-fe2e-4854-88a1-d216fd143912",
   "metadata": {
    "lines_to_next_cell": 2
   },
   "outputs": [
    {
     "ename": "NameError",
     "evalue": "name 'st' is not defined",
     "output_type": "error",
     "traceback": [
      "\u001b[0;31m---------------------------------------------------------------------------\u001b[0m",
      "\u001b[0;31mNameError\u001b[0m                                 Traceback (most recent call last)",
      "Cell \u001b[0;32mIn[1], line 3\u001b[0m\n\u001b[1;32m      1\u001b[0m \u001b[38;5;66;03m#Buttons\u001b[39;00m\n\u001b[0;32m----> 3\u001b[0m col1, col2, col3, col4 \u001b[38;5;241m=\u001b[39m \u001b[43mst\u001b[49m\u001b[38;5;241m.\u001b[39mcolumns(\u001b[38;5;241m4\u001b[39m, gap \u001b[38;5;241m=\u001b[39m \u001b[38;5;124m'\u001b[39m\u001b[38;5;124msmall\u001b[39m\u001b[38;5;124m'\u001b[39m)\n\u001b[1;32m      5\u001b[0m \u001b[38;5;28;01mwith\u001b[39;00m col1:\n\u001b[1;32m      6\u001b[0m     keep_button \u001b[38;5;241m=\u001b[39m st\u001b[38;5;241m.\u001b[39mbutton(\u001b[38;5;124m'\u001b[39m\u001b[38;5;124mSAVE\u001b[39m\u001b[38;5;124m'\u001b[39m)\n",
      "\u001b[0;31mNameError\u001b[0m: name 'st' is not defined"
     ]
    }
   ],
   "source": [
    "#Buttons\n",
    "\n",
    "#col1, col2, col3, col4 = st.columns(4, gap = 'small')\n",
    "\n",
    "#with col1:\n",
    "\n",
    "    #reset_button = st.button(label='RESET', type = 'primary')\n",
    "\n",
    "#with col4:\n",
    "with stylable_container(\n",
    "    \"green\",\n",
    "    css_styles=\"\"\"\n",
    "    button {\n",
    "        background-color: #00FF00;\n",
    "        color: black;\n",
    "    }\"\"\",\n",
    "):\n",
    "    next_button = st.button(label='NEXT')\n",
    "\n",
    "keep_button = st.button('SAVE')"
   ]
  },
  {
   "cell_type": "markdown",
   "id": "9f6f71a3",
   "metadata": {},
   "source": [
    "# Save and run"
   ]
  },
  {
   "cell_type": "code",
   "execution_count": null,
   "id": "4873fffb",
   "metadata": {
    "lines_to_next_cell": 2
   },
   "outputs": [],
   "source": [
    "if keep_button:\n",
    "\n",
    "    all_search_terms = str(citation_entry) + str(case_name_entry) + str(all_of_these_words_entry) + str(exact_phrase_entry) + str(any_of_these_words_entry) + str(advanced_query_entry) + str(from_date_entry) + str(to_date_entry)\n",
    "        \n",
    "    if all_search_terms.replace('None', '') == \"\":\n",
    "\n",
    "        st.warning('You must enter some search terms.')\n",
    "\n",
    "    elif len(courts_entry) == 0:\n",
    "        \n",
    "        st.warning('Please select at least one court to cover.')\n",
    "            \n",
    "    else:\n",
    "                            \n",
    "        df_master = bailii_create_df()\n",
    "        \n",
    "        save_input(df_master)\n",
    "    \n",
    "        download_buttons(df_master = df_master, df_individual = [], saving = True, previous = False)"
   ]
  },
  {
   "cell_type": "code",
   "execution_count": null,
   "id": "85760097-ba4b-4769-9a61-69a52c52182e",
   "metadata": {},
   "outputs": [],
   "source": [
    "if return_button:\n",
    "\n",
    "    df_master = bailii_create_df()\n",
    "    \n",
    "    save_input(df_master)\n",
    "\n",
    "    st.session_state[\"page_from\"] = 'pages/BAILII.py'\n",
    "\n",
    "    st.switch_page(\"Home.py\")"
   ]
  },
  {
   "cell_type": "code",
   "execution_count": null,
   "id": "08899688-9534-4de3-9dbf-1d6cc21ad94b",
   "metadata": {},
   "outputs": [],
   "source": [
    "if reset_button:\n",
    "    st.session_state.pop('df_master')\n",
    "\n",
    "    #clear_cache()\n",
    "    st.rerun()"
   ]
  },
  {
   "cell_type": "code",
   "execution_count": null,
   "id": "96c03aaf-eb74-4561-b298-6b97c342ea47",
   "metadata": {},
   "outputs": [],
   "source": [
    "if next_button:\n",
    "\n",
    "    all_search_terms = str(citation_entry) + str(case_name_entry) + str(all_of_these_words_entry) + str(exact_phrase_entry) + str(any_of_these_words_entry) + str(advanced_query_entry) + str(from_date_entry) + str(to_date_entry)\n",
    "        \n",
    "    if all_search_terms.replace('None', '') == \"\":\n",
    "\n",
    "        st.warning('You must enter some search terms.')\n",
    "\n",
    "    elif len(courts_entry) == 0:\n",
    "        \n",
    "        st.warning('Please select at least one court to cover.')\n",
    "    \n",
    "    else:\n",
    "\n",
    "        df_master = bailii_create_df()\n",
    "        \n",
    "        #Check search results\n",
    "        with st.spinner(r\"$\\textsf{\\normalsize Checking your search terms...}$\"):\n",
    "            \n",
    "            try:\n",
    "    \n",
    "                search_results_w_count = bailii_search_url(df_master)\n",
    "                \n",
    "                results_count = search_results_w_count['results_count']\n",
    "                \n",
    "                if results_count == 0:\n",
    "                    st.error(no_results_msg)\n",
    "    \n",
    "                else:\n",
    "    \n",
    "                    save_input(df_master)\n",
    "    \n",
    "                    st.session_state[\"page_from\"] = 'pages/BAILII.py'\n",
    "                    \n",
    "                    st.switch_page('pages/GPT.py')\n",
    "\n",
    "            except Exception as e:\n",
    "\n",
    "                st.error(search_error_display)\n",
    "                \n",
    "                print(traceback.format_exc())\n",
    "\n",
    "                st.session_state['error_msg'] = traceback.format_exc()"
   ]
  },
  {
   "cell_type": "code",
   "execution_count": null,
   "id": "e2cab963-15b2-4ee4-9c56-0e1c2c046318",
   "metadata": {},
   "outputs": [],
   "source": []
  },
  {
   "cell_type": "markdown",
   "id": "0df87a48-e5d2-4b15-84ff-145287bbacbc",
   "metadata": {},
   "source": [
    "# Report error"
   ]
  },
  {
   "cell_type": "code",
   "execution_count": null,
   "id": "a42f393e-076e-4468-bca8-288583b8a3c3",
   "metadata": {
    "lines_to_next_cell": 2
   },
   "outputs": [],
   "source": [
    "if len(st.session_state.error_msg) > 0:\n",
    "\n",
    "    report_error_button = st.button(label = 'REPORT the error', type = 'primary', help = 'Send your entries and a report of the error to the developer.')\n",
    "\n",
    "    if report_error_button:\n",
    "\n",
    "        st.session_state.error_msg = report_error(error_msg = st.session_state.error_msg, jurisdiction_page = st.session_state.jurisdiction_page, df_master = st.session_state.df_master)"
   ]
  }
 ],
 "metadata": {
  "jupytext": {
   "formats": "ipynb,py:percent"
  },
  "kernelspec": {
   "display_name": "Python 3 (ipykernel)",
   "language": "python",
   "name": "python3"
  },
  "language_info": {
   "codemirror_mode": {
    "name": "ipython",
    "version": 3
   },
   "file_extension": ".py",
   "mimetype": "text/x-python",
   "name": "python",
   "nbconvert_exporter": "python",
   "pygments_lexer": "ipython3",
   "version": "3.11.7"
  }
 },
 "nbformat": 4,
 "nbformat_minor": 5
}
