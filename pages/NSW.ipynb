{
 "cells": [
  {
   "cell_type": "markdown",
   "id": "51218f00-183e-4f7a-9fe5-2393c3de15b0",
   "metadata": {},
   "source": [
    "# Preliminaries"
   ]
  },
  {
   "cell_type": "code",
   "execution_count": 19,
   "id": "07019cf3",
   "metadata": {
    "lines_to_next_cell": 2
   },
   "outputs": [],
   "source": [
    "#Preliminary modules\n",
    "import base64 \n",
    "import json\n",
    "import pandas as pd\n",
    "import shutil\n",
    "import numpy as np\n",
    "import re\n",
    "import datetime\n",
    "from datetime import date\n",
    "from dateutil import parser\n",
    "from dateutil.relativedelta import *\n",
    "from datetime import datetime, timedelta\n",
    "import sys\n",
    "import pause\n",
    "import requests\n",
    "from bs4 import BeautifulSoup, SoupStrainer\n",
    "import httplib2\n",
    "from urllib.request import urlretrieve\n",
    "import os\n",
    "#import pypdf\n",
    "import io\n",
    "from io import BytesIO\n",
    "\n",
    "#Streamlit\n",
    "import streamlit as st\n",
    "#from streamlit_gsheets import GSheetsConnection\n",
    "from streamlit.components.v1 import html\n",
    "import streamlit_ext as ste\n",
    "from streamlit_extras.stylable_container import stylable_container\n",
    "\n",
    "#NSWCaseLaw\n",
    "from nswcaselaw.search import Search\n",
    "\n",
    "#OpenAI\n",
    "import openai\n",
    "import tiktoken\n",
    "\n",
    "#Google\n",
    "#from google.oauth2 import service_account\n",
    "\n",
    "#Excel\n",
    "from pyxlsb import open_workbook as open_xlsb"
   ]
  },
  {
   "cell_type": "code",
   "execution_count": 2,
   "id": "5120eafa-8759-48bb-9e56-cee8e8cd2ac1",
   "metadata": {},
   "outputs": [
    {
     "ename": "ModuleNotFoundError",
     "evalue": "No module named 'parentdirectory'",
     "output_type": "error",
     "traceback": [
      "\u001b[0;31m---------------------------------------------------------------------------\u001b[0m",
      "\u001b[0;31mModuleNotFoundError\u001b[0m                       Traceback (most recent call last)",
      "Cell \u001b[0;32mIn[2], line 3\u001b[0m\n\u001b[1;32m      1\u001b[0m \u001b[38;5;66;03m#Import functions\u001b[39;00m\n\u001b[1;32m      2\u001b[0m sys\u001b[38;5;241m.\u001b[39mpath\u001b[38;5;241m.\u001b[39mappend(\u001b[38;5;124m'\u001b[39m\u001b[38;5;124m../parentdirectory\u001b[39m\u001b[38;5;124m'\u001b[39m)\n\u001b[0;32m----> 3\u001b[0m \u001b[38;5;28;01mfrom\u001b[39;00m \u001b[38;5;21;01mparentdirectory\u001b[39;00m\u001b[38;5;21;01m.\u001b[39;00m\u001b[38;5;21;01mcommon_functions\u001b[39;00m \u001b[38;5;28;01mimport\u001b[39;00m own_account_allowed, convert_df_to_json, convert_df_to_csv, convert_df_to_excel, mnc_cleaner \n\u001b[1;32m      4\u001b[0m \u001b[38;5;66;03m#Import variables\u001b[39;00m\n\u001b[1;32m      5\u001b[0m \u001b[38;5;28;01mfrom\u001b[39;00m \u001b[38;5;21;01mparentdirectory\u001b[39;00m\u001b[38;5;21;01m.\u001b[39;00m\u001b[38;5;21;01mcommon_functions\u001b[39;00m \u001b[38;5;28;01mimport\u001b[39;00m today_in_nums, errors_list, scraper_pause_mean, judgment_text_lower_bound\n",
      "\u001b[0;31mModuleNotFoundError\u001b[0m: No module named 'parentdirectory'"
     ]
    }
   ],
   "source": [
    "#Import functions\n",
    "from functions.common_functions import own_account_allowed, convert_df_to_json, convert_df_to_csv, convert_df_to_excel, clear_cache, au_date, save_input, download_buttons, display_df\n",
    "#Import variables\n",
    "from functions.common_functions import today_in_nums, errors_list, scraper_pause_mean, judgment_text_lower_bound, default_judgment_counter_bound, no_results_msg, search_error_display, no_results_msg"
   ]
  },
  {
   "cell_type": "markdown",
   "id": "28e432b7",
   "metadata": {},
   "source": [
    "# CaseLaw NSW functions and parameters"
   ]
  },
  {
   "cell_type": "code",
   "execution_count": null,
   "id": "29fbd9dd-8ebb-4f9f-8a7c-0c90ab44cccf",
   "metadata": {},
   "outputs": [],
   "source": [
    "from functions.nsw_functions import nsw_courts, nsw_default_courts, nsw_tribunals, nsw_search_preview, nsw_link"
   ]
  },
  {
   "cell_type": "code",
   "execution_count": 23,
   "id": "73e79f71",
   "metadata": {},
   "outputs": [],
   "source": [
    "#function to create dataframe\n",
    "def nsw_create_df():\n",
    "\n",
    "    #submission time\n",
    "    timestamp = datetime.now()\n",
    "\n",
    "    #Personal info entries\n",
    "\n",
    "    name = ''\n",
    "    \n",
    "    email = ''\n",
    "\n",
    "    gpt_api_key = ''\n",
    "\n",
    "    try:\n",
    "        name = name_entry\n",
    "    except:\n",
    "        print('Name not entered')\n",
    "    \n",
    "    try:\n",
    "        email = email_entry\n",
    "    except:\n",
    "        print('Email not entered')\n",
    "\n",
    "    gpt_api_key = ''\n",
    "    try:\n",
    "        gpt_api_key = gpt_api_key_entry\n",
    "        #This is the user's entered API key whether valid or invalid, not necessarily the one used to produce outputs\n",
    "    except:\n",
    "        print('API key not entered')\n",
    "\n",
    "    #Own account status\n",
    "    own_account = st.session_state.own_account\n",
    "    \n",
    "    #Judgment counter bound\n",
    "    try:\n",
    "        judgments_counter_bound = judgments_counter_bound_entry\n",
    "    except:\n",
    "        print('judgments_counter_bound not entered')\n",
    "        judgments_counter_bound = default_judgment_counter_bound\n",
    "\n",
    "    #GPT enhancement\n",
    "    try:\n",
    "        gpt_enhancement = gpt_enhancement_entry\n",
    "    except:\n",
    "        print('GPT enhancement not entered')\n",
    "        gpt_enhancement = False\n",
    "    \n",
    "    #NSW court choices\n",
    "\n",
    "    courts = courts_entry\n",
    "    \n",
    "    #NSW tribunals choices    \n",
    "    tribunals = tribunals_entry\n",
    "\n",
    "    #Search terms\n",
    "    \n",
    "    body = body_entry\n",
    "    title = title_entry\n",
    "    before = before_entry\n",
    "    catchwords = catchwords_entry\n",
    "    party = party_entry\n",
    "    mnc = mnc_entry\n",
    "\n",
    "    startDate = ''\n",
    "\n",
    "    try:\n",
    "\n",
    "        startDate = startDate_entry.strftime('%d/%m/%Y')\n",
    "\n",
    "    except:\n",
    "        print('startDate not entered')\n",
    "        \n",
    "    endDate = ''\n",
    "        \n",
    "    try:\n",
    "        endDate = endDate_entry.strftime('%d/%m/%Y')\n",
    "        \n",
    "    except:\n",
    "        print('endDate not entered')\n",
    "    \n",
    "    fileNumber = fileNumber_entry\n",
    "    legislationCited = legislationCited_entry\n",
    "    casesCited = casesCited_entry\n",
    "\n",
    "    #metadata choice\n",
    "\n",
    "    meta_data_choice = meta_data_entry\n",
    "    \n",
    "    #GPT choice and entry\n",
    "    try:\n",
    "        gpt_activation_status = gpt_activation_entry\n",
    "    except:\n",
    "        gpt_activation_status = False\n",
    "\n",
    "    gpt_questions = ''\n",
    "    \n",
    "    try:\n",
    "        gpt_questions = gpt_questions_entry[0: question_characters_bound]\n",
    "    \n",
    "    except:\n",
    "        print('GPT questions not entered.')\n",
    "\n",
    "    #Create row\n",
    "    new_row = {'Processed': '',\n",
    "           'Timestamp': timestamp,\n",
    "           'Your name': name, \n",
    "           'Your email address': email, \n",
    "           'Your GPT API key': gpt_api_key, \n",
    "           'Courts': courts,\n",
    "           'Tribunals': tribunals, \n",
    "           'Free text': body, \n",
    "           'Case name': title, \n",
    "           'Before' : before, \n",
    "           'Catchwords' : catchwords, \n",
    "           'Party names' : party, \n",
    "           'Medium neutral citation': mnc, \n",
    "           'Decision date from': startDate, \n",
    "           'Decision date to': endDate, \n",
    "           'File number': fileNumber, \n",
    "           'Legislation cited': legislationCited,\n",
    "           'Cases cited': casesCited, \n",
    "#           'Information to Collect from Judgment Headnotes': headnotes,\n",
    "            'Metadata inclusion' : meta_data_choice,\n",
    "           'Maximum number of judgments': judgments_counter_bound, \n",
    "           'Enter your questions for GPT': gpt_questions, \n",
    "            'Use GPT': gpt_activation_status, \n",
    "            'Use own account': own_account,\n",
    "            'Use flagship version of GPT' : gpt_enhancement\n",
    "          }\n",
    "    \n",
    "    df_master_new = pd.DataFrame([new_row])\n",
    "        \n",
    "    return df_master_new\n",
    "\n"
   ]
  },
  {
   "cell_type": "markdown",
   "id": "e984b836",
   "metadata": {},
   "source": [
    "# GPT functions and parameters"
   ]
  },
  {
   "cell_type": "code",
   "execution_count": 10,
   "id": "264f776f-9383-4727-bc0f-fdee31463433",
   "metadata": {
    "lines_to_next_cell": 2
   },
   "outputs": [
    {
     "ename": "ModuleNotFoundError",
     "evalue": "No module named 'gpt_functions'",
     "output_type": "error",
     "traceback": [
      "\u001b[0;31m---------------------------------------------------------------------------\u001b[0m",
      "\u001b[0;31mModuleNotFoundError\u001b[0m                       Traceback (most recent call last)",
      "Cell \u001b[0;32mIn[10], line 2\u001b[0m\n\u001b[1;32m      1\u001b[0m \u001b[38;5;66;03m#Import functions\u001b[39;00m\n\u001b[0;32m----> 2\u001b[0m \u001b[38;5;28;01mfrom\u001b[39;00m \u001b[38;5;21;01mgpt_functions\u001b[39;00m \u001b[38;5;28;01mimport\u001b[39;00m split_by_line, GPT_label_dict, is_api_key_valid, gpt_input_cost, gpt_output_cost, tokens_cap, num_tokens_from_string, judgment_prompt_json, GPT_json_tokens, engage_GPT_json_tokens  \n\u001b[1;32m      3\u001b[0m \u001b[38;5;66;03m#Import variables\u001b[39;00m\n\u001b[1;32m      4\u001b[0m \u001b[38;5;28;01mfrom\u001b[39;00m \u001b[38;5;21;01mgpt_functions\u001b[39;00m \u001b[38;5;28;01mimport\u001b[39;00m question_characters_bound, default_judgment_counter_bound, role_content\n",
      "\u001b[0;31mModuleNotFoundError\u001b[0m: No module named 'gpt_functions'"
     ]
    }
   ],
   "source": [
    "#Import functions\n",
    "from functions.gpt_functions import split_by_line, GPT_label_dict, is_api_key_valid, gpt_input_cost, gpt_output_cost, tokens_cap, max_output, num_tokens_from_string, judgment_prompt_json, GPT_json, engage_GPT_json\n",
    "#Import variables\n",
    "from functions.gpt_functions import question_characters_bound, default_msg, default_caption\n",
    "#For batch mode\n",
    "from functions.gpt_functions import gpt_get_custom_id, gpt_batch_input_id_line, gpt_batch_input"
   ]
  },
  {
   "cell_type": "code",
   "execution_count": null,
   "id": "279b3481-b897-4ee6-af9c-ca38d2412631",
   "metadata": {},
   "outputs": [],
   "source": [
    "print(f\"Questions for GPT are capped at {question_characters_bound} characters.\\n\")\n",
    "print(f\"The default number of judgments to scrape per request is capped at {default_judgment_counter_bound}.\\n\")"
   ]
  },
  {
   "cell_type": "code",
   "execution_count": null,
   "id": "cbb6dde1-e2da-480b-80d9-f839f8e1778f",
   "metadata": {
    "lines_to_next_cell": 2
   },
   "outputs": [],
   "source": [
    "#For checking questions and answers\n",
    "from functions.common_functions import check_questions_answers\n",
    "\n",
    "from functions.gpt_functions import questions_check_system_instruction, GPT_questions_check, checked_questions_json, answers_check_system_instruction\n",
    "\n",
    "if check_questions_answers() > 0:\n",
    "    print(f'By default, questions and answers are checked for potential privacy violation.')\n",
    "else:\n",
    "    print(f'By default, questions and answers are NOT checked for potential privacy violation.')"
   ]
  },
  {
   "cell_type": "code",
   "execution_count": null,
   "id": "76efd97b",
   "metadata": {},
   "outputs": [],
   "source": [
    "#Module, costs and upperbounds\n",
    "\n",
    "#Initialize default GPT settings\n",
    "\n",
    "if 'gpt_model' not in st.session_state:\n",
    "    st.session_state['gpt_model'] = \"gpt-4o-mini\"\n",
    "\n",
    "#Initialize API key\n",
    "if 'gpt_api_key' not in st.session_state:\n",
    "\n",
    "    st.session_state['gpt_api_key'] = st.secrets[\"openai\"][\"gpt_api_key\"]"
   ]
  },
  {
   "cell_type": "markdown",
   "id": "e594d8b9",
   "metadata": {},
   "source": [
    "# Streamlit form, functions and parameters"
   ]
  },
  {
   "cell_type": "code",
   "execution_count": null,
   "id": "0a03b3e3-defd-4c0b-8c62-96a8f1ed1753",
   "metadata": {
    "lines_to_next_cell": 2
   },
   "outputs": [],
   "source": [
    "#Import functions and variables\n",
    "from functions.common_functions import open_page, clear_cache_except_validation_df_master, tips"
   ]
  },
  {
   "cell_type": "markdown",
   "id": "ada3ec0a-7448-4d6f-9a27-3a59ec3a9f48",
   "metadata": {},
   "source": [
    "## Initialize session states"
   ]
  },
  {
   "cell_type": "code",
   "execution_count": null,
   "id": "cb405ea6-4c7c-4704-8c60-baeb2a0b5186",
   "metadata": {},
   "outputs": [],
   "source": [
    "#If landing page is not home\n",
    "if 'page_from' not in st.session_state:\n",
    "    st.session_state['page_from'] = 'Home.py'"
   ]
  },
  {
   "cell_type": "code",
   "execution_count": null,
   "id": "e1ec27fb-b8f3-4a31-8efc-383aed27fe84",
   "metadata": {
    "lines_to_next_cell": 2
   },
   "outputs": [],
   "source": [
    "#Initialize default values\n",
    "\n",
    "if 'own_account' not in st.session_state:\n",
    "    st.session_state['own_account'] = False\n",
    "\n",
    "if 'need_resetting' not in st.session_state:\n",
    "        \n",
    "    st.session_state['need_resetting'] = 0\n",
    "\n",
    "if 'df_individual_output' not in st.session_state:\n",
    "\n",
    "    st.session_state['df_individual_output'] = pd.DataFrame([])\n",
    "\n",
    "#Disable toggles\n",
    "if 'disable_input' not in st.session_state:\n",
    "    st.session_state[\"disable_input\"] = True\n",
    "\n",
    "if 'df_master' not in st.session_state:\n",
    "\n",
    "    #Generally applicable\n",
    "    df_master_dict = {'Your name' : '', \n",
    "    'Your email address' : '', \n",
    "    'Your GPT API key' : '', \n",
    "    'Metadata inclusion' : True, \n",
    "    'Maximum number of judgments' : default_judgment_counter_bound, \n",
    "    'Enter your questions for GPT' : '', \n",
    "    'Use GPT' : False, \n",
    "    'Use own account' : False, \n",
    "    'Use flagship version of GPT' : False,\n",
    "    'Example' : ''\n",
    "    }\n",
    "\n",
    "    #Jurisdiction specific\n",
    "    jurisdiction_specific_dict = {'Courts' : [],\n",
    "    'Tribunals' : [],\n",
    "    'Free text'  : None,\n",
    "    'Case name'  : None,\n",
    "    'Before'  : None,\n",
    "    'Catchwords'  : None,\n",
    "    'Party names'  : None,\n",
    "    'Medium neutral citation'  : None,\n",
    "    'Decision date from'  : None,\n",
    "    'Decision date to'  : None,\n",
    "    'File number'  : None,\n",
    "    'Legislation cited'  : None,\n",
    "    'Cases cited'  : None\n",
    "    }\n",
    "\n",
    "    #Make into  df\n",
    "    df_master_dict.update(jurisdiction_specific_dict)\n",
    "    \n",
    "    st.session_state['df_master'] = pd.DataFrame([df_master_dict])"
   ]
  },
  {
   "cell_type": "code",
   "execution_count": null,
   "id": "9890718c-cfea-4bd9-9850-20bb38a0908c",
   "metadata": {
    "lines_to_next_cell": 2
   },
   "outputs": [],
   "source": [
    "#NSW-specific session_states\n",
    "\n",
    "#if 'dafault_courts_status' not in st.session_state:\n",
    "    #st.session_state['dafault_courts_status'] = False"
   ]
  },
  {
   "cell_type": "markdown",
   "id": "0604ab96-8eb6-457a-a1de-aec0999862cd",
   "metadata": {},
   "source": [
    "## Form before AI"
   ]
  },
  {
   "cell_type": "code",
   "execution_count": 42,
   "id": "439b657a",
   "metadata": {},
   "outputs": [
    {
     "ename": "AttributeError",
     "evalue": "st.session_state has no attribute \"page_from\". Did you forget to initialize it? More info: https://docs.streamlit.io/develop/concepts/architecture/session-state#initialization",
     "output_type": "error",
     "traceback": [
      "\u001b[0;31m---------------------------------------------------------------------------\u001b[0m",
      "\u001b[0;31mKeyError\u001b[0m                                  Traceback (most recent call last)",
      "File \u001b[0;32m~/anaconda3/lib/python3.11/site-packages/streamlit/runtime/state/session_state.py:409\u001b[0m, in \u001b[0;36mSessionState.__getitem__\u001b[0;34m(self, key)\u001b[0m\n\u001b[1;32m    408\u001b[0m \u001b[38;5;28;01mtry\u001b[39;00m:\n\u001b[0;32m--> 409\u001b[0m     \u001b[38;5;28;01mreturn\u001b[39;00m \u001b[38;5;28;43mself\u001b[39;49m\u001b[38;5;241;43m.\u001b[39;49m\u001b[43m_getitem\u001b[49m\u001b[43m(\u001b[49m\u001b[43mwidget_id\u001b[49m\u001b[43m,\u001b[49m\u001b[43m \u001b[49m\u001b[43mkey\u001b[49m\u001b[43m)\u001b[49m\n\u001b[1;32m    410\u001b[0m \u001b[38;5;28;01mexcept\u001b[39;00m \u001b[38;5;167;01mKeyError\u001b[39;00m:\n",
      "File \u001b[0;32m~/anaconda3/lib/python3.11/site-packages/streamlit/runtime/state/session_state.py:454\u001b[0m, in \u001b[0;36mSessionState._getitem\u001b[0;34m(self, widget_id, user_key)\u001b[0m\n\u001b[1;32m    453\u001b[0m \u001b[38;5;66;03m# We'll never get here\u001b[39;00m\n\u001b[0;32m--> 454\u001b[0m \u001b[38;5;28;01mraise\u001b[39;00m \u001b[38;5;167;01mKeyError\u001b[39;00m\n",
      "\u001b[0;31mKeyError\u001b[0m: ",
      "\nDuring handling of the above exception, another exception occurred:\n",
      "\u001b[0;31mKeyError\u001b[0m                                  Traceback (most recent call last)",
      "File \u001b[0;32m~/anaconda3/lib/python3.11/site-packages/streamlit/runtime/state/session_state_proxy.py:127\u001b[0m, in \u001b[0;36mSessionStateProxy.__getattr__\u001b[0;34m(self, key)\u001b[0m\n\u001b[1;32m    126\u001b[0m \u001b[38;5;28;01mtry\u001b[39;00m:\n\u001b[0;32m--> 127\u001b[0m     \u001b[38;5;28;01mreturn\u001b[39;00m \u001b[38;5;28;43mself\u001b[39;49m\u001b[43m[\u001b[49m\u001b[43mkey\u001b[49m\u001b[43m]\u001b[49m\n\u001b[1;32m    128\u001b[0m \u001b[38;5;28;01mexcept\u001b[39;00m \u001b[38;5;167;01mKeyError\u001b[39;00m:\n",
      "File \u001b[0;32m~/anaconda3/lib/python3.11/site-packages/streamlit/runtime/state/session_state_proxy.py:98\u001b[0m, in \u001b[0;36mSessionStateProxy.__getitem__\u001b[0;34m(self, key)\u001b[0m\n\u001b[1;32m     97\u001b[0m require_valid_user_key(key)\n\u001b[0;32m---> 98\u001b[0m \u001b[38;5;28;01mreturn\u001b[39;00m \u001b[43mget_session_state\u001b[49m\u001b[43m(\u001b[49m\u001b[43m)\u001b[49m\u001b[43m[\u001b[49m\u001b[43mkey\u001b[49m\u001b[43m]\u001b[49m\n",
      "File \u001b[0;32m~/anaconda3/lib/python3.11/site-packages/streamlit/runtime/state/safe_session_state.py:94\u001b[0m, in \u001b[0;36mSafeSessionState.__getitem__\u001b[0;34m(self, key)\u001b[0m\n\u001b[1;32m     93\u001b[0m \u001b[38;5;28;01mwith\u001b[39;00m \u001b[38;5;28mself\u001b[39m\u001b[38;5;241m.\u001b[39m_lock:\n\u001b[0;32m---> 94\u001b[0m     \u001b[38;5;28;01mreturn\u001b[39;00m \u001b[38;5;28;43mself\u001b[39;49m\u001b[38;5;241;43m.\u001b[39;49m\u001b[43m_state\u001b[49m\u001b[43m[\u001b[49m\u001b[43mkey\u001b[49m\u001b[43m]\u001b[49m\n",
      "File \u001b[0;32m~/anaconda3/lib/python3.11/site-packages/streamlit/runtime/state/session_state.py:411\u001b[0m, in \u001b[0;36mSessionState.__getitem__\u001b[0;34m(self, key)\u001b[0m\n\u001b[1;32m    410\u001b[0m \u001b[38;5;28;01mexcept\u001b[39;00m \u001b[38;5;167;01mKeyError\u001b[39;00m:\n\u001b[0;32m--> 411\u001b[0m     \u001b[38;5;28;01mraise\u001b[39;00m \u001b[38;5;167;01mKeyError\u001b[39;00m(_missing_key_error_message(key))\n",
      "\u001b[0;31mKeyError\u001b[0m: 'st.session_state has no key \"page_from\". Did you forget to initialize it? More info: https://docs.streamlit.io/develop/concepts/architecture/session-state#initialization'",
      "\nDuring handling of the above exception, another exception occurred:\n",
      "\u001b[0;31mAttributeError\u001b[0m                            Traceback (most recent call last)",
      "Cell \u001b[0;32mIn[42], line 3\u001b[0m\n\u001b[1;32m      1\u001b[0m \u001b[38;5;66;03m#Create form\u001b[39;00m\n\u001b[0;32m----> 3\u001b[0m \u001b[38;5;28;01mif\u001b[39;00m \u001b[43mst\u001b[49m\u001b[38;5;241;43m.\u001b[39;49m\u001b[43msession_state\u001b[49m\u001b[38;5;241;43m.\u001b[39;49m\u001b[43mpage_from\u001b[49m \u001b[38;5;241m!=\u001b[39m \u001b[38;5;124m\"\u001b[39m\u001b[38;5;124mpages/NSW.py\u001b[39m\u001b[38;5;124m\"\u001b[39m: \u001b[38;5;66;03m#Need to add in order to avoid GPT page from showing form of previous page\u001b[39;00m\n\u001b[1;32m      5\u001b[0m     return_button \u001b[38;5;241m=\u001b[39m st\u001b[38;5;241m.\u001b[39mbutton(\u001b[38;5;124m'\u001b[39m\u001b[38;5;124mRETURN to first page\u001b[39m\u001b[38;5;124m'\u001b[39m)\n\u001b[1;32m      7\u001b[0m     st\u001b[38;5;241m.\u001b[39mheader(\u001b[38;5;124m\"\u001b[39m\u001b[38;5;124mYou have selected to study :blue[judgments of the New South Wales courts and tribunals].\u001b[39m\u001b[38;5;124m\"\u001b[39m)\n",
      "File \u001b[0;32m~/anaconda3/lib/python3.11/site-packages/streamlit/runtime/state/session_state_proxy.py:129\u001b[0m, in \u001b[0;36mSessionStateProxy.__getattr__\u001b[0;34m(self, key)\u001b[0m\n\u001b[1;32m    127\u001b[0m     \u001b[38;5;28;01mreturn\u001b[39;00m \u001b[38;5;28mself\u001b[39m[key]\n\u001b[1;32m    128\u001b[0m \u001b[38;5;28;01mexcept\u001b[39;00m \u001b[38;5;167;01mKeyError\u001b[39;00m:\n\u001b[0;32m--> 129\u001b[0m     \u001b[38;5;28;01mraise\u001b[39;00m \u001b[38;5;167;01mAttributeError\u001b[39;00m(_missing_attr_error_message(key))\n",
      "\u001b[0;31mAttributeError\u001b[0m: st.session_state has no attribute \"page_from\". Did you forget to initialize it? More info: https://docs.streamlit.io/develop/concepts/architecture/session-state#initialization"
     ]
    }
   ],
   "source": [
    "#Create form\n",
    "\n",
    "#if st.session_state.page_from != \"pages/NSW.py\": #Need to add in order to avoid GPT page from showing form of previous page\n",
    "\n",
    "return_button = st.button('RETURN to first page')\n",
    "\n",
    "st.header(\"Search :blue[judgments of the New South Wales courts and tribunals]\")\n",
    "\n",
    "st.success(default_msg)\n",
    "\n",
    "st.write(f'This app uses [an open-source Python module](https://github.com/Sydney-Informatics-Hub/nswcaselaw) developed by Mike Lynch and Xinwei Luo of Sydney Informatics Hub to search for and collect cases from [NSW Caselaw](https://www.caselaw.nsw.gov.au/search/advanced). It also sources cases from the [Open Australian Legal Corpus](https://huggingface.co/datasets/umarbutler/open-australian-legal-corpus) compiled by Umar Butler.')\n",
    "\n",
    "st.caption(default_caption)\n",
    "\n",
    "reset_button = st.button(label='RESET', type = 'primary')\n",
    "\n",
    "st.subheader(\"Courts and tribunals to cover\")\n",
    "\n",
    "default_on_courts = st.checkbox(label = 'Prefill the Court of Appeal, the Court of Criminal Appeal, and the Supreme Court')#, value = st.session_state.dafault_courts_status)\n",
    "\n",
    "if default_on_courts:\n",
    "    st.session_state['df_master']['Courts'] = st.session_state['df_master']['Courts'].astype('object')\n",
    "    st.session_state['df_master'].at[0, 'Courts'] = nsw_default_courts\n",
    "\n",
    "courts_entry = st.multiselect(label = 'Courts', options = nsw_courts, default = st.session_state['df_master'].loc[0, 'Courts'])\n",
    "\n",
    "tribunals_entry = st.multiselect(label = 'Tribunals', options = nsw_tribunals, default = st.session_state['df_master'].loc[0, 'Tribunals'])\n",
    "\n",
    "st.subheader(\"Your search terms\")\n",
    "\n",
    "st.markdown(\"\"\"For search tips, please visit [NSW Caselaw](https://www.caselaw.nsw.gov.au/search/advanced). This section mimics their Advanced Search function.\"\"\")\n",
    "\n",
    "catchwords_entry = st.text_input(label = \"Catchwords\", value = st.session_state['df_master'].loc[0, 'Catchwords'])\n",
    "\n",
    "body_entry = st.text_input(label = \"Free text (searches the entire judgment)\", value = st.session_state['df_master'].loc[0, 'Free text']) \n",
    "\n",
    "title_entry = st.text_input(label = \"Case name\", value = st.session_state['df_master'].loc[0, 'Case name'])\n",
    "\n",
    "before_entry = st.text_input(label = \"Before\", value = st.session_state['df_master'].loc[0, 'Before'])\n",
    "\n",
    "st.caption(\"Name of judge, commissioner, magistrate, member, registrar or assessor\")\n",
    "\n",
    "party_entry = st.text_input(label = \"Party names\", value = st.session_state['df_master'].loc[0, 'Party names'])\n",
    "\n",
    "mnc_entry = st.text_input(label = \"Medium neutral citation\", value = st.session_state['df_master'].loc[0, 'Medium neutral citation'])\n",
    "\n",
    "st.caption(\"Must include square brackets eg [2022] NSWSC 922\")\n",
    "\n",
    "startDate_entry = st.date_input(label = \"Decision date from\", value = au_date(st.session_state['df_master'].loc[0, 'Decision date from']), format=\"DD/MM/YYYY\", min_value = date(1900, 1, 1), max_value = datetime.now(), help = \"If you cannot change this date entry, please press :red[RESET] and try again.\")\n",
    "\n",
    "st.caption(\"Pre-1999 decisions are usually [not available](https://www.caselaw.nsw.gov.au/about) from NSW Caselaw and will unlikely to be collected.\")\n",
    "\n",
    "endDate_entry = st.date_input(label = \"Decision date to\", value = au_date(st.session_state['df_master'].loc[0, 'Decision date to']),  format=\"DD/MM/YYYY\", min_value = date(1900, 1, 1), max_value = datetime.now(), help = \"If you cannot change this date entry, please press :red[RESET] and try again.\")\n",
    "\n",
    "fileNumber_entry = st.text_input(label = \"File number\", value = st.session_state['df_master'].loc[0, 'File number'])\n",
    "\n",
    "legislationCited_entry = st.text_input(label = \"Legislation cited\", value = st.session_state['df_master'].loc[0, 'Legislation cited'])\n",
    "\n",
    "casesCited_entry = st.text_input(label = \"Cases cited\", value = st.session_state['df_master'].loc[0, 'Cases cited'] )\n",
    "\n",
    "#    headnotes_entry = st.multiselect(\"Please select\", headnotes_choices)\n",
    "\n",
    "#st.subheader(\"Judgment metadata collection\")\n",
    "\n",
    "#st.markdown(\"\"\"Would you like to obtain judgment metadata? Such data include the name of the judge, the decision date and so on. \n",
    "\n",
    "#Case name and medium neutral citation are always included with your results.\n",
    "#\"\"\")\n",
    "\n",
    "#meta_data_entry = st.checkbox(label = 'Include metadata', value = st.session_state['df_master'].loc[0, 'Metadata inclusion'])\n",
    "meta_data_entry = True\n",
    "\n",
    "st.info(\"\"\"You can preview the results returned by your search terms.\"\"\")\n",
    "\n",
    "with stylable_container(\n",
    "    \"purple\",\n",
    "    css_styles=\"\"\"\n",
    "    button {\n",
    "        background-color: purple;\n",
    "        color: white;\n",
    "    }\"\"\",\n",
    "):\n",
    "    preview_button = st.button(label = 'PREVIEW')\n",
    "\n"
   ]
  },
  {
   "cell_type": "markdown",
   "id": "3d196e74-e910-46ba-a9a2-131589295828",
   "metadata": {},
   "source": [
    "## Preview"
   ]
  },
  {
   "cell_type": "code",
   "execution_count": null,
   "id": "9c94f523-9928-4f2d-8b8b-5eaa4d920b37",
   "metadata": {
    "lines_to_next_cell": 2
   },
   "outputs": [],
   "source": [
    "if preview_button:\n",
    "    \n",
    "    all_search_terms = str(catchwords_entry) + str(body_entry) + str(title_entry) + str(before_entry) + str(party_entry) + str(mnc_entry) + str(startDate_entry) + str(endDate_entry) + str(fileNumber_entry) + str(legislationCited_entry) + str(casesCited_entry)\n",
    "    \n",
    "    if all_search_terms.replace('None', '') == \"\":\n",
    "\n",
    "        st.warning('You must enter some search terms.')\n",
    "\n",
    "    elif (len(courts_entry) == 0) and (len(tribunals_entry) == 0):\n",
    "        st.warning('Please select at least one court or tribunal to cover.')\n",
    "    \n",
    "    else:\n",
    "\n",
    "        df_master = nsw_create_df()\n",
    "\n",
    "        search_results_w_count = nsw_search_preview(df_master)\n",
    "        \n",
    "        results_count = search_results_w_count['results_count']\n",
    "\n",
    "        results_to_show = search_results_w_count['results_to_show']\n",
    "\n",
    "        results_url = search_results_w_count['results_url']\n",
    "            \n",
    "        if results_count > 0:\n",
    "\n",
    "            df_preview = pd.DataFrame(results_to_show)\n",
    "\n",
    "            #Clean df for display\n",
    "            df_preview['uri'] = df_preview['uri'].apply(nsw_link)\n",
    "\n",
    "            rename_columns_dict = {'title': 'Title', 'uri': 'Hyperlink to NSW Caselaw', 'before': 'Before', 'decisionDate': 'Decision date', 'catchwords': 'Catchwords'}\n",
    "\n",
    "            df_preview.rename(columns=rename_columns_dict, inplace=True)\n",
    "\n",
    "            #Get display settings\n",
    "            display_df_dict = display_df(df_preview)\n",
    "\n",
    "            df_preview = display_df_dict['df']\n",
    "\n",
    "            link_heading_config = display_df_dict['link_heading_config']\n",
    "\n",
    "            #Display search results\n",
    "            st.success(f'Your search terms returned {results_count} result(s). Please see below for the top {min(results_count, default_judgment_counter_bound)} result(s).')\n",
    "                        \n",
    "            st.dataframe(df_preview.head(default_judgment_counter_bound),  column_config=link_heading_config)\n",
    "\n",
    "            st.page_link(results_url, label=f\"SEE all search results (in a popped up window)\", icon = \"🌎\")\n",
    "\n",
    "        else:\n",
    "            st.error(no_results_msg)"
   ]
  },
  {
   "cell_type": "markdown",
   "id": "27dc1255-138e-45a0-8c17-27db3949d173",
   "metadata": {},
   "source": [
    "## Buttons"
   ]
  },
  {
   "cell_type": "code",
   "execution_count": null,
   "id": "5c52e304-326e-4750-9e8b-9d5109ef58dc",
   "metadata": {
    "lines_to_next_cell": 2
   },
   "outputs": [],
   "source": [
    "#Buttons\n",
    "\n",
    "#col1, col2, col3, col4 = st.columns(4, gap = 'small')\n",
    "\n",
    "#with col1:\n",
    "\n",
    "    #reset_button = st.button(label='RESET', type = 'primary')\n",
    "\n",
    "#with col4:\n",
    "with stylable_container(\n",
    "    \"green\",\n",
    "    css_styles=\"\"\"\n",
    "    button {\n",
    "        background-color: #00FF00;\n",
    "        color: black;\n",
    "    }\"\"\",\n",
    "):\n",
    "    next_button = st.button(label='NEXT')\n",
    "\n",
    "keep_button = st.button('SAVE')"
   ]
  },
  {
   "cell_type": "markdown",
   "id": "763a1cf1",
   "metadata": {},
   "source": [
    "# Save and run"
   ]
  },
  {
   "cell_type": "code",
   "execution_count": null,
   "id": "5959b0db",
   "metadata": {
    "lines_to_next_cell": 2
   },
   "outputs": [],
   "source": [
    "if keep_button:\n",
    "\n",
    "    #Check whether search terms entered\n",
    "\n",
    "    all_search_terms = str(catchwords_entry) + str(body_entry) + str(title_entry) + str(before_entry) + str(party_entry) + str(mnc_entry) + str(startDate_entry) + str(endDate_entry) + str(fileNumber_entry) + str(legislationCited_entry) + str(casesCited_entry)\n",
    "    \n",
    "    if all_search_terms.replace('None', '') == \"\":\n",
    "\n",
    "        st.warning('You must enter some search terms.')\n",
    "\n",
    "    elif (len(courts_entry) == 0) and (len(tribunals_entry) == 0):\n",
    "        st.warning('Please select at least one court or tribunal to cover.')\n",
    "            \n",
    "    else:\n",
    "        \n",
    "        df_master = nsw_create_df()\n",
    "        \n",
    "        save_input(df_master)\n",
    "\n",
    "        download_buttons(df_master, df_individual = [], saving = True, previous = False)"
   ]
  },
  {
   "cell_type": "code",
   "execution_count": null,
   "id": "b3b67f0f-e5e5-463a-addc-7fffd8165825",
   "metadata": {
    "lines_to_next_cell": 2
   },
   "outputs": [],
   "source": [
    "if return_button:\n",
    "\n",
    "    df_master = nsw_create_df()\n",
    "    \n",
    "    save_input(df_master)\n",
    "\n",
    "    st.session_state[\"page_from\"] = 'pages/NSW.py'\n",
    "\n",
    "    st.switch_page(\"Home.py\")"
   ]
  },
  {
   "cell_type": "code",
   "execution_count": null,
   "id": "f9fadbfc-5700-4732-8995-68822b2dcf0d",
   "metadata": {},
   "outputs": [],
   "source": [
    "if reset_button:\n",
    "    st.session_state.pop('df_master')\n",
    "\n",
    "    #clear_cache()\n",
    "    st.rerun()"
   ]
  },
  {
   "cell_type": "code",
   "execution_count": null,
   "id": "e3d53c59-e073-4357-8dae-fbc80e38bc02",
   "metadata": {
    "lines_to_next_cell": 3
   },
   "outputs": [],
   "source": [
    "if next_button:\n",
    "\n",
    "    all_search_terms = str(catchwords_entry) + str(body_entry) + str(title_entry) + str(before_entry) + str(party_entry) + str(mnc_entry) + str(startDate_entry) + str(endDate_entry) + str(fileNumber_entry) + str(legislationCited_entry) + str(casesCited_entry)\n",
    "    \n",
    "    if all_search_terms.replace('None', '') == \"\":\n",
    "\n",
    "        st.warning('You must enter some search terms.')\n",
    "\n",
    "    elif (len(courts_entry) == 0) and (len(tribunals_entry) == 0):\n",
    "        st.warning('Please select at least one court or tribunal to cover.')\n",
    "    \n",
    "    else:\n",
    "    \n",
    "        df_master = nsw_create_df()\n",
    "        \n",
    "        #Check search results\n",
    "        with st.spinner(r\"$\\textsf{\\normalsize Checking your search terms...}$\"):\n",
    "            try:\n",
    "                search_results_w_count = nsw_search_preview(df_master)\n",
    "                results_count = search_results_w_count['results_count']\n",
    "                \n",
    "                if results_count == 0:\n",
    "                    \n",
    "                    st.error(no_results_msg)\n",
    "    \n",
    "                else:\n",
    "                    \n",
    "                    save_input(df_master)\n",
    "    \n",
    "                    st.session_state[\"page_from\"] = 'pages/NSW.py'\n",
    "                    \n",
    "                    st.switch_page('pages/GPT.py')\n",
    "        \n",
    "            except Exception as e:\n",
    "                print(search_error_display)\n",
    "                print(e)\n",
    "                st.error(search_error_display)\n",
    "                st.error(e)"
   ]
  }
 ],
 "metadata": {
  "jupytext": {
   "formats": "ipynb,py:percent"
  },
  "kernelspec": {
   "display_name": "Python 3 (ipykernel)",
   "language": "python",
   "name": "python3"
  },
  "language_info": {
   "codemirror_mode": {
    "name": "ipython",
    "version": 3
   },
   "file_extension": ".py",
   "mimetype": "text/x-python",
   "name": "python",
   "nbconvert_exporter": "python",
   "pygments_lexer": "ipython3",
   "version": "3.11.7"
  }
 },
 "nbformat": 4,
 "nbformat_minor": 5
}
