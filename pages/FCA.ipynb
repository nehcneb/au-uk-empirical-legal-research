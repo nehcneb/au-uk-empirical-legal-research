{
 "cells": [
  {
   "cell_type": "markdown",
   "id": "c3b8b879",
   "metadata": {},
   "source": [
    "# Preliminaries"
   ]
  },
  {
   "cell_type": "code",
   "execution_count": 1,
   "id": "f2312235",
   "metadata": {},
   "outputs": [],
   "source": [
    "#Preliminary modules\n",
    "import base64 \n",
    "import json\n",
    "import pandas as pd\n",
    "import shutil\n",
    "import numpy as np\n",
    "import re\n",
    "import datetime\n",
    "from datetime import date\n",
    "from dateutil import parser\n",
    "from dateutil.relativedelta import *\n",
    "from datetime import datetime, timedelta\n",
    "import sys\n",
    "import pause\n",
    "import requests\n",
    "from bs4 import BeautifulSoup, SoupStrainer\n",
    "import httplib2\n",
    "from urllib.request import urlretrieve\n",
    "import os\n",
    "#import pypdf\n",
    "import io\n",
    "from io import BytesIO\n",
    "\n",
    "#Streamlit\n",
    "import streamlit as st\n",
    "#from streamlit_gsheets import GSheetsConnection\n",
    "from streamlit.components.v1 import html\n",
    "#import streamlit_ext as ste\n",
    "from streamlit_extras.stylable_container import stylable_container\n",
    "\n",
    "#OpenAI\n",
    "import openai\n",
    "import tiktoken\n",
    "\n",
    "#Google\n",
    "#from google.oauth2 import service_account\n",
    "\n",
    "#Excel\n",
    "from pyxlsb import open_workbook as open_xlsb"
   ]
  },
  {
   "cell_type": "code",
   "execution_count": 3,
   "id": "111133cd-06ce-45a6-8556-91199246e001",
   "metadata": {
    "lines_to_next_cell": 2
   },
   "outputs": [
    {
     "ename": "ModuleNotFoundError",
     "evalue": "No module named 'common_functions'",
     "output_type": "error",
     "traceback": [
      "\u001b[0;31m---------------------------------------------------------------------------\u001b[0m",
      "\u001b[0;31mModuleNotFoundError\u001b[0m                       Traceback (most recent call last)",
      "Cell \u001b[0;32mIn[3], line 2\u001b[0m\n\u001b[1;32m      1\u001b[0m \u001b[38;5;66;03m#Import functions\u001b[39;00m\n\u001b[0;32m----> 2\u001b[0m \u001b[38;5;28;01mfrom\u001b[39;00m \u001b[38;5;21;01mcommon_functions\u001b[39;00m \u001b[38;5;28;01mimport\u001b[39;00m own_account_allowed, convert_df_to_json, convert_df_to_csv, convert_df_to_excel, mnc_cleaner \n\u001b[1;32m      3\u001b[0m \u001b[38;5;66;03m#Import variables\u001b[39;00m\n\u001b[1;32m      4\u001b[0m \u001b[38;5;28;01mfrom\u001b[39;00m \u001b[38;5;21;01mcommon_functions\u001b[39;00m \u001b[38;5;28;01mimport\u001b[39;00m today_in_nums, errors_list, scraper_pause_mean, judgment_text_lower_bound\n",
      "\u001b[0;31mModuleNotFoundError\u001b[0m: No module named 'common_functions'"
     ]
    }
   ],
   "source": [
    "#Import functions\n",
    "from functions.common_functions import own_account_allowed, convert_df_to_json, convert_df_to_csv, convert_df_to_excel, clear_cache, list_range_check, au_date, save_input, pdf_judgment, display_df, download_buttons\n",
    "#Import variables\n",
    "from functions.common_functions import today_in_nums, errors_list, scraper_pause_mean, judgment_text_lower_bound, default_judgment_counter_bound, no_results_msg, search_error_display"
   ]
  },
  {
   "cell_type": "markdown",
   "id": "4e819e27",
   "metadata": {},
   "source": [
    "# Federal Courts search engine"
   ]
  },
  {
   "cell_type": "code",
   "execution_count": null,
   "id": "7ab282c4-c523-4d3d-a1f6-615fcf9897f7",
   "metadata": {
    "lines_to_next_cell": 2
   },
   "outputs": [],
   "source": [
    "from functions.fca_functions import fca_courts, fca_courts_list, fca_search, fca_search_url, fca_search_results_to_judgment_links, fca_metalabels, fca_metalabels_droppable, fca_meta_judgment_dict, fca_pdf_name_mnc_list, fca_pdf_name\n",
    "#fca_link_to_doc"
   ]
  },
  {
   "cell_type": "code",
   "execution_count": 2,
   "id": "0f3329d8-1716-4570-8dd0-4b5aa22aaed8",
   "metadata": {},
   "outputs": [
    {
     "ename": "ModuleNotFoundError",
     "evalue": "No module named 'common_functions'",
     "output_type": "error",
     "traceback": [
      "\u001b[0;31m---------------------------------------------------------------------------\u001b[0m",
      "\u001b[0;31mModuleNotFoundError\u001b[0m                       Traceback (most recent call last)",
      "Cell \u001b[0;32mIn[2], line 1\u001b[0m\n\u001b[0;32m----> 1\u001b[0m \u001b[38;5;28;01mfrom\u001b[39;00m \u001b[38;5;21;01mcommon_functions\u001b[39;00m \u001b[38;5;28;01mimport\u001b[39;00m link\n",
      "\u001b[0;31mModuleNotFoundError\u001b[0m: No module named 'common_functions'"
     ]
    }
   ],
   "source": [
    "from functions.common_functions import link"
   ]
  },
  {
   "cell_type": "code",
   "execution_count": 3,
   "id": "00f0e228-8b90-4951-83fb-7668f7010106",
   "metadata": {
    "lines_to_next_cell": 2
   },
   "outputs": [],
   "source": [
    "#function to create dataframe\n",
    "def fca_create_df():\n",
    "\n",
    "    #submission time\n",
    "    timestamp = datetime.now()\n",
    "\n",
    "    #Personal info entries\n",
    "\n",
    "    name = ''\n",
    "    \n",
    "    email = ''\n",
    "\n",
    "    gpt_api_key = ''\n",
    "\n",
    "    try:\n",
    "        name = name_entry\n",
    "    except:\n",
    "        print('Name not entered')\n",
    "    \n",
    "    try:\n",
    "        email = email_entry\n",
    "    except:\n",
    "        print('Email not entered')\n",
    "\n",
    "    try:\n",
    "        gpt_api_key = gpt_api_key_entry\n",
    "    except:\n",
    "        print('API key not entered')\n",
    "    \n",
    "    #Own account status\n",
    "    own_account = st.session_state.own_account\n",
    "\n",
    "    #Judgment counter bound\n",
    "    try:\n",
    "        judgments_counter_bound = judgments_counter_bound_entry\n",
    "    except:\n",
    "        print('judgments_counter_bound not entered')\n",
    "        judgments_counter_bound = default_judgment_counter_bound\n",
    "        \n",
    "    #GPT enhancement\n",
    "    try:\n",
    "        gpt_enhancement = gpt_enhancement_entry\n",
    "    except:\n",
    "        print('GPT enhancement not entered')\n",
    "        gpt_enhancement = False\n",
    "        \n",
    "    #Courts\n",
    "    #courts_list = courts_entry\n",
    "    #court_string = ', '.join(courts_list)\n",
    "    #court = court_string\n",
    "\n",
    "    court = courts_entry\n",
    "    \n",
    "    #dates\n",
    "    \n",
    "    on_this_date = ''\n",
    "\n",
    "    if on_this_date_entry != 'None':\n",
    "\n",
    "        try:\n",
    "\n",
    "            #on_this_date = on_this_date_entry.strftime('%d/%m/%Y') + on_this_date_entry.strftime('%d') + on_this_date_entry.strftime('%B').lower()[:3] + on_this_date_entry.strftime('Y')\n",
    "\n",
    "            on_this_date = str(on_this_date_entry.strftime('%d')) + str(on_this_date_entry.strftime('%B')).lower()[:3] + str(on_this_date_entry.strftime('%Y'))\n",
    "\n",
    "        except:\n",
    "            pass\n",
    "        \n",
    "    \n",
    "    before_date = ''\n",
    "\n",
    "    if before_date_entry != 'None':\n",
    "\n",
    "        try:\n",
    "\n",
    "            before_date = str(before_date_entry.strftime('%d')) + str(before_date_entry.strftime('%B')).lower()[:3] + str(before_date_entry.strftime('%Y'))\n",
    "\n",
    "        except:\n",
    "            pass\n",
    "\n",
    "    \n",
    "    after_date = ''\n",
    "\n",
    "    if after_date_entry != 'None':\n",
    "        \n",
    "        try:\n",
    "            after_date = str(after_date_entry.strftime('%d')) + str(after_date_entry.strftime('%B')).lower()[:3] + str(after_date_entry.strftime('%Y'))\n",
    "            \n",
    "        except:\n",
    "            pass\n",
    "    \n",
    "    #Other entries\n",
    "    case_name_mnc = case_name_mnc_entry\n",
    "    judge =  judge_entry\n",
    "    reported_citation = reported_citation_entry\n",
    "    file_number = file_number_entry\n",
    "    npa = npa_entry\n",
    "    with_all_the_words = with_all_the_words_entry\n",
    "    with_at_least_one_of_the_words = with_at_least_one_of_the_words_entry\n",
    "    without_the_words = without_the_words_entry\n",
    "    phrase = phrase_entry\n",
    "    proximity = proximity_entry\n",
    "    legislation = legislation_entry\n",
    "    cases_cited = cases_cited_entry\n",
    "    catchwords = catchwords_entry \n",
    "    \n",
    "    #GPT choice and entry\n",
    "    try:\n",
    "        gpt_activation_status = gpt_activation_entry\n",
    "    except:\n",
    "        gpt_activation_status = False\n",
    "    \n",
    "    gpt_questions = ''\n",
    "    \n",
    "    try:\n",
    "        gpt_questions = gpt_questions_entry[0: question_characters_bound]\n",
    "    \n",
    "    except:\n",
    "        print('GPT questions not entered.')\n",
    "\n",
    "    #metadata choice\n",
    "\n",
    "    meta_data_choice = meta_data_entry\n",
    "    \n",
    "    new_row = {'Processed': '',\n",
    "           'Timestamp': timestamp,\n",
    "           'Your name': name, \n",
    "           'Your email address': email, \n",
    "           'Your GPT API key': gpt_api_key, \n",
    "           'Courts' : court, \n",
    "           'Case name or medium neutral citation': case_name_mnc, \n",
    "           'Judge' : judge, \n",
    "            'Reported citation' : reported_citation, \n",
    "            'File number': file_number,\n",
    "            'National practice area': npa,\n",
    "            'With all the words': with_all_the_words,\n",
    "            'With at least one of the words': with_at_least_one_of_the_words,\n",
    "            'Without the words': without_the_words,\n",
    "            'Phrase': phrase,\n",
    "            'Proximity': proximity,\n",
    "            'On this date': on_this_date,\n",
    "            'Decision date is after': after_date,\n",
    "            'Decision date is before': before_date,\n",
    "            'Legislation': legislation,\n",
    "            'Cases cited': cases_cited,\n",
    "            'Catchwords' : catchwords, \n",
    "            'Metadata inclusion' : meta_data_choice,\n",
    "           'Maximum number of judgments': judgments_counter_bound, \n",
    "           'Enter your questions for GPT': gpt_questions, \n",
    "            'Use GPT': gpt_activation_status,\n",
    "           'Use own account': own_account,\n",
    "            'Use flagship version of GPT' : gpt_enhancement\n",
    "          }\n",
    "\n",
    "    df_master_new = pd.DataFrame(new_row, index = [0])\n",
    "            \n",
    "    return df_master_new"
   ]
  },
  {
   "cell_type": "markdown",
   "id": "f9a2d594",
   "metadata": {},
   "source": [
    "# GPT functions and parameters"
   ]
  },
  {
   "cell_type": "code",
   "execution_count": null,
   "id": "da3be60b-5f6b-44fe-9e59-1c51310b8824",
   "metadata": {
    "lines_to_next_cell": 2
   },
   "outputs": [],
   "source": [
    "#Import functions\n",
    "from functions.gpt_functions import split_by_line, GPT_label_dict, is_api_key_valid, gpt_input_cost, gpt_output_cost, tokens_cap, max_output, num_tokens_from_string, judgment_prompt_json, GPT_json, engage_GPT_json  \n",
    "#Import variables\n",
    "from functions.gpt_functions import question_characters_bound, default_msg, default_caption"
   ]
  },
  {
   "cell_type": "code",
   "execution_count": null,
   "id": "f20ba06e-2c4c-4ae6-ac7e-06a8d84d4252",
   "metadata": {},
   "outputs": [],
   "source": [
    "#For checking questions and answers\n",
    "from functions.common_functions import check_questions_answers\n",
    "\n",
    "from functions.gpt_functions import questions_check_system_instruction, GPT_questions_check, checked_questions_json, answers_check_system_instruction\n",
    "\n"
   ]
  },
  {
   "cell_type": "code",
   "execution_count": null,
   "id": "a03e8eaf",
   "metadata": {},
   "outputs": [],
   "source": [
    "#Initialize default GPT settings\n",
    "\n",
    "if 'gpt_model' not in st.session_state:\n",
    "    st.session_state['gpt_model'] = \"gpt-4o-mini\"\n",
    "    \n",
    "#Initialize API key\n",
    "if 'gpt_api_key' not in st.session_state:\n",
    "\n",
    "    st.session_state['gpt_api_key'] = st.secrets[\"openai\"][\"gpt_api_key\"]"
   ]
  },
  {
   "cell_type": "markdown",
   "id": "63d5dcd6",
   "metadata": {},
   "source": [
    "# Streamlit form, functions and parameters"
   ]
  },
  {
   "cell_type": "code",
   "execution_count": 5,
   "id": "01e54f7a-0689-49e5-a6c9-39ea7ce6b7b9",
   "metadata": {
    "lines_to_next_cell": 2
   },
   "outputs": [
    {
     "ename": "ModuleNotFoundError",
     "evalue": "No module named 'common_functions'",
     "output_type": "error",
     "traceback": [
      "\u001b[0;31m---------------------------------------------------------------------------\u001b[0m",
      "\u001b[0;31mModuleNotFoundError\u001b[0m                       Traceback (most recent call last)",
      "Cell \u001b[0;32mIn[5], line 2\u001b[0m\n\u001b[1;32m      1\u001b[0m \u001b[38;5;66;03m#Import functions and variables\u001b[39;00m\n\u001b[0;32m----> 2\u001b[0m \u001b[38;5;28;01mfrom\u001b[39;00m \u001b[38;5;21;01mcommon_functions\u001b[39;00m \u001b[38;5;28;01mimport\u001b[39;00m open_page, clear_cache_except_validation_df_master, tips\n",
      "\u001b[0;31mModuleNotFoundError\u001b[0m: No module named 'common_functions'"
     ]
    }
   ],
   "source": [
    "#Import functions and variables\n",
    "from functions.common_functions import open_page, clear_cache_except_validation_df_master, tips"
   ]
  },
  {
   "cell_type": "markdown",
   "id": "c765f659-bf18-4e59-a76c-af2c58f910a9",
   "metadata": {},
   "source": [
    "## Initialize session states"
   ]
  },
  {
   "cell_type": "code",
   "execution_count": 6,
   "id": "523f9d21-666d-4b2e-8749-e89692939761",
   "metadata": {},
   "outputs": [
    {
     "name": "stderr",
     "output_type": "stream",
     "text": [
      "2024-06-14 10:18:32.059 WARNING streamlit.runtime.state.session_state_proxy: Session state does not function when running a script without `streamlit run`\n"
     ]
    }
   ],
   "source": [
    "#Initialize default values\n",
    "\n",
    "if 'own_account' not in st.session_state:\n",
    "    st.session_state['own_account'] = False\n",
    "\n",
    "if 'need_resetting' not in st.session_state:\n",
    "        \n",
    "    st.session_state['need_resetting'] = 0\n",
    "\n",
    "if 'df_master' not in st.session_state:\n",
    "\n",
    "    #Generally applicable\n",
    "    st.session_state['df_master'] = pd.DataFrame([])\n",
    "    st.session_state['df_master'].loc[0, 'Your name'] = ''\n",
    "    st.session_state['df_master'].loc[0, 'Your email address'] = ''\n",
    "    st.session_state['df_master'].loc[0, 'Your GPT API key'] = ''\n",
    "    st.session_state['df_master'].loc[0, 'Metadata inclusion'] = True\n",
    "    st.session_state['df_master'].loc[0, 'Maximum number of judgments'] = default_judgment_counter_bound\n",
    "    st.session_state['df_master'].loc[0, 'Enter your questions for GPT'] = ''\n",
    "    st.session_state['df_master'].loc[0, 'Use GPT'] = False\n",
    "    st.session_state['df_master'].loc[0, 'Use own account'] = False\n",
    "    st.session_state['df_master'].loc[0, 'Use flagship version of GPT'] = False\n",
    "    st.session_state['df_master'].loc[0, 'Example'] = ''\n",
    "\n",
    "    #Jurisdiction specific\n",
    "    st.session_state['df_master'].loc[0, 'Courts'] = 'Federal Court'\n",
    "    st.session_state['df_master'].loc[0, 'Case name or medium neutral citation'] = None\n",
    "    st.session_state['df_master'].loc[0, 'Judge'] = None\n",
    "    st.session_state['df_master'].loc[0, 'Reported citation'] = None\n",
    "    st.session_state['df_master'].loc[0, 'File number'] = None\n",
    "    st.session_state['df_master'].loc[0, 'National practice area'] = None\n",
    "    st.session_state['df_master'].loc[0, 'With all the words'] = None\n",
    "    st.session_state['df_master'].loc[0, 'With at least one of the words'] = None\n",
    "    st.session_state['df_master'].loc[0, 'Without the words'] = None\n",
    "    st.session_state['df_master'].loc[0, 'Phrase'] = None\n",
    "    st.session_state['df_master'].loc[0, 'Proximity'] = None\n",
    "    st.session_state['df_master'].loc[0, 'On this date'] = None\n",
    "    st.session_state['df_master'].loc[0, 'Decision date is after'] = None\n",
    "    st.session_state['df_master'].loc[0, 'Decision date is before'] = None\n",
    "    st.session_state['df_master'].loc[0, 'Legislation'] = None\n",
    "    st.session_state['df_master'].loc[0, 'Cases cited'] = None\n",
    "    st.session_state['df_master'].loc[0, 'Catchwords']  = None\n",
    "\n",
    "    #Generally applicable\n",
    "    st.session_state['df_master'] = st.session_state['df_master'].replace({np.nan: None})\n",
    "    \n",
    "if 'df_individual_output' not in st.session_state:\n",
    "\n",
    "    st.session_state['df_individual_output'] = pd.DataFrame([])\n",
    "\n",
    "#Disable toggles\n",
    "if 'disable_input' not in st.session_state:\n",
    "    st.session_state[\"disable_input\"] = True"
   ]
  },
  {
   "cell_type": "code",
   "execution_count": null,
   "id": "f0ca31b5-633d-4a11-8514-25325fbdec89",
   "metadata": {},
   "outputs": [],
   "source": [
    "#If landing page is not home\n",
    "if 'page_from' not in st.session_state:\n",
    "    st.session_state['page_from'] = 'HOME.py'"
   ]
  },
  {
   "cell_type": "markdown",
   "id": "1a4d818b-8edf-4510-adb8-a81a60a55bb6",
   "metadata": {},
   "source": [
    "## Form before AI"
   ]
  },
  {
   "cell_type": "code",
   "execution_count": 8,
   "id": "c683d9af",
   "metadata": {},
   "outputs": [
    {
     "name": "stderr",
     "output_type": "stream",
     "text": [
      "2024-06-14 10:18:33.432 \n",
      "  \u001b[33m\u001b[1mWarning:\u001b[0m to view this Streamlit app on a browser, run it with the following\n",
      "  command:\n",
      "\n",
      "    streamlit run /Users/Ben/anaconda3/lib/python3.11/site-packages/ipykernel_launcher.py [ARGUMENTS]\n"
     ]
    },
    {
     "ename": "NameError",
     "evalue": "name 'fca_courts_list' is not defined",
     "output_type": "error",
     "traceback": [
      "\u001b[0;31m---------------------------------------------------------------------------\u001b[0m",
      "\u001b[0;31mNameError\u001b[0m                                 Traceback (most recent call last)",
      "Cell \u001b[0;32mIn[8], line 16\u001b[0m\n\u001b[1;32m     12\u001b[0m st\u001b[38;5;241m.\u001b[39mcaption(\u001b[38;5;124m'\u001b[39m\u001b[38;5;124mDuring the pilot stage, the number of judgments to scrape is capped. Please reach out to Ben Chen at ben.chen@sydney.edu.au should you wish to cover more judgments, courts, or tribunals.\u001b[39m\u001b[38;5;124m'\u001b[39m)\n\u001b[1;32m     14\u001b[0m st\u001b[38;5;241m.\u001b[39msubheader(\u001b[38;5;124m\"\u001b[39m\u001b[38;5;124mFederal courts and tribunals to cover\u001b[39m\u001b[38;5;124m\"\u001b[39m)\n\u001b[0;32m---> 16\u001b[0m courts_entry \u001b[38;5;241m=\u001b[39m st\u001b[38;5;241m.\u001b[39mselectbox(label \u001b[38;5;241m=\u001b[39m \u001b[38;5;124m'\u001b[39m\u001b[38;5;124mSelect or type in the courts or tribunals to cover\u001b[39m\u001b[38;5;124m'\u001b[39m, options \u001b[38;5;241m=\u001b[39m fca_courts_list, index \u001b[38;5;241m=\u001b[39m fca_courts_list\u001b[38;5;241m.\u001b[39mindex(\u001b[38;5;124m'\u001b[39m\u001b[38;5;124mFederal Court\u001b[39m\u001b[38;5;124m'\u001b[39m))\n\u001b[1;32m     18\u001b[0m st\u001b[38;5;241m.\u001b[39msubheader(\u001b[38;5;124m\"\u001b[39m\u001b[38;5;124mYour search terms\u001b[39m\u001b[38;5;124m\"\u001b[39m)\n\u001b[1;32m     20\u001b[0m st\u001b[38;5;241m.\u001b[39mmarkdown(\u001b[38;5;124m\"\"\"\u001b[39m\u001b[38;5;124mFor search tips, please visit the Federal Court Digital Law Library at https://www.fedcourt.gov.au/digital-law-library/judgments/search. This section mimics their judgments search function.\u001b[39m\n\u001b[1;32m     21\u001b[0m \u001b[38;5;124m\"\"\"\u001b[39m)\n",
      "\u001b[0;31mNameError\u001b[0m: name 'fca_courts_list' is not defined"
     ]
    }
   ],
   "source": [
    "#if st.session_state.page_from != \"pages/FCA.py\": #Need to add in order to avoid GPT page from showing form of previous page\n",
    "\n",
    "#Create form\n",
    "\n",
    "return_button = st.button('RETURN to first page')\n",
    "\n",
    "st.header(f\"Search :blue[cases of the Federal Court of Australia]\")\n",
    "\n",
    "st.success(default_msg)\n",
    "\n",
    "st.write(f'This app sources cases from the [Federal Court Digital Law Library](https://www.fedcourt.gov.au/digital-law-library/judgments/search)  and the [Open Australian Legal Corpus](https://huggingface.co/datasets/umarbutler/open-australian-legal-corpus) compiled by Umar Butler.')\n",
    "\n",
    "st.caption(default_caption)\n",
    "\n",
    "reset_button = st.button(label='RESET', type = 'primary')\n",
    "\n",
    "st.subheader(\"Court or tribunal to cover\")\n",
    "\n",
    "courts_entry = st.selectbox(label = 'Select one to search', options = fca_courts_list, index = fca_courts_list.index(st.session_state.df_master.loc[0, 'Courts']))\n",
    "\n",
    "st.write('You may select the Federal Court, tribunals administered by the Court, the Supreme Court of Norfolk Island and the Industrial Relations Court of Australia.')\n",
    "\n",
    "st.subheader(\"Your search terms\")\n",
    "\n",
    "st.markdown(\"\"\"For search tips, please visit the [Federal Court Digital Law Library](https://www.fedcourt.gov.au/digital-law-library/judgments/search). This section mimics their judgments search function.\n",
    "\"\"\")\n",
    "\n",
    "catchwords_entry = st.text_input(label = 'Catchwords', value = st.session_state.df_master.loc[0, 'Catchwords'] )\n",
    "\n",
    "legislation_entry = st.text_input(label = 'Legislation', value = st.session_state.df_master.loc[0, 'Legislation'])\n",
    "\n",
    "cases_cited_entry = st.text_input(label = 'Cases cited', value = st.session_state.df_master.loc[0, 'Cases cited'])\n",
    "\n",
    "case_name_mnc_entry = st.text_input(label = \"Case name or medium neutral citation\", value = st.session_state.df_master.loc[0, 'Case name or medium neutral citation'])\n",
    "\n",
    "judge_entry = st.text_input(label = 'Judge', value = st.session_state.df_master.loc[0, 'Judge'])\n",
    "\n",
    "reported_citation_entry = st.text_input(label = 'Reported citation', value = st.session_state.df_master.loc[0, 'Reported citation'])\n",
    "\n",
    "file_number_entry = st.text_input(label = 'File number', value = st.session_state.df_master.loc[0, 'File number'])\n",
    "\n",
    "npa_entry = st.text_input(label = 'National practice area', value = st.session_state.df_master.loc[0, 'National practice area'] )\n",
    "\n",
    "with_all_the_words_entry = st.text_input(label = 'With ALL the words', value = st.session_state.df_master.loc[0, 'With all the words'] )\n",
    "\n",
    "with_at_least_one_of_the_words_entry = st.text_input(label = 'With at least one of the words', value = st.session_state.df_master.loc[0, 'With at least one of the words'])\n",
    "\n",
    "without_the_words_entry = st.text_input(label = 'Without the words', value = st.session_state.df_master.loc[0, 'Without the words'])\n",
    "\n",
    "phrase_entry = st.text_input(label = 'Phrase', value = st.session_state.df_master.loc[0, 'Phrase'])\n",
    "\n",
    "proximity_entry  = st.text_input(label = 'Proximity', value = st.session_state.df_master.loc[0, 'Proximity'])\n",
    "\n",
    "on_this_date_entry = st.date_input(label = 'On this date', value = au_date(st.session_state.df_master.loc[0, 'On this date']), format=\"DD/MM/YYYY\", min_value = date(1976, 1, 1), max_value = datetime.now(), help = \"If you cannot change this date entry, please press :red[RESET] and try again.\")\n",
    "\n",
    "after_date_entry = st.date_input(label = 'Decision date is after', value = au_date(st.session_state.df_master.loc[0, 'Decision date is after']), format=\"DD/MM/YYYY\", min_value = date(1976, 1, 1), max_value = datetime.now(), help = \"If you cannot change this date entry, please press :red[RESET] and try again.\")\n",
    "\n",
    "before_date_entry = st.date_input(label = 'Decision date is before', value = au_date(st.session_state.df_master.loc[0, 'Decision date is before'] ), format=\"DD/MM/YYYY\", min_value = date(1976, 1, 1), max_value = datetime.now(), help = \"If you cannot change this date entry, please press :red[RESET] and try again.\")\n",
    "\n",
    "st.caption('This app will not collect catchwords or other metadata from judgments published before 1995 (given their [PDF](https://www.fedcourt.gov.au/digital-law-library/judgments/judgments-faq) format).')\n",
    "\n",
    "#st.subheader(\"Judgment metadata collection\")\n",
    "\n",
    "#st.markdown(\"\"\"Would you like to obtain judgment metadata? Such data include the name of the judge, the decision date and so on. \n",
    "\n",
    "#Case name and medium neutral citation are always included with your results.\n",
    "#\"\"\")\n",
    "\n",
    "#meta_data_entry = st.checkbox(label = 'Include metadata', value = st.session_state['df_master'].loc[0, 'Metadata inclusion'])\n",
    "meta_data_entry = True\n",
    "\n",
    "st.info(\"\"\"You can preview the results returned by your search terms.\"\"\")\n",
    "\n",
    "with stylable_container(\n",
    "    \"purple\",\n",
    "    css_styles=\"\"\"\n",
    "    button {\n",
    "        background-color: purple;\n",
    "        color: white;\n",
    "    }\"\"\",\n",
    "):\n",
    "    preview_button = st.button(label = 'PREVIEW')\n",
    "\n"
   ]
  },
  {
   "cell_type": "markdown",
   "id": "9b89caf0-4608-4fb0-bbc2-43bec6e5b605",
   "metadata": {},
   "source": [
    "## Preview"
   ]
  },
  {
   "cell_type": "code",
   "execution_count": null,
   "id": "b65e6cdc-79dd-426f-a078-775fb5fd94a5",
   "metadata": {},
   "outputs": [],
   "source": [
    "if preview_button:\n",
    "    \n",
    "    with st.spinner(r\"$\\textsf{\\normalsize Getting your search results...}$\"):\n",
    "        \n",
    "        df_master = fca_create_df()\n",
    "        \n",
    "        results_url_num = fca_search_url(df_master)\n",
    "            \n",
    "        results_count = results_url_num['results_count']\n",
    "    \n",
    "        results_url = results_url_num['results_url']\n",
    "    \n",
    "        search_results_soup = results_url_num['soup']\n",
    "    \n",
    "        if results_count > 0:\n",
    "        \n",
    "            #Get relevant cases\n",
    "            \n",
    "            judgments_file = []\n",
    "            \n",
    "            judgments_counter_bound = int(df_master.loc[0, 'Maximum number of judgments'])\n",
    "            \n",
    "            case_infos = fca_search_results_to_judgment_links(search_results_soup, results_url, judgments_counter_bound)\n",
    "            \n",
    "            for case in case_infos:\n",
    "            \n",
    "                #add search results to json\n",
    "                judgments_file.append(case)\n",
    "    \n",
    "            df_preview = pd.DataFrame(judgments_file)\n",
    "    \n",
    "            #Get display settings\n",
    "            display_df_dict = display_df(df_preview)\n",
    "    \n",
    "            df_preview = display_df_dict['df']\n",
    "    \n",
    "            link_heading_config = display_df_dict['link_heading_config']\n",
    "    \n",
    "            #Display search results\n",
    "            st.success(f'Your search terms returned {results_count} result(s). Please see below for the top {min(results_count, default_judgment_counter_bound)} result(s).')\n",
    "                        \n",
    "            st.dataframe(df_preview.head(default_judgment_counter_bound),  column_config=link_heading_config)\n",
    "    \n",
    "            st.page_link(results_url, label=f\"SEE all search results (in a popped up window)\", icon = \"🌎\")\n",
    "    \n",
    "        else:\n",
    "            st.error(no_results_msg)"
   ]
  },
  {
   "cell_type": "markdown",
   "id": "d2a2534f-d413-4bdd-b12a-be3d43ebafcd",
   "metadata": {},
   "source": [
    "## Buttons"
   ]
  },
  {
   "cell_type": "code",
   "execution_count": 1,
   "id": "5428b07e-fe2e-4854-88a1-d216fd143912",
   "metadata": {
    "lines_to_next_cell": 2
   },
   "outputs": [
    {
     "ename": "NameError",
     "evalue": "name 'st' is not defined",
     "output_type": "error",
     "traceback": [
      "\u001b[0;31m---------------------------------------------------------------------------\u001b[0m",
      "\u001b[0;31mNameError\u001b[0m                                 Traceback (most recent call last)",
      "Cell \u001b[0;32mIn[1], line 3\u001b[0m\n\u001b[1;32m      1\u001b[0m \u001b[38;5;66;03m#Buttons\u001b[39;00m\n\u001b[0;32m----> 3\u001b[0m col1, col2, col3, col4 \u001b[38;5;241m=\u001b[39m \u001b[43mst\u001b[49m\u001b[38;5;241m.\u001b[39mcolumns(\u001b[38;5;241m4\u001b[39m, gap \u001b[38;5;241m=\u001b[39m \u001b[38;5;124m'\u001b[39m\u001b[38;5;124msmall\u001b[39m\u001b[38;5;124m'\u001b[39m)\n\u001b[1;32m      5\u001b[0m \u001b[38;5;28;01mwith\u001b[39;00m col1:\n\u001b[1;32m      6\u001b[0m     keep_button \u001b[38;5;241m=\u001b[39m st\u001b[38;5;241m.\u001b[39mbutton(\u001b[38;5;124m'\u001b[39m\u001b[38;5;124mSAVE\u001b[39m\u001b[38;5;124m'\u001b[39m)\n",
      "\u001b[0;31mNameError\u001b[0m: name 'st' is not defined"
     ]
    }
   ],
   "source": [
    "#Buttons\n",
    "\n",
    "#col1, col2, col3, col4 = st.columns(4, gap = 'small')\n",
    "\n",
    "#with col1:\n",
    "\n",
    "    #reset_button = st.button(label='RESET', type = 'primary')\n",
    "\n",
    "#with col4:\n",
    "with stylable_container(\n",
    "    \"green\",\n",
    "    css_styles=\"\"\"\n",
    "    button {\n",
    "        background-color: #00FF00;\n",
    "        color: black;\n",
    "    }\"\"\",\n",
    "):\n",
    "    next_button = st.button(label='NEXT')\n",
    "\n",
    "keep_button = st.button('SAVE')"
   ]
  },
  {
   "cell_type": "markdown",
   "id": "9f6f71a3",
   "metadata": {},
   "source": [
    "# Save and run"
   ]
  },
  {
   "cell_type": "code",
   "execution_count": 14,
   "id": "4873fffb",
   "metadata": {
    "lines_to_next_cell": 2
   },
   "outputs": [
    {
     "ename": "NameError",
     "evalue": "name 'keep_button' is not defined",
     "output_type": "error",
     "traceback": [
      "\u001b[0;31m---------------------------------------------------------------------------\u001b[0m",
      "\u001b[0;31mNameError\u001b[0m                                 Traceback (most recent call last)",
      "Cell \u001b[0;32mIn[14], line 1\u001b[0m\n\u001b[0;32m----> 1\u001b[0m \u001b[38;5;28;01mif\u001b[39;00m keep_button:\n\u001b[1;32m      2\u001b[0m \n\u001b[1;32m      3\u001b[0m     \u001b[38;5;66;03m#Check whether search terms entered\u001b[39;00m\n\u001b[1;32m      5\u001b[0m     all_search_terms \u001b[38;5;241m=\u001b[39m \u001b[38;5;28mstr\u001b[39m(catchwords_entry) \u001b[38;5;241m+\u001b[39m \u001b[38;5;28mstr\u001b[39m(legislation_entry) \u001b[38;5;241m+\u001b[39m \u001b[38;5;28mstr\u001b[39m(cases_cited_entry) \u001b[38;5;241m+\u001b[39m \u001b[38;5;28mstr\u001b[39m(case_name_mnc_entry) \u001b[38;5;241m+\u001b[39m \u001b[38;5;28mstr\u001b[39m(judge_entry) \u001b[38;5;241m+\u001b[39m \u001b[38;5;28mstr\u001b[39m(reported_citation_entry) \u001b[38;5;241m+\u001b[39m \u001b[38;5;28mstr\u001b[39m(file_number_entry) \u001b[38;5;241m+\u001b[39m \u001b[38;5;28mstr\u001b[39m(npa_entry) \u001b[38;5;241m+\u001b[39m \u001b[38;5;28mstr\u001b[39m(with_all_the_words_entry) \u001b[38;5;241m+\u001b[39m \u001b[38;5;28mstr\u001b[39m(with_at_least_one_of_the_words_entry) \u001b[38;5;241m+\u001b[39m \u001b[38;5;28mstr\u001b[39m(without_the_words_entry) \u001b[38;5;241m+\u001b[39m \u001b[38;5;28mstr\u001b[39m(phrase_entry) \u001b[38;5;241m+\u001b[39m \u001b[38;5;28mstr\u001b[39m(proximity_entry) \u001b[38;5;241m+\u001b[39m \u001b[38;5;28mstr\u001b[39m(on_this_date_entry) \u001b[38;5;241m+\u001b[39m \u001b[38;5;28mstr\u001b[39m(after_date_entry) \u001b[38;5;241m+\u001b[39m \u001b[38;5;28mstr\u001b[39m(before_date_entry)\n\u001b[1;32m      7\u001b[0m     \u001b[38;5;28;01mif\u001b[39;00m all_search_terms\u001b[38;5;241m.\u001b[39mreplace(\u001b[38;5;124m'\u001b[39m\u001b[38;5;124mNone\u001b[39m\u001b[38;5;124m'\u001b[39m, \u001b[38;5;124m'\u001b[39m\u001b[38;5;124m'\u001b[39m) \u001b[38;5;241m==\u001b[39m \u001b[38;5;124m\"\u001b[39m\u001b[38;5;124m\"\u001b[39m:\n",
      "\u001b[0;31mNameError\u001b[0m: name 'keep_button' is not defined"
     ]
    }
   ],
   "source": [
    "if keep_button:\n",
    "\n",
    "    #Check whether search terms entered\n",
    "\n",
    "    all_search_terms = str(catchwords_entry) + str(legislation_entry) + str(cases_cited_entry) + str(case_name_mnc_entry) + str(judge_entry) + str(reported_citation_entry) + str(file_number_entry) + str(npa_entry) + str(with_all_the_words_entry) + str(with_at_least_one_of_the_words_entry) + str(without_the_words_entry) + str(phrase_entry) + str(proximity_entry) + str(on_this_date_entry) + str(after_date_entry) + str(before_date_entry)\n",
    "    \n",
    "    if all_search_terms.replace('None', '') == \"\":\n",
    "\n",
    "        st.warning('You must enter some search terms.')\n",
    "                \n",
    "    else:\n",
    "            \n",
    "        df_master = fca_create_df()\n",
    "\n",
    "        save_input(df_master)\n",
    "        \n",
    "        download_buttons(df_master = df_master, df_individual = [], saving = True, previous = False)"
   ]
  },
  {
   "cell_type": "code",
   "execution_count": 15,
   "id": "9837b934-f6e5-4db5-851c-0d4e48b85482",
   "metadata": {
    "lines_to_next_cell": 2
   },
   "outputs": [],
   "source": [
    "if return_button:\n",
    "    \n",
    "    df_master = fca_create_df()\n",
    "\n",
    "    save_input(df_master)\n",
    "\n",
    "    st.session_state[\"page_from\"] = 'pages/FCA.py'\n",
    "    \n",
    "    st.switch_page(\"Home.py\")"
   ]
  },
  {
   "cell_type": "code",
   "execution_count": null,
   "id": "23395fa0-c2e6-4a9a-afab-fcbb62254306",
   "metadata": {},
   "outputs": [],
   "source": [
    "#if remove_button:\n",
    "    \n",
    "    #st.session_state.pop('df_master')\n",
    "\n",
    "    #st.rerun()"
   ]
  },
  {
   "cell_type": "code",
   "execution_count": 16,
   "id": "f16f2fc5-c22d-4f00-a3f4-f063c2c9594f",
   "metadata": {
    "scrolled": true
   },
   "outputs": [
    {
     "ename": "NameError",
     "evalue": "name 'reset_button' is not defined",
     "output_type": "error",
     "traceback": [
      "\u001b[0;31m---------------------------------------------------------------------------\u001b[0m",
      "\u001b[0;31mNameError\u001b[0m                                 Traceback (most recent call last)",
      "Cell \u001b[0;32mIn[16], line 1\u001b[0m\n\u001b[0;32m----> 1\u001b[0m \u001b[38;5;28;01mif\u001b[39;00m reset_button:\n\u001b[1;32m      2\u001b[0m     clear_cache_except_validation_df_master()\n\u001b[1;32m      3\u001b[0m     st\u001b[38;5;241m.\u001b[39mrerun()\n",
      "\u001b[0;31mNameError\u001b[0m: name 'reset_button' is not defined"
     ]
    }
   ],
   "source": [
    "if reset_button:\n",
    "    st.session_state.pop('df_master')\n",
    "\n",
    "    #clear_cache()\n",
    "    st.rerun()"
   ]
  },
  {
   "cell_type": "code",
   "execution_count": null,
   "id": "9470438d-e485-44e4-8e10-798973642140",
   "metadata": {
    "lines_to_next_cell": 2
   },
   "outputs": [],
   "source": [
    "if next_button:\n",
    "\n",
    "    all_search_terms = str(catchwords_entry) + str(legislation_entry) + str(cases_cited_entry) + str(case_name_mnc_entry) + str(judge_entry) + str(reported_citation_entry) + str(file_number_entry) + str(npa_entry) + str(with_all_the_words_entry) + str(with_at_least_one_of_the_words_entry) + str(without_the_words_entry) + str(phrase_entry) + str(proximity_entry) + str(on_this_date_entry) + str(after_date_entry) + str(before_date_entry)\n",
    "    \n",
    "    if all_search_terms.replace('None', '') == \"\":\n",
    "\n",
    "        st.warning('You must enter some search terms.')\n",
    "    \n",
    "    else:\n",
    "    \n",
    "        df_master = fca_create_df()\n",
    "\n",
    "        #Check search results\n",
    "        with st.spinner(r\"$\\textsf{\\normalsize Checking your search terms...}$\"):\n",
    "\n",
    "            try:\n",
    "                \n",
    "                results_url_num = fca_search_url(df_master)\n",
    "                    \n",
    "                results_count = results_url_num['results_count']\n",
    "\n",
    "                if results_count == 0:\n",
    "                    \n",
    "                    st.error(no_results_msg)\n",
    "\n",
    "                else:\n",
    "    \n",
    "                    save_input(df_master)\n",
    "    \n",
    "                    st.session_state[\"page_from\"] = 'pages/FCA.py'\n",
    "                    \n",
    "                    st.switch_page('pages/GPT.py')\n",
    "                    \n",
    "            except Exception as e:\n",
    "                print(search_error_display)\n",
    "                print(e)\n",
    "                st.error(search_error_display)\n",
    "                st.error(e)\n",
    "        \n",
    "                st.stop()"
   ]
  }
 ],
 "metadata": {
  "jupytext": {
   "formats": "ipynb,py:percent"
  },
  "kernelspec": {
   "display_name": "Python 3 (ipykernel)",
   "language": "python",
   "name": "python3"
  },
  "language_info": {
   "codemirror_mode": {
    "name": "ipython",
    "version": 3
   },
   "file_extension": ".py",
   "mimetype": "text/x-python",
   "name": "python",
   "nbconvert_exporter": "python",
   "pygments_lexer": "ipython3",
   "version": "3.11.7"
  }
 },
 "nbformat": 4,
 "nbformat_minor": 5
}
