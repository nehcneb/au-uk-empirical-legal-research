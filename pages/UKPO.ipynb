{
 "cells": [
  {
   "cell_type": "markdown",
   "id": "c3b8b879",
   "metadata": {
    "editable": true,
    "slideshow": {
     "slide_type": ""
    },
    "tags": []
   },
   "source": [
    "# Preliminaries"
   ]
  },
  {
   "cell_type": "code",
   "execution_count": 32,
   "id": "f2312235",
   "metadata": {
    "lines_to_next_cell": 2,
    "scrolled": true
   },
   "outputs": [],
   "source": [
    "#Preliminary modules\n",
    "import base64 \n",
    "import json\n",
    "import pandas as pd\n",
    "import shutil\n",
    "import numpy as np\n",
    "import re\n",
    "import datetime\n",
    "from datetime import date\n",
    "from dateutil import parser\n",
    "#from dateutil.relativedelta import *\n",
    "from datetime import datetime, timedelta\n",
    "import sys\n",
    "import pause\n",
    "import requests\n",
    "from bs4 import BeautifulSoup, SoupStrainer\n",
    "import httplib2\n",
    "from urllib.request import urlretrieve\n",
    "import os\n",
    "#import pypdf\n",
    "import io\n",
    "from io import BytesIO\n",
    "\n",
    "#Streamlit\n",
    "import streamlit as st\n",
    "#from streamlit_gsheets import GSheetsConnection\n",
    "from streamlit.components.v1 import html\n",
    "#import streamlit_ext as ste\n",
    "from streamlit_extras.stylable_container import stylable_container\n",
    "\n",
    "#OpenAI\n",
    "import openai\n",
    "import tiktoken\n",
    "\n",
    "#Google\n",
    "#from google.oauth2 import service_account\n",
    "\n",
    "#Excel\n",
    "from pyxlsb import open_workbook as open_xlsb"
   ]
  },
  {
   "cell_type": "code",
   "execution_count": 34,
   "id": "111133cd-06ce-45a6-8556-91199246e001",
   "metadata": {
    "lines_to_next_cell": 2
   },
   "outputs": [
    {
     "name": "stdout",
     "output_type": "stream",
     "text": [
      "By default, users are allowed to use their own account\n",
      "The pause between judgment scraping is 5 second.\n",
      "\n",
      "The lower bound on lenth of judgment text to process is 5000 tokens.\n",
      "\n"
     ]
    }
   ],
   "source": [
    "#Import functions\n",
    "from functions.common_functions import own_account_allowed, convert_df_to_json, convert_df_to_csv, convert_df_to_excel, clear_cache, list_value_check, list_range_check, save_input, display_df, download_buttons\n",
    "#Import variables\n",
    "from functions.common_functions import today_in_nums, scraper_pause_mean, judgment_text_lower_bound, default_judgment_counter_bound, no_results_msg, search_error_display"
   ]
  },
  {
   "cell_type": "markdown",
   "id": "4e819e27",
   "metadata": {},
   "source": [
    "# UKPO search engine"
   ]
  },
  {
   "cell_type": "code",
   "execution_count": 35,
   "id": "4103ada8-0bb3-435e-88ce-76d8b2ae4c56",
   "metadata": {
    "lines_to_next_cell": 2
   },
   "outputs": [
    {
     "ename": "ImportError",
     "evalue": "cannot import name 'us_search_url' from 'functions.us_functions' (/Users/Ben/Library/CloudStorage/Dropbox/Python/GitHub/lawtodata/functions/us_functions.py)",
     "output_type": "error",
     "traceback": [
      "\u001b[0;31m---------------------------------------------------------------------------\u001b[0m",
      "\u001b[0;31mImportError\u001b[0m                               Traceback (most recent call last)",
      "Cell \u001b[0;32mIn[35], line 1\u001b[0m\n\u001b[0;32m----> 1\u001b[0m \u001b[38;5;28;01mfrom\u001b[39;00m \u001b[38;5;21;01mfunctions\u001b[39;00m\u001b[38;5;21;01m.\u001b[39;00m\u001b[38;5;21;01mus_functions\u001b[39;00m \u001b[38;5;28;01mimport\u001b[39;00m us_search_tool, us_search_url, us_court_list_to_string, us_court_string_to_list, us_court_fill_in, us_order_by, us_precedential_status, us_fed_app_courts, us_fed_dist_courts, us_fed_hist_courts, us_bankr_courts, us_state_courts, us_more_courts, all_us_jurisdictions\n",
      "\u001b[0;31mImportError\u001b[0m: cannot import name 'us_search_url' from 'functions.us_functions' (/Users/Ben/Library/CloudStorage/Dropbox/Python/GitHub/lawtodata/functions/us_functions.py)"
     ]
    }
   ],
   "source": [
    "from functions.ukpo_functions import ukpo_search_tool, ukpo_search_function, ukpo_search_preview, ukpo_outcomes_dict, ukpo_topics_dict, ukpo_types_dict, ukpo_sortby_dict"
   ]
  },
  {
   "cell_type": "code",
   "execution_count": 36,
   "id": "0f3329d8-1716-4570-8dd0-4b5aa22aaed8",
   "metadata": {},
   "outputs": [],
   "source": [
    "from functions.common_functions import link, reverse_link"
   ]
  },
  {
   "cell_type": "code",
   "execution_count": 37,
   "id": "00f0e228-8b90-4951-83fb-7668f7010106",
   "metadata": {},
   "outputs": [],
   "source": [
    "#function to create dataframe\n",
    "def ukpo_create_df():\n",
    "\n",
    "    #submission time\n",
    "    timestamp = datetime.now()\n",
    "\n",
    "    #Personal info entries\n",
    "\n",
    "    name = ''\n",
    "    \n",
    "    email = ''\n",
    "\n",
    "    gpt_api_key = ''\n",
    "\n",
    "    try:\n",
    "        name = name_entry\n",
    "    except:\n",
    "        print('Name not entered')\n",
    "    \n",
    "    try:\n",
    "        email = email_entry\n",
    "    except:\n",
    "        print('Email not entered')\n",
    "\n",
    "    try:\n",
    "        gpt_api_key = gpt_api_key_entry\n",
    "    except:\n",
    "        print('API key not entered')\n",
    "    \n",
    "    #Own account status\n",
    "    own_account = st.session_state.own_account\n",
    "    \n",
    "    #Judgment counter bound\n",
    "    try:\n",
    "        judgments_counter_bound = judgments_counter_bound_entry\n",
    "    except:\n",
    "        print('judgments_counter_bound not entered')\n",
    "        judgments_counter_bound = default_judgment_counter_bound\n",
    "\n",
    "    #GPT enhancement\n",
    "    try:\n",
    "        gpt_enhancement = gpt_enhancement_entry\n",
    "    except:\n",
    "        print('GPT enhancement not entered')\n",
    "        gpt_enhancement = False\n",
    "\n",
    "    #Entries\n",
    "\n",
    "    keyword = ''\n",
    "    \n",
    "    if keyword_entry:\n",
    "        \n",
    "        keyword = keyword_entry\n",
    "\n",
    "    outcomes_list = []\n",
    "    \n",
    "    if outcomes_list_entry:\n",
    "        \n",
    "        outcomes_list = outcomes_list_entry\n",
    "\n",
    "    topics_list = []\n",
    "\n",
    "    if topics_list_entry:\n",
    "\n",
    "        topics_list = topics_list_entry\n",
    "\n",
    "    types_list = []\n",
    "\n",
    "    if types_list_entry:\n",
    "\n",
    "        types_list = types_list_entry\n",
    "\n",
    "    sortby = list(ukpo_sortby_dict.keys())[-1]\n",
    "\n",
    "    if sortby_entry:\n",
    "\n",
    "        sortby = sortby_entry\n",
    "    #Entries common to all jurisdictions\n",
    "    #GPT choice and entry\n",
    "    try:\n",
    "        gpt_activation_status = gpt_activation_entry\n",
    "    except:\n",
    "        gpt_activation_status = False\n",
    "    \n",
    "    gpt_questions = ''\n",
    "    \n",
    "    try:\n",
    "        gpt_questions = gpt_questions_entry[0: question_characters_bound]\n",
    "    \n",
    "    except:\n",
    "        print('GPT questions not entered.')\n",
    "\n",
    "    #metadata choice\n",
    "    meta_data_choice = True\n",
    "        \n",
    "    new_row = {'Processed': '',\n",
    "           'Timestamp': timestamp,\n",
    "           'Your name': name, \n",
    "           'Your email address': email, \n",
    "           'Your GPT API key': gpt_api_key, \n",
    "            'Keyword search': keyword, \n",
    "            'Select outcome': outcomes_list,\n",
    "            'Select complaint topic': topics_list,\n",
    "            'Select type': types_list, \n",
    "            'Sort by': sortby, \n",
    "            'Metadata inclusion': meta_data_choice,\n",
    "           'Maximum number of judgments': judgments_counter_bound, \n",
    "           'Enter your questions for GPT': gpt_questions, \n",
    "            'Use GPT': gpt_activation_status,\n",
    "           'Use own account': own_account,\n",
    "            'Use flagship version of GPT': gpt_enhancement\n",
    "          }\n",
    "\n",
    "    df_master_new = pd.DataFrame([new_row])#, index = [0])\n",
    "    \n",
    "    return df_master_new"
   ]
  },
  {
   "cell_type": "markdown",
   "id": "f9a2d594",
   "metadata": {},
   "source": [
    "# GPT functions and parameters"
   ]
  },
  {
   "cell_type": "code",
   "execution_count": 38,
   "id": "da3be60b-5f6b-44fe-9e59-1c51310b8824",
   "metadata": {
    "lines_to_next_cell": 2
   },
   "outputs": [],
   "source": [
    "#Import functions\n",
    "from functions.gpt_functions import split_by_line, GPT_label_dict, is_api_key_valid, gpt_input_cost, gpt_output_cost, tokens_cap, max_output, num_tokens_from_string, judgment_prompt_json, GPT_json, engage_GPT_json  \n",
    "#Import variables\n",
    "from functions.gpt_functions import question_characters_bound, default_msg, default_caption, basic_model, flagship_model"
   ]
  },
  {
   "cell_type": "code",
   "execution_count": 40,
   "id": "60382f2e-c063-4018-acab-9acfd25292fd",
   "metadata": {
    "lines_to_next_cell": 2
   },
   "outputs": [
    {
     "name": "stdout",
     "output_type": "stream",
     "text": [
      "By default, questions and answers are checked for potential privacy violation.\n"
     ]
    }
   ],
   "source": [
    "#For checking questions and answers\n",
    "from functions.common_functions import check_questions_answers\n",
    "\n",
    "from functions.gpt_functions import questions_check_system_instruction, GPT_questions_check, checked_questions_json, answers_check_system_instruction"
   ]
  },
  {
   "cell_type": "code",
   "execution_count": 41,
   "id": "a03e8eaf",
   "metadata": {},
   "outputs": [
    {
     "name": "stderr",
     "output_type": "stream",
     "text": [
      "2024-10-15 21:28:27.273 Thread 'MainThread': missing ScriptRunContext! This warning can be ignored when running in bare mode.\n",
      "2024-10-15 21:28:27.275 Thread 'MainThread': missing ScriptRunContext! This warning can be ignored when running in bare mode.\n"
     ]
    }
   ],
   "source": [
    "#Initialize default GPT settings\n",
    "\n",
    "if 'gpt_model' not in st.session_state:\n",
    "    st.session_state['gpt_model'] = basic_model\n",
    "    \n",
    "#Initialize API key\n",
    "if 'gpt_api_key' not in st.session_state:\n",
    "\n",
    "    st.session_state['gpt_api_key'] = st.secrets[\"openai\"][\"gpt_api_key\"]"
   ]
  },
  {
   "cell_type": "markdown",
   "id": "63d5dcd6",
   "metadata": {},
   "source": [
    "# Streamlit form, functions and parameters"
   ]
  },
  {
   "cell_type": "code",
   "execution_count": 42,
   "id": "01e54f7a-0689-49e5-a6c9-39ea7ce6b7b9",
   "metadata": {
    "lines_to_next_cell": 2
   },
   "outputs": [],
   "source": [
    "#Import functions and variables\n",
    "from functions.common_functions import open_page, tips, clear_cache, list_value_check"
   ]
  },
  {
   "cell_type": "markdown",
   "id": "c765f659-bf18-4e59-a76c-af2c58f910a9",
   "metadata": {},
   "source": [
    "## Initialize session states"
   ]
  },
  {
   "cell_type": "code",
   "execution_count": 43,
   "id": "523f9d21-666d-4b2e-8749-e89692939761",
   "metadata": {
    "lines_to_next_cell": 2
   },
   "outputs": [
    {
     "name": "stderr",
     "output_type": "stream",
     "text": [
      "2024-10-15 21:28:28.974 Thread 'MainThread': missing ScriptRunContext! This warning can be ignored when running in bare mode.\n",
      "2024-10-15 21:28:28.975 Thread 'MainThread': missing ScriptRunContext! This warning can be ignored when running in bare mode.\n",
      "2024-10-15 21:28:28.976 Thread 'MainThread': missing ScriptRunContext! This warning can be ignored when running in bare mode.\n",
      "2024-10-15 21:28:28.976 Thread 'MainThread': missing ScriptRunContext! This warning can be ignored when running in bare mode.\n",
      "2024-10-15 21:28:28.977 Thread 'MainThread': missing ScriptRunContext! This warning can be ignored when running in bare mode.\n"
     ]
    }
   ],
   "source": [
    "#Initialize default values\n",
    "\n",
    "if 'own_account' not in st.session_state:\n",
    "    st.session_state['own_account'] = False\n",
    "\n",
    "if 'need_resetting' not in st.session_state:\n",
    "        \n",
    "    st.session_state['need_resetting'] = 0\n",
    "\n",
    "if 'df_master' not in st.session_state:\n",
    "\n",
    "    #Generally applicable\n",
    "    df_master_dict = {'Your name': '', \n",
    "    'Your email address': '', \n",
    "    'Your GPT API key': '', \n",
    "    'Metadata inclusion': True, \n",
    "    'Maximum number of judgments': default_judgment_counter_bound, \n",
    "    'Enter your questions for GPT': '', \n",
    "    'Use GPT': False, \n",
    "    'Use own account': False, \n",
    "    'Use flagship version of GPT': False,\n",
    "    'Example': ''\n",
    "    }\n",
    "\n",
    "    #Jurisdiction specific\n",
    "    jurisdiction_specific_dict = {'Keyword search': '',\n",
    "    'Select outcome': [],\n",
    "    'Select complaint topic': [],\n",
    "    'Select type': [],\n",
    "    'Sort by': list(ukpo_sortby_dict.keys())[-1],\n",
    "    }\n",
    "\n",
    "    #Make into  df\n",
    "    df_master_dict.update(jurisdiction_specific_dict)\n",
    "    \n",
    "    st.session_state['df_master'] = pd.DataFrame([df_master_dict])\n",
    "\n",
    "if 'df_individual_output' not in st.session_state:\n",
    "\n",
    "    st.session_state['df_individual_output'] = pd.DataFrame([])\n",
    "\n",
    "#Disable toggles\n",
    "if 'disable_input' not in st.session_state:\n",
    "    st.session_state[\"disable_input\"] = True"
   ]
  },
  {
   "cell_type": "code",
   "execution_count": 45,
   "id": "7d1ead1b-a3f2-40f1-be30-0cdabf6ea091",
   "metadata": {},
   "outputs": [
    {
     "name": "stderr",
     "output_type": "stream",
     "text": [
      "2024-10-15 21:28:30.161 Thread 'MainThread': missing ScriptRunContext! This warning can be ignored when running in bare mode.\n"
     ]
    }
   ],
   "source": [
    "#If landing page is not home\n",
    "if 'page_from' not in st.session_state:\n",
    "    st.session_state['page_from'] = 'Home.py'"
   ]
  },
  {
   "cell_type": "markdown",
   "id": "1a4d818b-8edf-4510-adb8-a81a60a55bb6",
   "metadata": {},
   "source": [
    "## Form before AI"
   ]
  },
  {
   "cell_type": "code",
   "execution_count": 46,
   "id": "c683d9af",
   "metadata": {
    "lines_to_next_cell": 2,
    "scrolled": true
   },
   "outputs": [
    {
     "name": "stderr",
     "output_type": "stream",
     "text": [
      "2024-10-15 21:28:31.126 Thread 'MainThread': missing ScriptRunContext! This warning can be ignored when running in bare mode.\n",
      "2024-10-15 21:28:31.127 Thread 'MainThread': missing ScriptRunContext! This warning can be ignored when running in bare mode.\n",
      "2024-10-15 21:28:31.127 Thread 'MainThread': missing ScriptRunContext! This warning can be ignored when running in bare mode.\n",
      "2024-10-15 21:28:31.140 Thread 'MainThread': missing ScriptRunContext! This warning can be ignored when running in bare mode.\n",
      "2024-10-15 21:28:31.140 Thread 'MainThread': missing ScriptRunContext! This warning can be ignored when running in bare mode.\n",
      "2024-10-15 21:28:31.141 Thread 'MainThread': missing ScriptRunContext! This warning can be ignored when running in bare mode.\n",
      "2024-10-15 21:28:31.141 Thread 'MainThread': missing ScriptRunContext! This warning can be ignored when running in bare mode.\n",
      "2024-10-15 21:28:31.141 Thread 'MainThread': missing ScriptRunContext! This warning can be ignored when running in bare mode.\n",
      "2024-10-15 21:28:31.141 Thread 'MainThread': missing ScriptRunContext! This warning can be ignored when running in bare mode.\n",
      "2024-10-15 21:28:31.141 Thread 'MainThread': missing ScriptRunContext! This warning can be ignored when running in bare mode.\n",
      "2024-10-15 21:28:31.142 Thread 'MainThread': missing ScriptRunContext! This warning can be ignored when running in bare mode.\n",
      "2024-10-15 21:28:31.142 Thread 'MainThread': missing ScriptRunContext! This warning can be ignored when running in bare mode.\n",
      "2024-10-15 21:28:31.142 Thread 'MainThread': missing ScriptRunContext! This warning can be ignored when running in bare mode.\n",
      "2024-10-15 21:28:31.142 Thread 'MainThread': missing ScriptRunContext! This warning can be ignored when running in bare mode.\n",
      "2024-10-15 21:28:31.142 Thread 'MainThread': missing ScriptRunContext! This warning can be ignored when running in bare mode.\n",
      "2024-10-15 21:28:31.142 Thread 'MainThread': missing ScriptRunContext! This warning can be ignored when running in bare mode.\n",
      "2024-10-15 21:28:31.143 Thread 'MainThread': missing ScriptRunContext! This warning can be ignored when running in bare mode.\n",
      "2024-10-15 21:28:31.143 Thread 'MainThread': missing ScriptRunContext! This warning can be ignored when running in bare mode.\n",
      "2024-10-15 21:28:31.143 Thread 'MainThread': missing ScriptRunContext! This warning can be ignored when running in bare mode.\n"
     ]
    },
    {
     "ename": "KeyError",
     "evalue": "'Federal Appellate Courts'",
     "output_type": "error",
     "traceback": [
      "\u001b[0;31m---------------------------------------------------------------------------\u001b[0m",
      "\u001b[0;31mKeyError\u001b[0m                                  Traceback (most recent call last)",
      "File \u001b[0;32m~/anaconda3/lib/python3.11/site-packages/pandas/core/indexes/base.py:3802\u001b[0m, in \u001b[0;36mIndex.get_loc\u001b[0;34m(self, key, method, tolerance)\u001b[0m\n\u001b[1;32m   3801\u001b[0m \u001b[38;5;28;01mtry\u001b[39;00m:\n\u001b[0;32m-> 3802\u001b[0m     \u001b[38;5;28;01mreturn\u001b[39;00m \u001b[38;5;28;43mself\u001b[39;49m\u001b[38;5;241;43m.\u001b[39;49m\u001b[43m_engine\u001b[49m\u001b[38;5;241;43m.\u001b[39;49m\u001b[43mget_loc\u001b[49m\u001b[43m(\u001b[49m\u001b[43mcasted_key\u001b[49m\u001b[43m)\u001b[49m\n\u001b[1;32m   3803\u001b[0m \u001b[38;5;28;01mexcept\u001b[39;00m \u001b[38;5;167;01mKeyError\u001b[39;00m \u001b[38;5;28;01mas\u001b[39;00m err:\n",
      "File \u001b[0;32m~/anaconda3/lib/python3.11/site-packages/pandas/_libs/index.pyx:138\u001b[0m, in \u001b[0;36mpandas._libs.index.IndexEngine.get_loc\u001b[0;34m()\u001b[0m\n",
      "File \u001b[0;32m~/anaconda3/lib/python3.11/site-packages/pandas/_libs/index.pyx:165\u001b[0m, in \u001b[0;36mpandas._libs.index.IndexEngine.get_loc\u001b[0;34m()\u001b[0m\n",
      "File \u001b[0;32mpandas/_libs/hashtable_class_helper.pxi:5745\u001b[0m, in \u001b[0;36mpandas._libs.hashtable.PyObjectHashTable.get_item\u001b[0;34m()\u001b[0m\n",
      "File \u001b[0;32mpandas/_libs/hashtable_class_helper.pxi:5753\u001b[0m, in \u001b[0;36mpandas._libs.hashtable.PyObjectHashTable.get_item\u001b[0;34m()\u001b[0m\n",
      "\u001b[0;31mKeyError\u001b[0m: 'Federal Appellate Courts'",
      "\nThe above exception was the direct cause of the following exception:\n",
      "\u001b[0;31mKeyError\u001b[0m                                  Traceback (most recent call last)",
      "Cell \u001b[0;32mIn[46], line 80\u001b[0m\n\u001b[1;32m     76\u001b[0m     \u001b[38;5;66;03m#st.session_state['df_master'].loc[0, \"More Courts\"] = more_courts_entry\u001b[39;00m\n\u001b[1;32m     78\u001b[0m \u001b[38;5;28;01mfor\u001b[39;00m jurisdiction \u001b[38;5;129;01min\u001b[39;00m all_us_jurisdictions\u001b[38;5;241m.\u001b[39mkeys():\n\u001b[0;32m---> 80\u001b[0m     st\u001b[38;5;241m.\u001b[39mwrite(\u001b[38;5;124mf\u001b[39m\u001b[38;5;124m\"\u001b[39m\u001b[38;5;124mCovered for \u001b[39m\u001b[38;5;132;01m{\u001b[39;00mjurisdiction\u001b[38;5;132;01m}\u001b[39;00m\u001b[38;5;124m: \u001b[39m\u001b[38;5;132;01m{\u001b[39;00m\u001b[38;5;28mtype\u001b[39m(\u001b[43mst\u001b[49m\u001b[38;5;241;43m.\u001b[39;49m\u001b[43msession_state\u001b[49m\u001b[43m[\u001b[49m\u001b[38;5;124;43m'\u001b[39;49m\u001b[38;5;124;43mdf_master\u001b[39;49m\u001b[38;5;124;43m'\u001b[39;49m\u001b[43m]\u001b[49m\u001b[38;5;241;43m.\u001b[39;49m\u001b[43mloc\u001b[49m\u001b[43m[\u001b[49m\u001b[38;5;241;43m0\u001b[39;49m\u001b[43m,\u001b[49m\u001b[38;5;250;43m \u001b[39;49m\u001b[43mjurisdiction\u001b[49m\u001b[43m]\u001b[49m)\u001b[38;5;132;01m}\u001b[39;00m\u001b[38;5;124m\"\u001b[39m)\n\u001b[1;32m     82\u001b[0m st\u001b[38;5;241m.\u001b[39msubheader(\u001b[38;5;124m\"\u001b[39m\u001b[38;5;124mYour search terms\u001b[39m\u001b[38;5;124m\"\u001b[39m)\n\u001b[1;32m     84\u001b[0m st\u001b[38;5;241m.\u001b[39mmarkdown(\u001b[38;5;124m\"\"\"\u001b[39m\u001b[38;5;124mFor search tips, please visit [CourtListener](https://www.courtlistener.com/help/search-operators/). This section largely mimics their advanced search function except sorting search results by relevance.\u001b[39m\n\u001b[1;32m     85\u001b[0m \u001b[38;5;124m\"\"\"\u001b[39m)\n",
      "File \u001b[0;32m~/anaconda3/lib/python3.11/site-packages/pandas/core/indexing.py:1066\u001b[0m, in \u001b[0;36m_LocationIndexer.__getitem__\u001b[0;34m(self, key)\u001b[0m\n\u001b[1;32m   1064\u001b[0m     key \u001b[38;5;241m=\u001b[39m \u001b[38;5;28mtuple\u001b[39m(com\u001b[38;5;241m.\u001b[39mapply_if_callable(x, \u001b[38;5;28mself\u001b[39m\u001b[38;5;241m.\u001b[39mobj) \u001b[38;5;28;01mfor\u001b[39;00m x \u001b[38;5;129;01min\u001b[39;00m key)\n\u001b[1;32m   1065\u001b[0m     \u001b[38;5;28;01mif\u001b[39;00m \u001b[38;5;28mself\u001b[39m\u001b[38;5;241m.\u001b[39m_is_scalar_access(key):\n\u001b[0;32m-> 1066\u001b[0m         \u001b[38;5;28;01mreturn\u001b[39;00m \u001b[38;5;28;43mself\u001b[39;49m\u001b[38;5;241;43m.\u001b[39;49m\u001b[43mobj\u001b[49m\u001b[38;5;241;43m.\u001b[39;49m\u001b[43m_get_value\u001b[49m\u001b[43m(\u001b[49m\u001b[38;5;241;43m*\u001b[39;49m\u001b[43mkey\u001b[49m\u001b[43m,\u001b[49m\u001b[43m \u001b[49m\u001b[43mtakeable\u001b[49m\u001b[38;5;241;43m=\u001b[39;49m\u001b[38;5;28;43mself\u001b[39;49m\u001b[38;5;241;43m.\u001b[39;49m\u001b[43m_takeable\u001b[49m\u001b[43m)\u001b[49m\n\u001b[1;32m   1067\u001b[0m     \u001b[38;5;28;01mreturn\u001b[39;00m \u001b[38;5;28mself\u001b[39m\u001b[38;5;241m.\u001b[39m_getitem_tuple(key)\n\u001b[1;32m   1068\u001b[0m \u001b[38;5;28;01melse\u001b[39;00m:\n\u001b[1;32m   1069\u001b[0m     \u001b[38;5;66;03m# we by definition only have the 0th axis\u001b[39;00m\n",
      "File \u001b[0;32m~/anaconda3/lib/python3.11/site-packages/pandas/core/frame.py:3917\u001b[0m, in \u001b[0;36mDataFrame._get_value\u001b[0;34m(self, index, col, takeable)\u001b[0m\n\u001b[1;32m   3914\u001b[0m     series \u001b[38;5;241m=\u001b[39m \u001b[38;5;28mself\u001b[39m\u001b[38;5;241m.\u001b[39m_ixs(col, axis\u001b[38;5;241m=\u001b[39m\u001b[38;5;241m1\u001b[39m)\n\u001b[1;32m   3915\u001b[0m     \u001b[38;5;28;01mreturn\u001b[39;00m series\u001b[38;5;241m.\u001b[39m_values[index]\n\u001b[0;32m-> 3917\u001b[0m series \u001b[38;5;241m=\u001b[39m \u001b[38;5;28;43mself\u001b[39;49m\u001b[38;5;241;43m.\u001b[39;49m\u001b[43m_get_item_cache\u001b[49m\u001b[43m(\u001b[49m\u001b[43mcol\u001b[49m\u001b[43m)\u001b[49m\n\u001b[1;32m   3918\u001b[0m engine \u001b[38;5;241m=\u001b[39m \u001b[38;5;28mself\u001b[39m\u001b[38;5;241m.\u001b[39mindex\u001b[38;5;241m.\u001b[39m_engine\n\u001b[1;32m   3920\u001b[0m \u001b[38;5;28;01mif\u001b[39;00m \u001b[38;5;129;01mnot\u001b[39;00m \u001b[38;5;28misinstance\u001b[39m(\u001b[38;5;28mself\u001b[39m\u001b[38;5;241m.\u001b[39mindex, MultiIndex):\n\u001b[1;32m   3921\u001b[0m     \u001b[38;5;66;03m# CategoricalIndex: Trying to use the engine fastpath may give incorrect\u001b[39;00m\n\u001b[1;32m   3922\u001b[0m     \u001b[38;5;66;03m#  results if our categories are integers that dont match our codes\u001b[39;00m\n\u001b[1;32m   3923\u001b[0m     \u001b[38;5;66;03m# IntervalIndex: IntervalTree has no get_loc\u001b[39;00m\n",
      "File \u001b[0;32m~/anaconda3/lib/python3.11/site-packages/pandas/core/frame.py:4282\u001b[0m, in \u001b[0;36mDataFrame._get_item_cache\u001b[0;34m(self, item)\u001b[0m\n\u001b[1;32m   4277\u001b[0m res \u001b[38;5;241m=\u001b[39m cache\u001b[38;5;241m.\u001b[39mget(item)\n\u001b[1;32m   4278\u001b[0m \u001b[38;5;28;01mif\u001b[39;00m res \u001b[38;5;129;01mis\u001b[39;00m \u001b[38;5;28;01mNone\u001b[39;00m:\n\u001b[1;32m   4279\u001b[0m     \u001b[38;5;66;03m# All places that call _get_item_cache have unique columns,\u001b[39;00m\n\u001b[1;32m   4280\u001b[0m     \u001b[38;5;66;03m#  pending resolution of GH#33047\u001b[39;00m\n\u001b[0;32m-> 4282\u001b[0m     loc \u001b[38;5;241m=\u001b[39m \u001b[38;5;28;43mself\u001b[39;49m\u001b[38;5;241;43m.\u001b[39;49m\u001b[43mcolumns\u001b[49m\u001b[38;5;241;43m.\u001b[39;49m\u001b[43mget_loc\u001b[49m\u001b[43m(\u001b[49m\u001b[43mitem\u001b[49m\u001b[43m)\u001b[49m\n\u001b[1;32m   4283\u001b[0m     res \u001b[38;5;241m=\u001b[39m \u001b[38;5;28mself\u001b[39m\u001b[38;5;241m.\u001b[39m_ixs(loc, axis\u001b[38;5;241m=\u001b[39m\u001b[38;5;241m1\u001b[39m)\n\u001b[1;32m   4285\u001b[0m     cache[item] \u001b[38;5;241m=\u001b[39m res\n",
      "File \u001b[0;32m~/anaconda3/lib/python3.11/site-packages/pandas/core/indexes/base.py:3804\u001b[0m, in \u001b[0;36mIndex.get_loc\u001b[0;34m(self, key, method, tolerance)\u001b[0m\n\u001b[1;32m   3802\u001b[0m     \u001b[38;5;28;01mreturn\u001b[39;00m \u001b[38;5;28mself\u001b[39m\u001b[38;5;241m.\u001b[39m_engine\u001b[38;5;241m.\u001b[39mget_loc(casted_key)\n\u001b[1;32m   3803\u001b[0m \u001b[38;5;28;01mexcept\u001b[39;00m \u001b[38;5;167;01mKeyError\u001b[39;00m \u001b[38;5;28;01mas\u001b[39;00m err:\n\u001b[0;32m-> 3804\u001b[0m     \u001b[38;5;28;01mraise\u001b[39;00m \u001b[38;5;167;01mKeyError\u001b[39;00m(key) \u001b[38;5;28;01mfrom\u001b[39;00m \u001b[38;5;21;01merr\u001b[39;00m\n\u001b[1;32m   3805\u001b[0m \u001b[38;5;28;01mexcept\u001b[39;00m \u001b[38;5;167;01mTypeError\u001b[39;00m:\n\u001b[1;32m   3806\u001b[0m     \u001b[38;5;66;03m# If we have a listlike key, _check_indexing_error will raise\u001b[39;00m\n\u001b[1;32m   3807\u001b[0m     \u001b[38;5;66;03m#  InvalidIndexError. Otherwise we fall through and re-raise\u001b[39;00m\n\u001b[1;32m   3808\u001b[0m     \u001b[38;5;66;03m#  the TypeError.\u001b[39;00m\n\u001b[1;32m   3809\u001b[0m     \u001b[38;5;28mself\u001b[39m\u001b[38;5;241m.\u001b[39m_check_indexing_error(key)\n",
      "\u001b[0;31mKeyError\u001b[0m: 'Federal Appellate Courts'"
     ]
    }
   ],
   "source": [
    "#Create form\n",
    "\n",
    "return_button = st.button('RETURN to first page')\n",
    "\n",
    "st.header(f\"Search :blue[cases of the Pensions Ombudsman]\")\n",
    "\n",
    "st.success(default_msg)\n",
    "\n",
    "st.write(f'This app sources cases from [the Pensions Ombudsman](https://www.pensions-ombudsman.org.uk/decisions).')\n",
    "\n",
    "st.caption(default_caption)\n",
    "\n",
    "reset_button = st.button(label='RESET', type = 'primary')\n",
    "\n",
    "st.subheader(\"Your search terms\")\n",
    "\n",
    "st.markdown(\"\"\"For search tips, please visit [the Pensions Ombudsman](https://www.pensions-ombudsman.org.uk/decisions). This section mimics their search function.\n",
    "\"\"\")\n",
    "\n",
    "keyword_entry = st.text_input(label = 'Keyword search', value = st.session_state['df_master'].loc[0, 'Keyword search'])\n",
    "\n",
    "\n",
    "outcomes_list_entry = st.multiselect(label = 'Select outcome', \n",
    "                                      options = list(ukpo_outcomes_dict.keys()), \n",
    "                                      default = st.session_state['df_master'].loc[0, \"Select outcome\"]\n",
    "                                         )\n",
    "\n",
    "topics_list_entry = st.multiselect(label = 'Select complaint topic', \n",
    "                                      options = list(ukpo_topics_dict.keys()), \n",
    "                                      default = st.session_state['df_master'].loc[0, \"Select complaint topic\"]\n",
    "                                         )\n",
    "\n",
    "types_list_entry = st.multiselect(label = 'Select type', \n",
    "                                      options = list(ukpo_types_dict.keys()), \n",
    "                                      default = st.session_state['df_master'].loc[0, \"Select type\"]\n",
    "                                         )\n",
    "\n",
    "sortby_entry = st.selectbox(label = \"Sort by\", options = list(ukpo_sortby_dict.keys()), index = list(ukpo_sortby_dict.keys()).index(st.session_state['df_master'].loc[0, 'Sort by']))\n",
    "\n",
    "#st.subheader(\"Case metadata collection\")\n",
    "\n",
    "#st.markdown(\"\"\"Would you like to obtain case metadata? Such data include the judge(s), the filing date and so on. \n",
    "\n",
    "#You will always obtain case names and citations.\n",
    "#\"\"\")\n",
    "\n",
    "#meta_data_entry = st.checkbox(label = 'Include metadata', value = st.session_state['df_master'].loc[0, 'Metadata inclusion'])\n",
    "\n",
    "meta_data_entry = True\n",
    "\n",
    "st.info(\"\"\"You can preview the results returned by your search terms.\"\"\")\n",
    "\n",
    "with stylable_container(\n",
    "    \"purple\",\n",
    "    css_styles=\"\"\"\n",
    "    button {\n",
    "        background-color: purple;\n",
    "        color: white;\n",
    "    }\"\"\",\n",
    "):\n",
    "    preview_button = st.button(label = 'PREVIEW')"
   ]
  },
  {
   "cell_type": "markdown",
   "id": "c9263c63-e63d-4afd-8fec-aed4f8e5f6f0",
   "metadata": {},
   "source": [
    "## Preview"
   ]
  },
  {
   "cell_type": "code",
   "execution_count": null,
   "id": "ab654f62-c6ca-4dbb-9f13-a5d700da2034",
   "metadata": {
    "lines_to_next_cell": 2
   },
   "outputs": [],
   "source": [
    "if preview_button:\n",
    "    \n",
    "    ukpo_search_terms = str(keyword_entry) + str(outcomes_list_entry) + str(topics_list_entry) + str(types_list_entry)\n",
    "    \n",
    "    if ukpo_search_terms.replace('None', '') == \"\":\n",
    "\n",
    "        st.warning('You must enter some search terms.')\n",
    "\n",
    "    else:\n",
    "        with st.spinner(r\"$\\textsf{\\normalsize Getting your search results...}$\"):\n",
    "            \n",
    "            df_master = ukpo_create_df()\n",
    "    \n",
    "            search_results_w_count = ukpo_search_preview(df_master)\n",
    "            \n",
    "            results_count = search_results_w_count['results_count']\n",
    "    \n",
    "            results_to_show = search_results_w_count['results_to_show']\n",
    "    \n",
    "            results_url = search_results_w_count['results_url']\n",
    "    \n",
    "            if results_count > 0:\n",
    "    \n",
    "                df_preview = pd.DataFrame(results_to_show)\n",
    "    \n",
    "                #Get display settings\n",
    "                display_df_dict = display_df(df_preview)\n",
    "    \n",
    "                df_preview = display_df_dict['df']\n",
    "    \n",
    "                link_heading_config = display_df_dict['link_heading_config']\n",
    "    \n",
    "                #Display search results\n",
    "                st.success(f'Your search terms returned {results_count} result(s). Please see below for the top {min(results_count, default_judgment_counter_bound)} result(s).')\n",
    "                            \n",
    "                st.dataframe(df_preview.head(default_judgment_counter_bound),  column_config=link_heading_config)\n",
    "    \n",
    "                st.page_link(results_url, label=f\"SEE all search results (in a popped up window)\", icon = \"🌎\")\n",
    "        \n",
    "            else:\n",
    "                st.error(no_results_msg)"
   ]
  },
  {
   "cell_type": "markdown",
   "id": "d272fc2c-6914-440e-ae07-5ed34ca744a1",
   "metadata": {},
   "source": [
    "## Buttons"
   ]
  },
  {
   "cell_type": "code",
   "execution_count": null,
   "id": "817db108-a370-4e44-8f01-81c3a0f4c11d",
   "metadata": {
    "lines_to_next_cell": 2
   },
   "outputs": [],
   "source": [
    "#Buttons\n",
    "\n",
    "#col1, col2, col3, col4 = st.columns(4, gap = 'small')\n",
    "\n",
    "#with col1:\n",
    "\n",
    "    #reset_button = st.button(label='RESET', type = 'primary')\n",
    "\n",
    "#with col4:\n",
    "with stylable_container(\n",
    "    \"green\",\n",
    "    css_styles=\"\"\"\n",
    "    button {\n",
    "        background-color: #00FF00;\n",
    "        color: black;\n",
    "    }\"\"\",\n",
    "):\n",
    "    next_button = st.button(label='NEXT')\n",
    "\n",
    "keep_button = st.button('SAVE')"
   ]
  },
  {
   "cell_type": "markdown",
   "id": "9f6f71a3",
   "metadata": {},
   "source": [
    "# Save and run"
   ]
  },
  {
   "cell_type": "code",
   "execution_count": 14,
   "id": "4873fffb",
   "metadata": {
    "lines_to_next_cell": 2,
    "scrolled": true
   },
   "outputs": [
    {
     "ename": "NameError",
     "evalue": "name 'keep_button' is not defined",
     "output_type": "error",
     "traceback": [
      "\u001b[0;31m---------------------------------------------------------------------------\u001b[0m",
      "\u001b[0;31mNameError\u001b[0m                                 Traceback (most recent call last)",
      "Cell \u001b[0;32mIn[14], line 1\u001b[0m\n\u001b[0;32m----> 1\u001b[0m \u001b[38;5;28;01mif\u001b[39;00m keep_button:\n\u001b[1;32m      2\u001b[0m \n\u001b[1;32m      3\u001b[0m     \u001b[38;5;66;03m#Check whether search terms entered\u001b[39;00m\n\u001b[1;32m      5\u001b[0m     all_search_terms \u001b[38;5;241m=\u001b[39m \u001b[38;5;28mstr\u001b[39m(catchwords_entry) \u001b[38;5;241m+\u001b[39m \u001b[38;5;28mstr\u001b[39m(legislation_entry) \u001b[38;5;241m+\u001b[39m \u001b[38;5;28mstr\u001b[39m(cases_cited_entry) \u001b[38;5;241m+\u001b[39m \u001b[38;5;28mstr\u001b[39m(case_name_mnc_entry) \u001b[38;5;241m+\u001b[39m \u001b[38;5;28mstr\u001b[39m(judge_entry) \u001b[38;5;241m+\u001b[39m \u001b[38;5;28mstr\u001b[39m(reported_citation_entry) \u001b[38;5;241m+\u001b[39m \u001b[38;5;28mstr\u001b[39m(file_number_entry) \u001b[38;5;241m+\u001b[39m \u001b[38;5;28mstr\u001b[39m(npa_entry) \u001b[38;5;241m+\u001b[39m \u001b[38;5;28mstr\u001b[39m(with_all_the_words_entry) \u001b[38;5;241m+\u001b[39m \u001b[38;5;28mstr\u001b[39m(with_at_least_one_of_the_words_entry) \u001b[38;5;241m+\u001b[39m \u001b[38;5;28mstr\u001b[39m(without_the_words_entry) \u001b[38;5;241m+\u001b[39m \u001b[38;5;28mstr\u001b[39m(phrase_entry) \u001b[38;5;241m+\u001b[39m \u001b[38;5;28mstr\u001b[39m(proximity_entry) \u001b[38;5;241m+\u001b[39m \u001b[38;5;28mstr\u001b[39m(on_this_date_entry) \u001b[38;5;241m+\u001b[39m \u001b[38;5;28mstr\u001b[39m(after_date_entry) \u001b[38;5;241m+\u001b[39m \u001b[38;5;28mstr\u001b[39m(before_date_entry)\n\u001b[1;32m      7\u001b[0m     \u001b[38;5;28;01mif\u001b[39;00m all_search_terms\u001b[38;5;241m.\u001b[39mreplace(\u001b[38;5;124m'\u001b[39m\u001b[38;5;124mNone\u001b[39m\u001b[38;5;124m'\u001b[39m, \u001b[38;5;124m'\u001b[39m\u001b[38;5;124m'\u001b[39m) \u001b[38;5;241m==\u001b[39m \u001b[38;5;124m\"\u001b[39m\u001b[38;5;124m\"\u001b[39m:\n",
      "\u001b[0;31mNameError\u001b[0m: name 'keep_button' is not defined"
     ]
    }
   ],
   "source": [
    "if keep_button:\n",
    "\n",
    "    #Check whether search terms entered\n",
    "\n",
    "    ukpo_search_terms = str(keyword_entry) + str(outcomes_list_entry) + str(topics_list_entry) + str(types_list_entry)\n",
    "    \n",
    "    if ukpo_search_terms.replace('None', '') == \"\":\n",
    "\n",
    "        st.warning('You must enter some search terms.')\n",
    "    \n",
    "    else:\n",
    "            \n",
    "        df_master = ukpo_create_df()\n",
    "\n",
    "        save_input(df_master)\n",
    "\n",
    "        download_buttons(df_master = df_master, df_individual = [], saving = True, previous = False)"
   ]
  },
  {
   "cell_type": "code",
   "execution_count": 15,
   "id": "9837b934-f6e5-4db5-851c-0d4e48b85482",
   "metadata": {},
   "outputs": [],
   "source": [
    "if return_button:\n",
    "\n",
    "    df_master = ukpo_create_df()\n",
    "\n",
    "    save_input(df_master)\n",
    "    \n",
    "    st.session_state[\"page_from\"] = 'pages/UKPO.py'\n",
    "\n",
    "    st.switch_page(\"Home.py\")"
   ]
  },
  {
   "cell_type": "code",
   "execution_count": 16,
   "id": "f16f2fc5-c22d-4f00-a3f4-f063c2c9594f",
   "metadata": {},
   "outputs": [
    {
     "ename": "NameError",
     "evalue": "name 'reset_button' is not defined",
     "output_type": "error",
     "traceback": [
      "\u001b[0;31m---------------------------------------------------------------------------\u001b[0m",
      "\u001b[0;31mNameError\u001b[0m                                 Traceback (most recent call last)",
      "Cell \u001b[0;32mIn[16], line 1\u001b[0m\n\u001b[0;32m----> 1\u001b[0m \u001b[38;5;28;01mif\u001b[39;00m reset_button:\n\u001b[1;32m      2\u001b[0m     clear_cache_except_validation_df_master()\n\u001b[1;32m      3\u001b[0m     st\u001b[38;5;241m.\u001b[39mrerun()\n",
      "\u001b[0;31mNameError\u001b[0m: name 'reset_button' is not defined"
     ]
    }
   ],
   "source": [
    "if reset_button:\n",
    "    st.session_state.pop('df_master')\n",
    "\n",
    "    #clear_cache()\n",
    "    st.rerun()"
   ]
  },
  {
   "cell_type": "code",
   "execution_count": null,
   "id": "9470438d-e485-44e4-8e10-798973642140",
   "metadata": {
    "lines_to_next_cell": 2
   },
   "outputs": [],
   "source": [
    "if next_button:\n",
    "\n",
    "    ukpo_search_terms = str(keyword_entry) + str(outcomes_list_entry) + str(topics_list_entry) + str(types_list_entry)\n",
    "    \n",
    "    if ukpo_search_terms.replace('None', '') == \"\":\n",
    "\n",
    "        st.warning('You must enter some search terms.')\n",
    "    \n",
    "    else:\n",
    "            \n",
    "        df_master = ukpo_create_df()\n",
    "    \n",
    "        #Check search results\n",
    "        with st.spinner(r\"$\\textsf{\\normalsize Checking your search terms...}$\"):\n",
    "\n",
    "            try:\n",
    "\n",
    "                search_results_w_count = ukpo_search_preview(df_master)\n",
    "                \n",
    "                results_count = search_results_w_count['results_count']\n",
    "                \n",
    "                if results_count == 0:\n",
    "                    \n",
    "                    st.error(no_results_msg)\n",
    "    \n",
    "                else:\n",
    "                    \n",
    "                    save_input(df_master)\n",
    "    \n",
    "                    st.session_state[\"page_from\"] = 'pages/UKPO.py'\n",
    "                    \n",
    "                    st.switch_page('pages/GPT.py')\n",
    "\n",
    "            except Exception as e:\n",
    "                print(search_error_display)\n",
    "                print(e)\n",
    "                st.error(search_error_display)\n",
    "                st.error(e)"
   ]
  }
 ],
 "metadata": {
  "jupytext": {
   "formats": "ipynb,py:percent"
  },
  "kernelspec": {
   "display_name": "Python 3 (ipykernel)",
   "language": "python",
   "name": "python3"
  },
  "language_info": {
   "codemirror_mode": {
    "name": "ipython",
    "version": 3
   },
   "file_extension": ".py",
   "mimetype": "text/x-python",
   "name": "python",
   "nbconvert_exporter": "python",
   "pygments_lexer": "ipython3",
   "version": "3.11.7"
  }
 },
 "nbformat": 4,
 "nbformat_minor": 5
}
