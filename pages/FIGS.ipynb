{
 "cells": [
  {
   "cell_type": "markdown",
   "id": "0984b066-1f75-4b93-9847-9e7638c7d429",
   "metadata": {
    "editable": true,
    "slideshow": {
     "slide_type": ""
    },
    "tags": []
   },
   "source": [
    "# Preliminaries"
   ]
  },
  {
   "cell_type": "code",
   "execution_count": 1,
   "id": "dbee894d-ed7b-4208-a6bc-cd95e42639f9",
   "metadata": {
    "editable": true,
    "lines_to_next_cell": 2,
    "slideshow": {
     "slide_type": ""
    },
    "tags": []
   },
   "outputs": [],
   "source": [
    "from PIL import Image\n",
    "\n",
    "#Streamlit\n",
    "import streamlit as st"
   ]
  },
  {
   "cell_type": "code",
   "execution_count": 2,
   "id": "1d526b70-0562-4731-bc2b-7e8a1579468c",
   "metadata": {
    "lines_to_next_cell": 2
   },
   "outputs": [
    {
     "name": "stderr",
     "output_type": "stream",
     "text": [
      "2024-12-04 18:09:10.855 WARNING streamlit.runtime.scriptrunner_utils.script_run_context: Thread 'MainThread': missing ScriptRunContext! This warning can be ignored when running in bare mode.\n",
      "2024-12-04 18:09:10.855 WARNING streamlit.runtime.state.session_state_proxy: Session state does not function when running a script without `streamlit run`\n",
      "2024-12-04 18:09:10.856 WARNING streamlit.runtime.scriptrunner_utils.script_run_context: Thread 'MainThread': missing ScriptRunContext! This warning can be ignored when running in bare mode.\n",
      "2024-12-04 18:09:10.856 WARNING streamlit.runtime.scriptrunner_utils.script_run_context: Thread 'MainThread': missing ScriptRunContext! This warning can be ignored when running in bare mode.\n"
     ]
    }
   ],
   "source": [
    "#Initialise image counter\n",
    "if 'image_index' not in st.session_state:\n",
    "    st.session_state['image_index'] = 0"
   ]
  },
  {
   "cell_type": "markdown",
   "id": "0696920f-4098-44dd-a7d7-b96297938bd3",
   "metadata": {},
   "source": [
    "# Fig specifications"
   ]
  },
  {
   "cell_type": "code",
   "execution_count": 3,
   "id": "618c60bd-2b6d-424e-81fc-347abdba5ea7",
   "metadata": {},
   "outputs": [],
   "source": [
    "#Image list\n",
    "image_list = ['figs/relationship.png', \n",
    "             'figs/age.png', \n",
    "              'figs/gender.png', \n",
    "              'figs/outcome.png',\n",
    "              'figs/1p1d_total_costs_proportion.png'\n",
    "            'figs/1p1d_costs_relative_female.png', \n",
    "              'figs/1p1d_costs_relative_male.png', \n",
    "             ]"
   ]
  },
  {
   "cell_type": "code",
   "execution_count": 4,
   "id": "e14d9430-7ba9-47af-a5b3-cf3a5e7057ed",
   "metadata": {},
   "outputs": [
    {
     "name": "stderr",
     "output_type": "stream",
     "text": [
      "2024-12-04 18:09:10.860 WARNING streamlit.runtime.scriptrunner_utils.script_run_context: Thread 'MainThread': missing ScriptRunContext! This warning can be ignored when running in bare mode.\n",
      "2024-12-04 18:09:10.866 WARNING streamlit.runtime.scriptrunner_utils.script_run_context: Thread 'MainThread': missing ScriptRunContext! This warning can be ignored when running in bare mode.\n",
      "2024-12-04 18:09:10.866 WARNING streamlit.runtime.scriptrunner_utils.script_run_context: Thread 'MainThread': missing ScriptRunContext! This warning can be ignored when running in bare mode.\n"
     ]
    }
   ],
   "source": [
    "#Initialise default image to show\n",
    "if 'image_to_show' not in st.session_state:\n",
    "    \n",
    "    st.session_state['image_to_show'] = Image.open(image_list[0])"
   ]
  },
  {
   "cell_type": "code",
   "execution_count": 5,
   "id": "6b68c622-b4ef-432a-a798-6b14f4bbc95e",
   "metadata": {},
   "outputs": [],
   "source": [
    "def next():\n",
    "            \n",
    "    st.session_state.image_index += 1\n",
    "    \n",
    "def prev():\n",
    "    \n",
    "    st.session_state.image_index -= 1\n",
    "\n"
   ]
  },
  {
   "cell_type": "markdown",
   "id": "611851f3-e0e6-412b-825a-c4bbb246ca3a",
   "metadata": {},
   "source": [
    "# Show heading"
   ]
  },
  {
   "cell_type": "code",
   "execution_count": 6,
   "id": "6b693d06-403a-4295-abdd-54803eccde35",
   "metadata": {
    "lines_to_next_cell": 2
   },
   "outputs": [
    {
     "name": "stderr",
     "output_type": "stream",
     "text": [
      "2024-12-04 18:09:10.870 WARNING streamlit.runtime.scriptrunner_utils.script_run_context: Thread 'MainThread': missing ScriptRunContext! This warning can be ignored when running in bare mode.\n",
      "2024-12-04 18:09:10.922 Thread 'MainThread': missing ScriptRunContext! This warning can be ignored when running in bare mode.\n"
     ]
    },
    {
     "data": {
      "text/plain": [
       "DeltaGenerator()"
      ]
     },
     "execution_count": 6,
     "metadata": {},
     "output_type": "execute_result"
    }
   ],
   "source": [
    "st.header(\"Family Provision Cases: Preliminary Results\")"
   ]
  },
  {
   "cell_type": "markdown",
   "id": "2d267e1a-e099-4d2b-99d6-fbb18cb04ec5",
   "metadata": {},
   "source": [
    "# Show figs"
   ]
  },
  {
   "cell_type": "code",
   "execution_count": 7,
   "id": "69d54376-cf78-4c15-8051-42a88828e402",
   "metadata": {
    "lines_to_next_cell": 2,
    "scrolled": true
   },
   "outputs": [
    {
     "name": "stderr",
     "output_type": "stream",
     "text": [
      "2024-12-04 18:09:10.925 Thread 'MainThread': missing ScriptRunContext! This warning can be ignored when running in bare mode.\n",
      "2024-12-04 18:09:10.926 Thread 'MainThread': missing ScriptRunContext! This warning can be ignored when running in bare mode.\n",
      "2024-12-04 18:09:10.926 Thread 'MainThread': missing ScriptRunContext! This warning can be ignored when running in bare mode.\n",
      "2024-12-04 18:09:10.926 Thread 'MainThread': missing ScriptRunContext! This warning can be ignored when running in bare mode.\n",
      "2024-12-04 18:09:10.926 Thread 'MainThread': missing ScriptRunContext! This warning can be ignored when running in bare mode.\n",
      "2024-12-04 18:09:11.041 Thread 'MainThread': missing ScriptRunContext! This warning can be ignored when running in bare mode.\n",
      "2024-12-04 18:09:11.041 Thread 'MainThread': missing ScriptRunContext! This warning can be ignored when running in bare mode.\n"
     ]
    },
    {
     "data": {
      "text/plain": [
       "DeltaGenerator()"
      ]
     },
     "execution_count": 7,
     "metadata": {},
     "output_type": "execute_result"
    }
   ],
   "source": [
    "st.session_state['image_to_show'] = Image.open(image_list[st.session_state.image_index])\n",
    "\n",
    "st.image(st.session_state['image_to_show'])"
   ]
  },
  {
   "cell_type": "markdown",
   "id": "9bab13c5-5d56-455f-8482-861770a813e9",
   "metadata": {},
   "source": [
    "# Show buttons"
   ]
  },
  {
   "cell_type": "code",
   "execution_count": 8,
   "id": "f07bbe19-6b63-455a-a01f-54c5b886522a",
   "metadata": {},
   "outputs": [
    {
     "name": "stderr",
     "output_type": "stream",
     "text": [
      "2024-12-04 18:09:11.053 Thread 'MainThread': missing ScriptRunContext! This warning can be ignored when running in bare mode.\n",
      "2024-12-04 18:09:11.070 Thread 'MainThread': missing ScriptRunContext! This warning can be ignored when running in bare mode.\n",
      "2024-12-04 18:09:11.074 Thread 'MainThread': missing ScriptRunContext! This warning can be ignored when running in bare mode.\n",
      "2024-12-04 18:09:11.078 Thread 'MainThread': missing ScriptRunContext! This warning can be ignored when running in bare mode.\n",
      "2024-12-04 18:09:11.079 Thread 'MainThread': missing ScriptRunContext! This warning can be ignored when running in bare mode.\n",
      "2024-12-04 18:09:11.080 Thread 'MainThread': missing ScriptRunContext! This warning can be ignored when running in bare mode.\n",
      "2024-12-04 18:09:11.081 Thread 'MainThread': missing ScriptRunContext! This warning can be ignored when running in bare mode.\n",
      "2024-12-04 18:09:11.088 Thread 'MainThread': missing ScriptRunContext! This warning can be ignored when running in bare mode.\n",
      "2024-12-04 18:09:11.089 Thread 'MainThread': missing ScriptRunContext! This warning can be ignored when running in bare mode.\n",
      "2024-12-04 18:09:11.093 Thread 'MainThread': missing ScriptRunContext! This warning can be ignored when running in bare mode.\n",
      "2024-12-04 18:09:11.094 Thread 'MainThread': missing ScriptRunContext! This warning can be ignored when running in bare mode.\n",
      "2024-12-04 18:09:11.096 Thread 'MainThread': missing ScriptRunContext! This warning can be ignored when running in bare mode.\n",
      "2024-12-04 18:09:11.097 Thread 'MainThread': missing ScriptRunContext! This warning can be ignored when running in bare mode.\n",
      "2024-12-04 18:09:11.098 Thread 'MainThread': missing ScriptRunContext! This warning can be ignored when running in bare mode.\n",
      "2024-12-04 18:09:11.100 Thread 'MainThread': missing ScriptRunContext! This warning can be ignored when running in bare mode.\n"
     ]
    }
   ],
   "source": [
    "cols = st.columns(2)\n",
    "\n",
    "with cols[1]:\n",
    "    st.button(\"Next ➡️\", on_click=next, disabled = bool(st.session_state.image_index >= len(image_list) - 1), use_container_width=True)\n",
    "    \n",
    "with cols[0]:\n",
    "    st.button(\"⬅️ Previous\", on_click=prev, disabled = bool(st.session_state.image_index <= 0), use_container_width=True)    \n",
    "\n"
   ]
  },
  {
   "cell_type": "code",
   "execution_count": null,
   "id": "3474c216-557d-4857-8ad6-367faa09f5dd",
   "metadata": {},
   "outputs": [],
   "source": []
  }
 ],
 "metadata": {
  "kernelspec": {
   "display_name": "Python 3 (ipykernel)",
   "language": "python",
   "name": "python3"
  },
  "language_info": {
   "codemirror_mode": {
    "name": "ipython",
    "version": 3
   },
   "file_extension": ".py",
   "mimetype": "text/x-python",
   "name": "python",
   "nbconvert_exporter": "python",
   "pygments_lexer": "ipython3",
   "version": "3.11.7"
  }
 },
 "nbformat": 4,
 "nbformat_minor": 5
}
