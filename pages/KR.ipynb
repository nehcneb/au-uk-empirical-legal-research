{
 "cells": [
  {
   "cell_type": "markdown",
   "id": "c3b8b879",
   "metadata": {},
   "source": [
    "# Preliminaries"
   ]
  },
  {
   "cell_type": "code",
   "execution_count": 1,
   "id": "f2312235",
   "metadata": {
    "lines_to_next_cell": 2,
    "scrolled": true
   },
   "outputs": [],
   "source": [
    "#Preliminary modules\n",
    "import base64 \n",
    "import json\n",
    "import pandas as pd\n",
    "import shutil\n",
    "import numpy as np\n",
    "import re\n",
    "import datetime\n",
    "from datetime import date\n",
    "from dateutil import parser\n",
    "from dateutil.relativedelta import *\n",
    "from datetime import datetime, timedelta\n",
    "import sys\n",
    "import pause\n",
    "import requests\n",
    "from bs4 import BeautifulSoup, SoupStrainer\n",
    "import httplib2\n",
    "from urllib.request import urlretrieve\n",
    "import os\n",
    "import urllib.request\n",
    "import io\n",
    "from io import BytesIO\n",
    "\n",
    "\n",
    "#Streamlit\n",
    "import streamlit as st\n",
    "from streamlit_gsheets import GSheetsConnection\n",
    "from streamlit.components.v1 import html\n",
    "import streamlit_ext as ste\n",
    "from streamlit_extras.stylable_container import stylable_container\n",
    "\n",
    "#OpenAI\n",
    "import openai\n",
    "import tiktoken\n",
    "\n",
    "#Google\n",
    "#from google.oauth2 import service_account\n",
    "\n",
    "#Excel\n",
    "from pyxlsb import open_workbook as open_xlsb"
   ]
  },
  {
   "cell_type": "code",
   "execution_count": 2,
   "id": "89b19432-dc40-4740-ac69-cb4e7f6d356b",
   "metadata": {},
   "outputs": [
    {
     "ename": "ModuleNotFoundError",
     "evalue": "No module named 'common_functions'",
     "output_type": "error",
     "traceback": [
      "\u001b[0;31m---------------------------------------------------------------------------\u001b[0m",
      "\u001b[0;31mModuleNotFoundError\u001b[0m                       Traceback (most recent call last)",
      "Cell \u001b[0;32mIn[2], line 2\u001b[0m\n\u001b[1;32m      1\u001b[0m \u001b[38;5;66;03m#Import functions\u001b[39;00m\n\u001b[0;32m----> 2\u001b[0m \u001b[38;5;28;01mfrom\u001b[39;00m \u001b[38;5;21;01mcommon_functions\u001b[39;00m \u001b[38;5;28;01mimport\u001b[39;00m own_account_allowed, convert_df_to_json, convert_df_to_csv, convert_df_to_excel, mnc_cleaner \n\u001b[1;32m      3\u001b[0m \u001b[38;5;66;03m#Import variables\u001b[39;00m\n\u001b[1;32m      4\u001b[0m \u001b[38;5;28;01mfrom\u001b[39;00m \u001b[38;5;21;01mcommon_functions\u001b[39;00m \u001b[38;5;28;01mimport\u001b[39;00m today_in_nums, errors_list, scraper_pause_mean, judgment_text_lower_bound\n",
      "\u001b[0;31mModuleNotFoundError\u001b[0m: No module named 'common_functions'"
     ]
    }
   ],
   "source": [
    "#Import functions\n",
    "from common_functions import own_account_allowed, convert_df_to_json, convert_df_to_csv, convert_df_to_excel, mnc_cleaner \n",
    "#Import variables\n",
    "from common_functions import today_in_nums, errors_list, scraper_pause_mean, judgment_text_lower_bound\n",
    "\n",
    "if own_account_allowed() > 0:\n",
    "    print(f'By default, users are allowed to use their own account')\n",
    "else:\n",
    "    print(f'By default, users are NOT allowed to use their own account')\n",
    "\n",
    "print(f\"The pause between judgment scraping is {scraper_pause_mean} second.\\n\")\n",
    "\n",
    "print(f\"The lower bound on lenth of judgment text to process is {judgment_text_lower_bound} tokens.\\n\")"
   ]
  },
  {
   "cell_type": "markdown",
   "id": "4e819e27",
   "metadata": {},
   "source": [
    "# Kercher Reports search engine"
   ]
  },
  {
   "cell_type": "code",
   "execution_count": 4,
   "id": "55cab971-389c-47ed-a636-32d12f113b72",
   "metadata": {},
   "outputs": [
    {
     "ename": "ModuleNotFoundError",
     "evalue": "No module named 'common_functions'",
     "output_type": "error",
     "traceback": [
      "\u001b[0;31m---------------------------------------------------------------------------\u001b[0m",
      "\u001b[0;31mModuleNotFoundError\u001b[0m                       Traceback (most recent call last)",
      "Cell \u001b[0;32mIn[4], line 1\u001b[0m\n\u001b[0;32m----> 1\u001b[0m \u001b[38;5;28;01mfrom\u001b[39;00m \u001b[38;5;21;01mcommon_functions\u001b[39;00m \u001b[38;5;28;01mimport\u001b[39;00m link\n",
      "\u001b[0;31mModuleNotFoundError\u001b[0m: No module named 'common_functions'"
     ]
    }
   ],
   "source": [
    "from common_functions import link"
   ]
  },
  {
   "cell_type": "code",
   "execution_count": null,
   "id": "0f841231-e0ad-4647-b5c2-244594a4cc51",
   "metadata": {},
   "outputs": [],
   "source": [
    "#function to create dataframe\n",
    "def kr_create_df():\n",
    "\n",
    "    #submission time\n",
    "    timestamp = datetime.now()\n",
    "\n",
    "    #Personal info entries\n",
    "\n",
    "    name = ''\n",
    "    \n",
    "    email = ''\n",
    "\n",
    "    gpt_api_key = ''\n",
    "\n",
    "    try:\n",
    "        name = name_entry\n",
    "    except:\n",
    "        print('Name not entered')\n",
    "    \n",
    "    try:\n",
    "        email = email_entry\n",
    "    except:\n",
    "        print('Email not entered')\n",
    "\n",
    "    try:\n",
    "        gpt_api_key = gpt_api_key_entry\n",
    "    except:\n",
    "        print('API key not entered')\n",
    "\n",
    "    #Own account status\n",
    "    own_account = st.session_state.own_account\n",
    "    \n",
    "    #Judgment counter bound\n",
    "    judgments_counter_bound = st.session_state.judgments_counter_bound\n",
    "\n",
    "    #GPT enhancement\n",
    "    gpt_enhancement = st.session_state.gpt_enhancement_entry\n",
    "    \n",
    "    #GPT choice and entry\n",
    "    try:\n",
    "        gpt_activation_status = gpt_activation_entry\n",
    "    except:\n",
    "        gpt_activation_status = False\n",
    "    \n",
    "    gpt_questions = ''\n",
    "    \n",
    "    try:\n",
    "        gpt_questions = gpt_questions_entry[0: question_characters_bound]\n",
    "    \n",
    "    except:\n",
    "        print('GPT questions not entered.')\n",
    "    \n",
    "    new_row = {'Processed': '',\n",
    "           'Timestamp': timestamp,\n",
    "           'Your name': name, \n",
    "           'Your email address': email, \n",
    "           'Your GPT API key': gpt_api_key, \n",
    "            'Enter search query': query_entry,\n",
    "           'Find (method)': method_entry,\n",
    "           'Maximum number of judgments': judgments_counter_bound, \n",
    "           'Enter your questions for GPT': gpt_questions, \n",
    "            'Use GPT': gpt_activation_status, \n",
    "           'Use own account': own_account,\n",
    "            'Use flagship version of GPT' : gpt_enhancement\n",
    "          }\n",
    "\n",
    "    df_master_new = pd.DataFrame(new_row, index = [0])\n",
    "        \n",
    "    return df_master_new"
   ]
  },
  {
   "cell_type": "code",
   "execution_count": null,
   "id": "f9f2f670-342c-44ab-a87b-58aa2b023b9b",
   "metadata": {},
   "outputs": [],
   "source": [
    "#list of search methods\n",
    "\n",
    "kr_methods_list = ['Full text', 'Titles only', 'This Boolean query', 'Any of these words', 'All of these words']\n",
    "kr_method_types = ['auto', 'title', 'boolean', 'any', 'all']"
   ]
  },
  {
   "cell_type": "code",
   "execution_count": null,
   "id": "e2a0e86c",
   "metadata": {},
   "outputs": [],
   "source": [
    "#Function turning search terms to search results url\n",
    "\n",
    "def kr_search(query= '', \n",
    "              method = ''\n",
    "             ):\n",
    "    base_url = \"https://www.austlii.edu.au/cgi-bin/sinosrch.cgi?\"\n",
    "\n",
    "    method_index = kr_methods_list.index(method)\n",
    "    method_type = kr_method_types[method_index]\n",
    "\n",
    "    query_text = query\n",
    "\n",
    "    params = {#'meta' : ';',\n",
    "              'mask_path' : 'au/cases/nsw/NSWSupC', \n",
    "              'method' : method_type,\n",
    "              'query' : query_text\n",
    "             }\n",
    "\n",
    "    response = requests.get(base_url, params=params)\n",
    "    \n",
    "    return response.url"
   ]
  },
  {
   "cell_type": "code",
   "execution_count": null,
   "id": "c6321d43",
   "metadata": {},
   "outputs": [],
   "source": [
    "#Define function turning search results url to case_link_pairs to judgments\n",
    "def kr_search_results_to_case_link_pairs(url_search_results, judgment_counter_bound):\n",
    "    #Scrape webpage of search results\n",
    "    headers = {'User-Agent': 'whatever'}\n",
    "    page = requests.get(url_search_results, headers=headers)\n",
    "    soup = BeautifulSoup(page.content, \"lxml\")\n",
    "    hrefs = soup.find_all('a', href=True)\n",
    "    case_link_pairs = []\n",
    "\n",
    "    #number of search results\n",
    "    docs_found_string = str(soup.find('title')).split('AustLII:')[1].split('documents')[0].replace(' ', '')\n",
    "    docs_found = int(docs_found_string)\n",
    "\n",
    "    #Start counter\n",
    "    counter = 1\n",
    "    \n",
    "    for link in hrefs:\n",
    "        if ((counter <= judgment_counter_bound) and (' NSWSupC ' in str(link)) and ('LawCite' not in str(link))):\n",
    "#        if ((counter <= judgment_counter_bound) and ('AustLII' in str(link)) and ('cases/EngR' in str(link)) and ('LawCite' not in str(link))):\n",
    "            case = link.get_text()\n",
    "            link_direct = link.get('href')\n",
    "            link = 'https://www.austlii.edu.au' + link_direct.split('?context')[0]\n",
    "            dict_object = { 'case': case, 'link_direct': link}\n",
    "            case_link_pairs.append(dict_object)\n",
    "            counter = counter + 1\n",
    "        \n",
    "    for ending in range(10, docs_found, 10):\n",
    "        if counter <= min(judgment_counter_bound, docs_found):\n",
    "            url_next_page = url_search_results + ';offset=' + f\"{ending}\"\n",
    "            page_judgment_next_page = requests.get(url_next_page, headers=headers)\n",
    "            soup_judgment_next_page = BeautifulSoup(page_judgment_next_page.content, \"lxml\")\n",
    "            \n",
    "            hrefs_next_page = soup_judgment_next_page.find_all('a', href=True)\n",
    "            for extra_link in hrefs_next_page:\n",
    "                if ((counter <= judgment_counter_bound) and (' NSWSupC ' in str(extra_link)) and ('LawCite' not in str(link))):\n",
    "#                if ((counter <= judgment_counter_bound) and ('AustLII' in str(extra_link)) and ('cases/EngR' in str(extra_link)) and ('LawCite' not in str(extra_link))):\n",
    "                    case = extra_link.get_text()\n",
    "                    extra_link_direct = extra_link.get('href')\n",
    "                    extra_link = 'https://www.austlii.edu.au' + extra_link_direct.split('?context')[0]\n",
    "                    dict_object = { 'case': case, 'link_direct': extra_link}\n",
    "                    case_link_pairs.append(dict_object)\n",
    "                    counter = counter + 1\n",
    "\n",
    "            pause.seconds(np.random.randint(5, 15))\n",
    "            \n",
    "        else:\n",
    "            break\n",
    "    \n",
    "    return case_link_pairs"
   ]
  },
  {
   "cell_type": "code",
   "execution_count": null,
   "id": "3a72562c-8dce-4d9e-a2f4-c7a14a5877a2",
   "metadata": {},
   "outputs": [],
   "source": [
    "#Convert case-link pairs to judgment text\n",
    "\n",
    "def kr_judgment_text(case_link_pair):\n",
    "    url = case_link_pair['link_direct']\n",
    "    headers = {'User-Agent': 'whatever'}\n",
    "    page = requests.get(url, headers=headers)\n",
    "    soup = BeautifulSoup(page.content, \"lxml\")\n",
    "    text = soup.get_text()\n",
    "    try:\n",
    "        text = soup.get_text().split('Print (pretty)')[0].split('\\n Any \\n')[-1]\n",
    "    except:\n",
    "        pass\n",
    "    \n",
    "    return text\n",
    "        \n"
   ]
  },
  {
   "cell_type": "code",
   "execution_count": null,
   "id": "86a85223-64ca-4d1b-998c-1c2769c5a3e0",
   "metadata": {},
   "outputs": [],
   "source": [
    "#Meta labels and judgment combined\n",
    "\n",
    "def kr_meta_judgment_dict(case_link_pair):\n",
    "    \n",
    "    judgment_dict = {'Case name': '',\n",
    "                     'Medium neutral citation' : '', \n",
    "                     'Other reports': '', \n",
    "                     'Hyperlink to AustLII': '', \n",
    "                     'Date' : '', \n",
    "                     'judgment': ''\n",
    "                    }\n",
    "\n",
    "    case_name = case_link_pair['case']\n",
    "    date = case_link_pair['case'].split('(')[-1].replace(')', '')\n",
    "    year = case_link_pair['case'].split('[')[1][0:4]\n",
    "    case_number_raw = case_link_pair['case'].split('NSWSupC ')[1].split(' (')[0]\n",
    "    \n",
    "    if \";\" in case_number_raw:\n",
    "        case_number = case_number_raw.split(';')[0]\n",
    "    else:\n",
    "        case_number = case_number_raw\n",
    "    \n",
    "    mnc = '[' + year +']' + ' NSWSupC ' + case_number\n",
    "    nr_cite = ''\n",
    "        \n",
    "    try:\n",
    "        case_name = case_link_pair['case'].split('[')[0][:-1]\n",
    "        nr_cite = case_link_pair['case'].split('; ')[1].replace(' (' + date + ')', '')\n",
    "    except:\n",
    "        pass\n",
    "                \n",
    "    judgment_dict['Case name'] = case_name\n",
    "    judgment_dict['Medium neutral citation'] = mnc\n",
    "    judgment_dict['Other reports'] = nr_cite\n",
    "    judgment_dict['Date'] = date\n",
    "    judgment_dict['Hyperlink to AustLII'] = link(case_link_pair['link_direct'])\n",
    "    judgment_dict['judgment'] = kr_judgment_text(case_link_pair)\n",
    "\n",
    "        \n",
    "    return judgment_dict"
   ]
  },
  {
   "cell_type": "markdown",
   "id": "f9a2d594",
   "metadata": {},
   "source": [
    "# GPT functions and parameters"
   ]
  },
  {
   "cell_type": "code",
   "execution_count": null,
   "id": "da2db138-2b99-4be8-a9a9-7d6e80758a14",
   "metadata": {
    "lines_to_next_cell": 2
   },
   "outputs": [],
   "source": [
    "#Import functions\n",
    "from gpt_functions import split_by_line, GPT_label_dict, is_api_key_valid, gpt_input_cost, gpt_output_cost, tokens_cap, max_output, num_tokens_from_string, judgment_prompt_json, GPT_json, engage_GPT_json  \n",
    "#Import variables\n",
    "from gpt_functions import question_characters_bound, default_judgment_counter_bound, role_content"
   ]
  },
  {
   "cell_type": "code",
   "execution_count": null,
   "id": "5a842234-d4aa-4aad-b08f-3a4a6129b6ea",
   "metadata": {},
   "outputs": [],
   "source": [
    "print(f\"Questions for GPT are capped at {question_characters_bound} characters.\\n\")\n",
    "print(f\"The default number of judgments to scrape per request is capped at {default_judgment_counter_bound}.\\n\")"
   ]
  },
  {
   "cell_type": "code",
   "execution_count": null,
   "id": "c3751f91-6a65-49b8-b053-cc02e831c271",
   "metadata": {},
   "outputs": [],
   "source": [
    "#For checking questions and answers\n",
    "from common_functions import check_questions_answers\n",
    "\n",
    "from gpt_functions import questions_check_system_instruction, GPT_questions_check, checked_questions_json, answers_check_system_instruction\n",
    "\n",
    "if check_questions_answers() > 0:\n",
    "    print(f'By default, questions and answers are checked for potential privacy violation.')\n",
    "else:\n",
    "    print(f'By default, questions and answers are NOT checked for potential privacy violation.')\n"
   ]
  },
  {
   "cell_type": "code",
   "execution_count": null,
   "id": "30996a2d-5df6-460a-a800-da606cadd825",
   "metadata": {
    "lines_to_next_cell": 2
   },
   "outputs": [],
   "source": [
    "#Jurisdiction specific instruction\n",
    "#role_content_kr = 'You are a legal research assistant helping an academic researcher to answer questions about a public judgment. You will be provided with the judgment and metadata in JSON form. Please answer questions based only on information contained in the judgment and metadata. Where your answer comes from a part of the judgment or metadata, include a reference to that part of the judgment or metadata. If you cannot answer the questions based on the judgment or metadata, do not make up information, but instead write \"answer not found\". '\n",
    "\n",
    "system_instruction = role_content#_kr\n",
    "\n",
    "intro_for_GPT = [{\"role\": \"system\", \"content\": system_instruction}]"
   ]
  },
  {
   "cell_type": "code",
   "execution_count": null,
   "id": "a03e8eaf",
   "metadata": {},
   "outputs": [],
   "source": [
    "#Initialize default GPT settings\n",
    "\n",
    "if 'gpt_model' not in st.session_state:\n",
    "    st.session_state['gpt_model'] = \"gpt-4o-mini\"\n",
    "    \n",
    "#Initialize API key\n",
    "if 'gpt_api_key' not in st.session_state:\n",
    "\n",
    "    st.session_state['gpt_api_key'] = st.secrets[\"openai\"][\"gpt_api_key\"]\n",
    "\n",
    "#Upperbound on number of judgments to scrape\n",
    "if 'judgments_counter_bound' not in st.session_state:\n",
    "    st.session_state['judgments_counter_bound'] = default_judgment_counter_bound"
   ]
  },
  {
   "cell_type": "code",
   "execution_count": null,
   "id": "83981e9d",
   "metadata": {},
   "outputs": [],
   "source": [
    "#Obtain parameters\n",
    "\n",
    "def kr_run(df_master):\n",
    "    df_master = df_master.fillna('')\n",
    "\n",
    "    #Apply split and format functions for headnotes choice, court choice and GPT questions\n",
    "     \n",
    "    df_master['Enter your questions for GPT'] = df_master['Enter your questions for GPT'][0: question_characters_bound].apply(split_by_line)\n",
    "    df_master['questions_json'] = df_master['Enter your questions for GPT'].apply(GPT_label_dict)\n",
    "    \n",
    "    #Create judgments file\n",
    "    judgments_file = []\n",
    "    \n",
    "    #Conduct search\n",
    "\n",
    "    url_search_results = kr_search(query= df_master.loc[0, 'Enter search query'], \n",
    "                                   method = df_master.loc[0, 'Find (method)']\n",
    "                                  )\n",
    "        \n",
    "    judgments_counter_bound = int(df_master.loc[0, 'Maximum number of judgments'])\n",
    "\n",
    "    case_link_pairs = kr_search_results_to_case_link_pairs(url_search_results, judgments_counter_bound)\n",
    "\n",
    "    for case_link_pair in case_link_pairs:\n",
    "\n",
    "        judgment_dict = kr_meta_judgment_dict(case_link_pair)\n",
    "        judgments_file.append(judgment_dict)\n",
    "        pause.seconds(np.random.randint(5, 15))\n",
    "    \n",
    "    #Create and export json file with search results\n",
    "    json_individual = json.dumps(judgments_file, indent=2)\n",
    "    df_individual = pd.read_json(json_individual)\n",
    "\n",
    "    #For KR, convert date to string so as to avoid Excel producing random numbers for dates\n",
    "    df_individual['Date'] = df_individual['Date'].astype(str)\n",
    "\n",
    "    #Instruct GPT\n",
    "    \n",
    "    #GPT model\n",
    "\n",
    "    if df_master.loc[0, 'Use flagship version of GPT'] == True:\n",
    "        gpt_model = \"gpt-4o\"\n",
    "    else:        \n",
    "        gpt_model = \"gpt-4o-mini\"\n",
    "            \n",
    "    #apply GPT_individual to each respondent's judgment spreadsheet\n",
    "    \n",
    "    GPT_activation = int(df_master.loc[0, 'Use GPT'])\n",
    "\n",
    "    questions_json = df_master.loc[0, 'questions_json']\n",
    "            \n",
    "    #Engage GPT\n",
    "    df_updated = engage_GPT_json(questions_json, df_individual, GPT_activation, gpt_model, system_instruction)\n",
    "\n",
    "    df_updated.pop('judgment')\n",
    "    \n",
    "    return df_updated"
   ]
  },
  {
   "cell_type": "code",
   "execution_count": null,
   "id": "dacc31ee",
   "metadata": {},
   "outputs": [],
   "source": [
    "def kr_search_url(df_master):\n",
    "\n",
    "    df_master = df_master.fillna('')\n",
    "    \n",
    "    #Conduct search\n",
    "    \n",
    "    url = kr_search(query= df_master.loc[0, 'Enter search query'],\n",
    "                    method= df_master.loc[0, 'Find (method)']\n",
    "                   )\n",
    "    return url"
   ]
  },
  {
   "cell_type": "markdown",
   "id": "63d5dcd6",
   "metadata": {},
   "source": [
    "# Streamlit form, functions and parameters"
   ]
  },
  {
   "cell_type": "code",
   "execution_count": null,
   "id": "65be8810-aeec-49e3-8d81-81e1f6422144",
   "metadata": {
    "lines_to_next_cell": 2
   },
   "outputs": [],
   "source": [
    "#Import functions and variables\n",
    "from common_functions import open_page, clear_cache_except_validation_df_master, tips"
   ]
  },
  {
   "cell_type": "markdown",
   "id": "f972ee80-1aab-4d69-a763-ea13bd85d7d4",
   "metadata": {},
   "source": [
    "## Initialize session states"
   ]
  },
  {
   "cell_type": "code",
   "execution_count": null,
   "id": "93baa21f-a6cc-4654-a51e-a06117c11e6b",
   "metadata": {},
   "outputs": [],
   "source": [
    "#Initialize default values\n",
    "\n",
    "if 'gpt_enhancement_entry' not in st.session_state:\n",
    "    st.session_state['gpt_enhancement_entry'] = False\n",
    "\n",
    "if 'gpt_api_key_validity' not in st.session_state:\n",
    "    st.session_state['gpt_api_key_validity'] = False\n",
    "\n",
    "if 'own_account' not in st.session_state:\n",
    "    st.session_state['own_account'] = False\n",
    "\n",
    "if 'need_resetting' not in st.session_state:\n",
    "        \n",
    "    st.session_state['need_resetting'] = 0\n",
    "\n",
    "if 'df_master' not in st.session_state:\n",
    "    \n",
    "    #Generally applicable\n",
    "    st.session_state['df_master'] = pd.DataFrame([])\n",
    "    st.session_state['df_master'].loc[0, 'Your name'] = ''\n",
    "    st.session_state['df_master'].loc[0, 'Your email address'] = ''\n",
    "    st.session_state['df_master'].loc[0, 'Your GPT API key'] = ''\n",
    "    st.session_state['df_master'].loc[0, 'Metadata inclusion'] = True\n",
    "    st.session_state['df_master'].loc[0, 'Maximum number of judgments'] = default_judgment_counter_bound\n",
    "    st.session_state['df_master'].loc[0, 'Enter your questions for GPT'] = ''\n",
    "    st.session_state['df_master'].loc[0, 'Use GPT'] = False\n",
    "    st.session_state['df_master'].loc[0, 'Use own account'] = False\n",
    "    st.session_state['df_master'].loc[0, 'Use flagship version of GPT'] = False\n",
    "\n",
    "    #Jurisdiction specific\n",
    "    st.session_state.df_master.loc[0, 'Enter search query'] = None\n",
    "    st.session_state.df_master.loc[0, 'Find (method)'] = 'Full text'\n",
    "\n",
    "    #Generally applicable\n",
    "    st.session_state['df_master'] = st.session_state['df_master'].replace({np.nan: None})\n",
    "\n",
    "if 'df_individual_output' not in st.session_state:\n",
    "\n",
    "    st.session_state['df_individual_output'] = pd.DataFrame([])\n",
    "\n",
    "#Disable toggles\n",
    "if 'disable_input' not in st.session_state:\n",
    "    st.session_state[\"disable_input\"] = True"
   ]
  },
  {
   "cell_type": "code",
   "execution_count": 1,
   "id": "599267c9-141c-4ee7-9ba1-9b818128dd7e",
   "metadata": {},
   "outputs": [
    {
     "ename": "NameError",
     "evalue": "name 'st' is not defined",
     "output_type": "error",
     "traceback": [
      "\u001b[0;31m---------------------------------------------------------------------------\u001b[0m",
      "\u001b[0;31mNameError\u001b[0m                                 Traceback (most recent call last)",
      "Cell \u001b[0;32mIn[1], line 2\u001b[0m\n\u001b[1;32m      1\u001b[0m \u001b[38;5;66;03m#If landing page is not home\u001b[39;00m\n\u001b[0;32m----> 2\u001b[0m \u001b[38;5;28;01mif\u001b[39;00m \u001b[38;5;124m'\u001b[39m\u001b[38;5;124mpage_from\u001b[39m\u001b[38;5;124m'\u001b[39m \u001b[38;5;129;01mnot\u001b[39;00m \u001b[38;5;129;01min\u001b[39;00m \u001b[43mst\u001b[49m\u001b[38;5;241m.\u001b[39msession_state:\n\u001b[1;32m      3\u001b[0m     st\u001b[38;5;241m.\u001b[39msession_state[\u001b[38;5;124m'\u001b[39m\u001b[38;5;124mpage_from\u001b[39m\u001b[38;5;124m'\u001b[39m] \u001b[38;5;241m=\u001b[39m \u001b[38;5;124m'\u001b[39m\u001b[38;5;124mHome.py\u001b[39m\u001b[38;5;124m'\u001b[39m\n",
      "\u001b[0;31mNameError\u001b[0m: name 'st' is not defined"
     ]
    }
   ],
   "source": [
    "#If landing page is not home\n",
    "if 'page_from' not in st.session_state:\n",
    "    st.session_state['page_from'] = 'Home.py'"
   ]
  },
  {
   "cell_type": "markdown",
   "id": "e66bd6e2-759a-47ed-b9bb-7caf7bf876dd",
   "metadata": {},
   "source": [
    "## Form before AI"
   ]
  },
  {
   "cell_type": "code",
   "execution_count": null,
   "id": "c683d9af",
   "metadata": {
    "lines_to_next_cell": 2
   },
   "outputs": [],
   "source": [
    "if st.session_state.page_from != \"pages/KR.py\": #Need to add in order to avoid GPT page from showing form of previous page\n",
    "\n",
    "    #Create form\n",
    "    \n",
    "    return_button = st.button('RETURN to first page')\n",
    "    \n",
    "    st.header(f\"You have selected to study :blue[the Kercher Reports].\")\n",
    "    \n",
    "    #    st.header(\"Judgment Search Criteria\")\n",
    "    \n",
    "    st.markdown(\"\"\"**:green[Please enter your search terms.]** This program will collect (ie scrape) the first 10 judgments returned by your search terms.\n",
    "\"\"\")\n",
    "    st.caption('During the pilot stage, the number of judgments to scrape is capped. Please reach out to Ben Chen at ben.chen@sydney.edu.au should you wish to cover more judgments.')\n",
    "    \n",
    "    reset_button = st.button(label='RESET', type = 'primary')\n",
    "\n",
    "    st.subheader(\"Your search terms\")\n",
    "    \n",
    "    st.markdown(\"\"\"For search tips, please visit [AustLII](https://www.austlii.edu.au/cgi-bin/viewdb/au/cases/nsw/NSWSupC/). This section mimics their search function.\n",
    "\"\"\")\n",
    "    \n",
    "    method_entry = st.selectbox(label = 'Find', options = kr_methods_list, index = kr_methods_list.index(st.session_state.df_master.loc[0, 'Find (method)']))\n",
    "    \n",
    "    query_entry = st.text_input(label = 'Enter search query', value = st.session_state.df_master.loc[0, 'Enter search query'])\n",
    "        \n",
    "    st.markdown(\"\"\"You can preview the judgments returned by your search terms on AustLII after you have entered some search terms.\n",
    "\n",
    "You may have to unblock a popped up window, refresh this page, and re-enter your search terms.\n",
    "\"\"\")\n",
    "    \n",
    "    preview_button = st.button(label = 'PREVIEW on AustLII (in a popped up window)', type = 'primary')"
   ]
  },
  {
   "cell_type": "markdown",
   "id": "ee69aa79-50d4-423e-93de-b6bf759be87b",
   "metadata": {},
   "source": [
    "## Buttons"
   ]
  },
  {
   "cell_type": "code",
   "execution_count": 1,
   "id": "5428b07e-fe2e-4854-88a1-d216fd143912",
   "metadata": {
    "lines_to_next_cell": 2
   },
   "outputs": [
    {
     "ename": "NameError",
     "evalue": "name 'st' is not defined",
     "output_type": "error",
     "traceback": [
      "\u001b[0;31m---------------------------------------------------------------------------\u001b[0m",
      "\u001b[0;31mNameError\u001b[0m                                 Traceback (most recent call last)",
      "Cell \u001b[0;32mIn[1], line 3\u001b[0m\n\u001b[1;32m      1\u001b[0m \u001b[38;5;66;03m#Buttons\u001b[39;00m\n\u001b[0;32m----> 3\u001b[0m col1, col2, col3, col4 \u001b[38;5;241m=\u001b[39m \u001b[43mst\u001b[49m\u001b[38;5;241m.\u001b[39mcolumns(\u001b[38;5;241m4\u001b[39m, gap \u001b[38;5;241m=\u001b[39m \u001b[38;5;124m'\u001b[39m\u001b[38;5;124msmall\u001b[39m\u001b[38;5;124m'\u001b[39m)\n\u001b[1;32m      5\u001b[0m \u001b[38;5;28;01mwith\u001b[39;00m col1:\n\u001b[1;32m      6\u001b[0m     keep_button \u001b[38;5;241m=\u001b[39m st\u001b[38;5;241m.\u001b[39mbutton(\u001b[38;5;124m'\u001b[39m\u001b[38;5;124mSAVE\u001b[39m\u001b[38;5;124m'\u001b[39m)\n",
      "\u001b[0;31mNameError\u001b[0m: name 'st' is not defined"
     ]
    }
   ],
   "source": [
    "    #Buttons\n",
    "    \n",
    "    #col1, col2, col3, col4 = st.columns(4, gap = 'small')\n",
    "    \n",
    "    #with col1:\n",
    "    \n",
    "        #reset_button = st.button(label='RESET', type = 'primary')\n",
    "    \n",
    "    #with col4:\n",
    "    with stylable_container(\n",
    "        \"green\",\n",
    "        css_styles=\"\"\"\n",
    "        button {\n",
    "            background-color: #00FF00;\n",
    "            color: black;\n",
    "        }\"\"\",\n",
    "    ):\n",
    "        next_button = st.button(label='NEXT')\n",
    "    \n",
    "    keep_button = st.button('SAVE')"
   ]
  },
  {
   "cell_type": "markdown",
   "id": "9f6f71a3",
   "metadata": {},
   "source": [
    "# Save and run"
   ]
  },
  {
   "cell_type": "code",
   "execution_count": null,
   "id": "81d89e4a",
   "metadata": {
    "lines_to_next_cell": 2
   },
   "outputs": [],
   "source": [
    "    if preview_button:\n",
    "        \n",
    "        df_master = kr_create_df()\n",
    "    \n",
    "        judgments_url = kr_search_url(df_master)\n",
    "    \n",
    "        open_page(judgments_url)"
   ]
  },
  {
   "cell_type": "code",
   "execution_count": null,
   "id": "4873fffb",
   "metadata": {
    "lines_to_next_cell": 2
   },
   "outputs": [],
   "source": [
    "    if keep_button:\n",
    "    \n",
    "        all_search_terms = str(query_entry)\n",
    "            \n",
    "        if all_search_terms.replace('None', '') == \"\":\n",
    "    \n",
    "            st.warning('You must enter some search terms.')\n",
    "    \n",
    "        else:\n",
    "    \n",
    "            df_master = kr_create_df()\n",
    "    \n",
    "            st.session_state.df_master = df_master\n",
    "        \n",
    "            df_master.pop(\"Your GPT API key\")\n",
    "        \n",
    "            df_master.pop(\"Processed\")\n",
    "        \n",
    "            responses_output_name = str(df_master.loc[0, 'Your name']) + '_' + str(today_in_nums) + '_responses'\n",
    "        \n",
    "            #Produce a file to download\n",
    "        \n",
    "            csv = convert_df_to_csv(df_master)\n",
    "            \n",
    "            ste.download_button(\n",
    "                label=\"Download as a CSV (for use in Excel etc)\", \n",
    "                data = csv,\n",
    "                file_name=responses_output_name + '.csv', \n",
    "                mime= \"text/csv\", \n",
    "        #            key='download-csv'\n",
    "            )\n",
    "    \n",
    "    \n",
    "            xlsx = convert_df_to_excel(df_master)\n",
    "            \n",
    "            ste.download_button(label='Download as an Excel spreadsheet (XLSX)',\n",
    "                                data=xlsx,\n",
    "                                file_name=responses_output_name + '.xlsx', \n",
    "                                mime='application/vnd.ms-excel',\n",
    "                               )\n",
    "            \n",
    "            json = convert_df_to_json(df_master)\n",
    "            \n",
    "            ste.download_button(\n",
    "                label=\"Download as a JSON\", \n",
    "                data = json,\n",
    "                file_name= responses_output_name + '.json', \n",
    "                mime= \"application/json\", \n",
    "            )"
   ]
  },
  {
   "cell_type": "code",
   "execution_count": null,
   "id": "33345ea2-7f21-41ea-a541-b1f865711fd9",
   "metadata": {},
   "outputs": [],
   "source": [
    "    if return_button:\n",
    "    \n",
    "        st.switch_page(\"Home.py\")"
   ]
  },
  {
   "cell_type": "code",
   "execution_count": null,
   "id": "b995e061-1e4e-4be7-b82d-a30c56d08933",
   "metadata": {},
   "outputs": [],
   "source": [
    "    if reset_button:\n",
    "        st.session_state.pop('df_master')\n",
    "\n",
    "        #clear_cache()\n",
    "        st.rerun()"
   ]
  },
  {
   "cell_type": "code",
   "execution_count": null,
   "id": "ceb9b188-e188-47e7-a493-49a52ebe2c15",
   "metadata": {},
   "outputs": [],
   "source": [
    "    if next_button:\n",
    "    \n",
    "        all_search_terms = str(query_entry)\n",
    "            \n",
    "        if all_search_terms.replace('None', '') == \"\":\n",
    "    \n",
    "            st.warning('You must enter some search terms.')\n",
    "        \n",
    "        else:\n",
    "        \n",
    "            df_master = kr_create_df()\n",
    "            \n",
    "            st.session_state['df_master'] = df_master\n",
    "                        \n",
    "            st.session_state[\"page_from\"] = 'pages/KR.py'\n",
    "            \n",
    "            st.switch_page('pages/GPT.py')"
   ]
  }
 ],
 "metadata": {
  "jupytext": {
   "formats": "ipynb,py:percent"
  },
  "kernelspec": {
   "display_name": "Python 3 (ipykernel)",
   "language": "python",
   "name": "python3"
  },
  "language_info": {
   "codemirror_mode": {
    "name": "ipython",
    "version": 3
   },
   "file_extension": ".py",
   "mimetype": "text/x-python",
   "name": "python",
   "nbconvert_exporter": "python",
   "pygments_lexer": "ipython3",
   "version": "3.11.7"
  }
 },
 "nbformat": 4,
 "nbformat_minor": 5
}
