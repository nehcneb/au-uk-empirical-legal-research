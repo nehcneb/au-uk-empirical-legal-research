{
 "cells": [
  {
   "cell_type": "markdown",
   "id": "31316dc6-71a8-49ed-9153-57cb22e04462",
   "metadata": {},
   "source": [
    "# Preliminaries"
   ]
  },
  {
   "cell_type": "code",
   "execution_count": 1,
   "id": "d1449d6e-ae1c-4b96-a07d-67e3b192b4cb",
   "metadata": {},
   "outputs": [],
   "source": [
    "#Preliminaries\n",
    "import datetime\n",
    "from datetime import date\n",
    "from dateutil import parser\n",
    "from dateutil.parser import parse\n",
    "from dateutil.relativedelta import *\n",
    "from datetime import datetime, timedelta\n",
    "import pandas as pd\n",
    "import numpy as np\n",
    "\n",
    "#Excel\n",
    "from io import BytesIO\n",
    "from pyxlsb import open_workbook as open_xlsb\n",
    "\n",
    "#Streamlit\n",
    "import streamlit as st\n",
    "from streamlit_gsheets import GSheetsConnection\n",
    "from streamlit.components.v1 import html\n",
    "import streamlit_ext as ste"
   ]
  },
  {
   "cell_type": "code",
   "execution_count": 2,
   "id": "7d0b75ab-02c0-4767-adc2-99417a499aea",
   "metadata": {},
   "outputs": [],
   "source": [
    "def own_account_allowed():\n",
    "    return 1"
   ]
  },
  {
   "cell_type": "code",
   "execution_count": 3,
   "id": "6b334b9a-be29-49ae-844a-05105d5f3d5e",
   "metadata": {},
   "outputs": [],
   "source": [
    "def check_questions_answers():\n",
    "    return 1"
   ]
  },
  {
   "cell_type": "code",
   "execution_count": null,
   "id": "62de9605-e5f0-4656-a3fe-924dd9fc2f5d",
   "metadata": {},
   "outputs": [],
   "source": [
    "#Default judgment counter bound\n",
    "\n",
    "default_judgment_counter_bound = 10"
   ]
  },
  {
   "cell_type": "code",
   "execution_count": null,
   "id": "a224ee69-5225-405c-bf1a-1a5e2d8a36e8",
   "metadata": {},
   "outputs": [],
   "source": [
    "#Default page bound for OWN.py\n",
    "default_page_bound = 50"
   ]
  },
  {
   "cell_type": "code",
   "execution_count": null,
   "id": "598c5031-0de9-41fd-a1bf-cc7224a73789",
   "metadata": {},
   "outputs": [],
   "source": [
    "#Check if string is date\n",
    "\n",
    "#From https://stackoverflow.com/questions/25341945/check-if-string-has-date-any-format\n",
    "\n",
    "def is_date(string, fuzzy=False):\n",
    "    \"\"\"\n",
    "    Return whether the string can be interpreted as a date.\n",
    "\n",
    "    :param string: str, string to check for date\n",
    "    :param fuzzy: bool, ignore unknown tokens in string if True\n",
    "    \"\"\"\n",
    "    try: \n",
    "        parse(string, fuzzy=fuzzy)\n",
    "        return True\n",
    "\n",
    "    except ValueError:\n",
    "        return False\n",
    "\n"
   ]
  },
  {
   "cell_type": "code",
   "execution_count": null,
   "id": "8379113b-2ecf-4f14-b0a7-f75846837e18",
   "metadata": {},
   "outputs": [],
   "source": [
    "def date_parser(string):\n",
    "    try:\n",
    "        date = parser.parse(string, dayfirst=True)\n",
    "        return date\n",
    "    except:\n",
    "        return None\n",
    "    \n"
   ]
  },
  {
   "cell_type": "code",
   "execution_count": 3,
   "id": "cbd16144-32e7-4859-9c83-e198c3a69bf7",
   "metadata": {},
   "outputs": [],
   "source": [
    "#today\n",
    "today_in_nums = str(datetime.now())[0:10]\n",
    "today = datetime.now().strftime(\"%d/%m/%Y\")"
   ]
  },
  {
   "cell_type": "code",
   "execution_count": 4,
   "id": "2b14951c-6387-46be-bc28-a9b90f7064f7",
   "metadata": {},
   "outputs": [],
   "source": [
    "# Generate placeholder list of errors\n",
    "errors_list = set()"
   ]
  },
  {
   "cell_type": "code",
   "execution_count": 5,
   "id": "7b59a7ad-980c-4c5e-8c1c-717887de66a1",
   "metadata": {
    "lines_to_next_cell": 2
   },
   "outputs": [],
   "source": [
    "#Pause between judgment scraping\n",
    "\n",
    "scraper_pause_mean = int((15-5)/2)\n",
    "\n",
    "#print(f\"The pause between judgment scraping is {scraper_pause_mean} second.\\n\")"
   ]
  },
  {
   "cell_type": "code",
   "execution_count": 6,
   "id": "63300543-d8a8-4165-8480-9ec5c752fc07",
   "metadata": {},
   "outputs": [],
   "source": [
    "#Lowerbound on length of judgment text to proccess, in tokens\n",
    "\n",
    "judgment_text_lower_bound = 5000"
   ]
  },
  {
   "cell_type": "code",
   "execution_count": 7,
   "id": "74f55483-b621-4001-b79d-78a9e9ab7653",
   "metadata": {},
   "outputs": [],
   "source": [
    "#Create function for saving responses and results\n",
    "def convert_df_to_json(df):\n",
    "    return df.to_json(orient = 'split', compression = 'infer', default_handler=str)\n",
    "\n",
    "def convert_df_to_csv(df):\n",
    "   return df.to_csv(index=False).encode('utf-8')\n",
    "\n",
    "def convert_df_to_excel(df):\n",
    "    #Excel metadata\n",
    "    excel_author = 'The Empirical Legal Research Kickstarter'\n",
    "    excel_description = 'A 2022 University of Sydney Research Accelerator (SOAR) Prize partially funded the development of the Empirical Legal Research Kickstarter, which generated this spreadsheet.'\n",
    "    output = BytesIO()\n",
    "    writer = pd.ExcelWriter(output, engine='xlsxwriter', engine_kwargs={'options': {'strings_to_urls': False}})\n",
    "    df.to_excel(writer, index=False, sheet_name='Sheet1')\n",
    "    workbook = writer.book\n",
    "    workbook.set_properties({\"author\": excel_author, \"comments\": excel_description})\n",
    "    worksheet = writer.sheets['Sheet1']\n",
    "#    format1 = workbook.add_format({'num_format': '0.00'}) \n",
    "    worksheet.set_column('A:A', None)#, format1)  \n",
    "    writer.save()\n",
    "    processed_data = output.getvalue()\n",
    "    return processed_data"
   ]
  },
  {
   "cell_type": "code",
   "execution_count": 8,
   "id": "585aad99-004f-44bc-a480-bf7e67cebfb5",
   "metadata": {},
   "outputs": [],
   "source": [
    "#Define function to determine eligibility for GPT use\n",
    "\n",
    "#Define a list of privileged email addresses with unlimited GPT uses\n",
    "\n",
    "def prior_GPT_uses(email_address, df_online):\n",
    "    privileged_emails = st.secrets[\"secrets\"][\"privileged_emails\"].replace(' ', '').split(',')\n",
    "    # df_online variable should be the online df_online\n",
    "    prior_use_counter = 0\n",
    "    for i in df_online.index:\n",
    "        if ((df_online.loc[i, \"Your email address\"] == email_address) \n",
    "            and (int(df_online.loc[i, \"Use GPT\"]) > 0) \n",
    "            and (len(df_online.loc[i, \"Processed\"])>0)\n",
    "           ):\n",
    "            prior_use_counter += 1\n",
    "    if email_address in privileged_emails:\n",
    "        return 0\n",
    "    else:\n",
    "        return prior_use_counter\n",
    "\n",
    "#Define function to check whether email is educational or government\n",
    "def check_edu_gov(email_address):\n",
    "    #Return 1 if educational or government, return 0 otherwise\n",
    "    end=email_address.split('@')[1]\n",
    "    if (('.gov' in end) or ('.edu' in end) or ('.ac' in end)):\n",
    "        return 1\n",
    "    else:\n",
    "        return 0\n",
    "\n"
   ]
  },
  {
   "cell_type": "code",
   "execution_count": 9,
   "id": "2276c642-efdc-481b-bbde-e05551270a66",
   "metadata": {},
   "outputs": [],
   "source": [
    "#Tidy up medium neutral citation\n",
    "def mnc_cleaner(x):\n",
    "    if '[' in x:\n",
    "        x_clean=str(x).split(\"[\")\n",
    "        y = '[' + x_clean[1]\n",
    "        return y\n",
    "    else:\n",
    "        return x\n",
    "\n"
   ]
  },
  {
   "cell_type": "code",
   "execution_count": 10,
   "id": "ea50c32c-7529-482c-b0d4-b8b322351896",
   "metadata": {},
   "outputs": [],
   "source": [
    "#Tidy up hyperlink\n",
    "def link(x):\n",
    "    value = '=HYPERLINK(\"' + str(x) + '\")'\n",
    "    return value\n",
    "\n"
   ]
  },
  {
   "cell_type": "markdown",
   "id": "d2f7a105-6d86-49a2-8e65-bebeaae654c9",
   "metadata": {},
   "source": [
    "# Streamlit"
   ]
  },
  {
   "cell_type": "code",
   "execution_count": 11,
   "id": "bed4b91b-dadb-4831-b1ba-0b85d767a1c8",
   "metadata": {},
   "outputs": [],
   "source": [
    "#Function to open url\n",
    "def open_page(url):\n",
    "    open_script= \"\"\"\n",
    "        <script type=\"text/javascript\">\n",
    "            window.open('%s', '_blank').focus();\n",
    "        </script>\n",
    "    \"\"\" % (url)\n",
    "    html(open_script)"
   ]
  },
  {
   "cell_type": "code",
   "execution_count": null,
   "id": "137d660f-e152-4ac8-8f2d-f2e9fe46d980",
   "metadata": {},
   "outputs": [],
   "source": [
    "def clear_cache():\n",
    "    \n",
    "    keys = list(st.session_state.keys())\n",
    "    \n",
    "    for key in keys:\n",
    "        st.session_state.pop(key)\n",
    "\n"
   ]
  },
  {
   "cell_type": "code",
   "execution_count": 12,
   "id": "7a0daf68-c7c4-4e1e-a01d-da4e8cd68b8f",
   "metadata": {},
   "outputs": [],
   "source": [
    "def clear_cache_except_validation_df_master():\n",
    "    keys = list(st.session_state.keys())\n",
    "    if 'df_master' in keys:\n",
    "        keys.remove('df_master')\n",
    "    if 'page_from' in keys:\n",
    "        keys.remove('page_from')\n",
    "    if 'jurisdiction_page' in keys:\n",
    "        keys.remove('jurisdiction_page')\n",
    "    for key in keys:\n",
    "        st.session_state.pop(key)"
   ]
  },
  {
   "cell_type": "code",
   "execution_count": 13,
   "id": "83a91733-ec33-4cef-8af5-ef62cc7d4ad0",
   "metadata": {},
   "outputs": [],
   "source": [
    "def tips():\n",
    "    st.markdown(\"\"\":green[**DO's**:]\n",
    "- :green[Do break down complex tasks into simple sub-tasks.]\n",
    "- :green[Do give clear and detailed instructions (eg specify steps required to complete a task).]\n",
    "- :green[Do use the same terminology as the relevant judgments or files themselves.]\n",
    "- :green[Do give exemplar answers.]\n",
    "- :green[Do manually check some or all answers.]\n",
    "- :green[Do revise questions to get better answers.]\n",
    "- :green[Do evaluate answers on the same sample of judgments or files (ie the \"training\" sample).]\n",
    "\"\"\")\n",
    "\n",
    "    st.markdown(\"\"\":red[**Don'ts**:]\n",
    "- :red[Don't ask questions which go beyond the relevant judgments or files themselves.]\n",
    "- :red[Don't ask difficult maths questions.]\n",
    "- :red[Don't skip manual evaluation.]\n",
    "\"\"\")\n",
    "\n",
    "    st.markdown(\"\"\":orange[**Maybe's**:]\n",
    "- :orange[Maybe ask for reasoning.]\n",
    "- :orange[Maybe re-run the same questions and manually check for inconsistency.]\n",
    "\"\"\")\n",
    "\n",
    "    st.write('Click [here](https://platform.openai.com/docs/guides/prompt-engineering) for more tips.')"
   ]
  },
  {
   "cell_type": "code",
   "execution_count": null,
   "id": "95fe1424-ee5e-43c2-b199-3154a73b5f93",
   "metadata": {},
   "outputs": [],
   "source": [
    "def list_value_check(some_list, some_value):\n",
    "    try:\n",
    "        index = some_list.index(some_value)\n",
    "        return index\n",
    "    except:\n",
    "        return None"
   ]
  },
  {
   "cell_type": "code",
   "execution_count": 1,
   "id": "9336510a-d69f-4bc5-8b99-5fa138fff27f",
   "metadata": {},
   "outputs": [],
   "source": [
    "def list_range_check(some_list, some_string):\n",
    "    selected_list = []\n",
    "    try:\n",
    "        raw_list = some_string.split(',')\n",
    "\n",
    "        for item in raw_list:\n",
    "\n",
    "            while item[0] == ' ':\n",
    "                item = item[1:]\n",
    "            \n",
    "            if item in some_list:\n",
    "                selected_list.append(item)\n",
    "\n",
    "    except:\n",
    "        print(f'List {str(some_list)} does not contain {some_string}')\n",
    " \n",
    "    return selected_list\n",
    "\n"
   ]
  },
  {
   "cell_type": "code",
   "execution_count": 1,
   "id": "ebd49778-2c57-4887-8658-6b63941105d6",
   "metadata": {},
   "outputs": [],
   "source": [
    "def au_date(x):\n",
    "    try:\n",
    "        return parser.parse(x, dayfirst=True)\n",
    "    except:\n",
    "        return None"
   ]
  },
  {
   "cell_type": "code",
   "execution_count": null,
   "id": "3bbdbc72-172d-4575-a850-314562134070",
   "metadata": {},
   "outputs": [],
   "source": [
    "#String to integer\n",
    "def str_to_int(string):\n",
    "    try:\n",
    "        if '.' in string:\n",
    "            output = int(string.split('.')[0])\n",
    "        else:\n",
    "            output = int(string)\n",
    "        return output\n",
    "    except:\n",
    "        return int(default_judgment_counter_bound)"
   ]
  },
  {
   "cell_type": "code",
   "execution_count": null,
   "id": "d15bf0b8-1ef3-4f6b-a043-545d15a51178",
   "metadata": {},
   "outputs": [],
   "source": [
    "#String to integer\n",
    "def str_to_int_page(string):\n",
    "    try:\n",
    "        if '.' in string:\n",
    "            output = int(string.split('.')[0])\n",
    "        else:\n",
    "            output = int(string)\n",
    "        return output\n",
    "    except:\n",
    "        return int(default_page_bound)"
   ]
  },
  {
   "cell_type": "code",
   "execution_count": null,
   "id": "8f231c89-6e14-430a-8db1-ef660821f170",
   "metadata": {},
   "outputs": [],
   "source": [
    "#Save jurisdiction specific input\n",
    "def save_input(df_master):\n",
    "\n",
    "    keys_to_carry_over = ['Your name', \n",
    "                        'Your email address', \n",
    "                        'Your GPT API key', \n",
    "                        'Maximum number of judgments', \n",
    "                        'Maximum number of files',\n",
    "                        'Maximum number of pages per file',\n",
    "                        'Language choice',\n",
    "                        'Enter your questions for GPT', \n",
    "                        'Use GPT', \n",
    "                        'Use own account', \n",
    "                        'Use flagship version of GPT']\n",
    "    \n",
    "    df_master = df_master.replace({np.nan: None})\n",
    "    \n",
    "    for key in st.session_state.df_master.keys():\n",
    "        \n",
    "        if key not in keys_to_carry_over:\n",
    "            \n",
    "            st.session_state.df_master.loc[0, key]  = df_master.loc[0, key]\n"
   ]
  },
  {
   "cell_type": "code",
   "execution_count": null,
   "id": "abba850f-268c-4643-8980-7cd2bbbaf4b9",
   "metadata": {
    "lines_to_next_cell": 2
   },
   "outputs": [],
   "source": [
    "def streamlit_cloud_date_format(date):\n",
    "    local_now = datetime.now().astimezone()\n",
    "    time_zone = local_now.tzname()\n",
    "    if time_zone in ['AEST', 'ACST', 'AWST', 'BST']:\n",
    "        date_to_send = parser.parse(date, dayfirst=True).strftime(\"%d/%m/%Y\")\n",
    "    else:\n",
    "        date_to_send = parser.parse(date, dayfirst=True).strftime(\"%m/%d/%Y\")\n",
    "    return date_to_send"
   ]
  }
 ],
 "metadata": {
  "kernelspec": {
   "display_name": "Python 3 (ipykernel)",
   "language": "python",
   "name": "python3"
  },
  "language_info": {
   "codemirror_mode": {
    "name": "ipython",
    "version": 3
   },
   "file_extension": ".py",
   "mimetype": "text/x-python",
   "name": "python",
   "nbconvert_exporter": "python",
   "pygments_lexer": "ipython3",
   "version": "3.11.7"
  }
 },
 "nbformat": 4,
 "nbformat_minor": 5
}
