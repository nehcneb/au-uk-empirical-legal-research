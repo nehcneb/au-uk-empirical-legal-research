{
 "cells": [
  {
   "cell_type": "code",
   "execution_count": 1,
   "id": "e492256b-5aaa-4959-8342-9d9ec6c19f16",
   "metadata": {
    "editable": true,
    "slideshow": {
     "slide_type": ""
    },
    "tags": []
   },
   "outputs": [],
   "source": [
    "#streamlit run Dropbox/Python/GitHub/au-uk-empirical-legal-research-unlimited/Home.py"
   ]
  },
  {
   "cell_type": "markdown",
   "id": "0984b066-1f75-4b93-9847-9e7638c7d429",
   "metadata": {
    "editable": true,
    "slideshow": {
     "slide_type": ""
    },
    "tags": []
   },
   "source": [
    "# Preliminaries"
   ]
  },
  {
   "cell_type": "code",
   "execution_count": 2,
   "id": "dbee894d-ed7b-4208-a6bc-cd95e42639f9",
   "metadata": {
    "editable": true,
    "lines_to_next_cell": 2,
    "slideshow": {
     "slide_type": ""
    },
    "tags": []
   },
   "outputs": [],
   "source": [
    "#Streamlit\n",
    "import streamlit as st"
   ]
  },
  {
   "cell_type": "code",
   "execution_count": 3,
   "id": "6a706700-d1c5-4666-bf14-e18d099bde07",
   "metadata": {
    "editable": true,
    "slideshow": {
     "slide_type": ""
    },
    "tags": []
   },
   "outputs": [],
   "source": [
    "#Title of webpage\n",
    "st.set_page_config(\n",
    "   page_title=\"Empirical Legal Research Kickstarter\",\n",
    "   page_icon=\"🧊\",\n",
    "   layout=\"centered\",\n",
    "   initial_sidebar_state=\"collapsed\",\n",
    ")"
   ]
  },
  {
   "cell_type": "code",
   "execution_count": 4,
   "id": "635cd918-68e8-4b85-959b-34cd674d67df",
   "metadata": {},
   "outputs": [
    {
     "name": "stdout",
     "output_type": "stream",
     "text": [
      "By default, users are allowed to use their own account\n"
     ]
    }
   ],
   "source": [
    "#Determine whether to allow user to use own account\n",
    "from common_functions import own_account_allowed\n",
    "\n",
    "if own_account_allowed() > 0:\n",
    "    print(f'By default, users are allowed to use their own account')\n",
    "else:\n",
    "    print(f'By default, users are NOT allowed to use their own account')"
   ]
  },
  {
   "cell_type": "code",
   "execution_count": 5,
   "id": "a950fb9f-2222-468a-b404-d3f8fcfac9a4",
   "metadata": {
    "editable": true,
    "slideshow": {
     "slide_type": ""
    },
    "tags": []
   },
   "outputs": [],
   "source": [
    "#List of sources of information\n",
    "sources_list = [\"Judgments of the New South Wales courts and tribunals\", \n",
    "                \"Judgments of select Australian federal courts and tribunals\", \n",
    "                #\"Judgments of select United Kingdom courts and tribunals\", \n",
    "                \"The Kercher Reports (decisions of the New South Wales superior courts from 1788 to 1900)\", \n",
    "                \"The English Reports (nearly all English case reports from 1220 to 1866)\",\n",
    "                \"Your own files\", \n",
    "                \"Your own spreadsheet\"\n",
    "               ]\n",
    "\n",
    "source_pages = [\"pages/NSW.py\", \n",
    "                \"pages/CTH.py\", \n",
    "                #\"pages/UK.py\", \n",
    "                \"pages/KR.py\", \n",
    "                \"pages/ER.py\", \n",
    "                \"pages/OWN.py\", \n",
    "                'pages/AI.py']"
   ]
  },
  {
   "cell_type": "code",
   "execution_count": 6,
   "id": "56f2e55c-1516-499f-880c-b065d0c5b27b",
   "metadata": {},
   "outputs": [],
   "source": [
    "def source_index(source):\n",
    "    if source == None:\n",
    "        index = None\n",
    "    else:\n",
    "        index = sources_list.index(source)\n",
    "    return index\n",
    "\n"
   ]
  },
  {
   "cell_type": "code",
   "execution_count": 7,
   "id": "edc89d5d-88f4-4109-9d31-ea6036208028",
   "metadata": {
    "editable": true,
    "lines_to_next_cell": 2,
    "slideshow": {
     "slide_type": ""
    },
    "tags": []
   },
   "outputs": [
    {
     "name": "stderr",
     "output_type": "stream",
     "text": [
      "2024-05-24 07:50:29.278 WARNING streamlit.runtime.state.session_state_proxy: Session state does not function when running a script without `streamlit run`\n"
     ]
    }
   ],
   "source": [
    "#Initialize source and understanding\n",
    "\n",
    "if 'source' not in st.session_state:\n",
    "    st.session_state['source'] = None\n",
    "\n",
    "#if st.session_state.source:\n",
    "    #default_source_index = sources_list.index(st.session_state['source'])\n",
    "#else:\n",
    "    #default_source_index = None\n",
    "\n",
    "if 'i_understand' not in st.session_state:\n",
    "    st.session_state['i_understand'] = False"
   ]
  },
  {
   "cell_type": "markdown",
   "id": "3e324a6f-60d6-42d3-aea3-e19ed167ddbe",
   "metadata": {},
   "source": [
    "# Form"
   ]
  },
  {
   "cell_type": "code",
   "execution_count": 8,
   "id": "a93c1381-dc24-47c5-bd4a-4bd7cdd9ae56",
   "metadata": {
    "editable": true,
    "lines_to_next_cell": 2,
    "slideshow": {
     "slide_type": ""
    },
    "tags": []
   },
   "outputs": [
    {
     "name": "stderr",
     "output_type": "stream",
     "text": [
      "2024-05-24 07:50:29.399 \n",
      "  \u001b[33m\u001b[1mWarning:\u001b[0m to view this Streamlit app on a browser, run it with the following\n",
      "  command:\n",
      "\n",
      "    streamlit run /Users/Ben/anaconda3/lib/python3.11/site-packages/ipykernel_launcher.py [ARGUMENTS]\n"
     ]
    },
    {
     "ename": "AttributeError",
     "evalue": "st.session_state has no attribute \"source\". Did you forget to initialize it? More info: https://docs.streamlit.io/library/advanced-features/session-state#initialization",
     "output_type": "error",
     "traceback": [
      "\u001b[0;31m---------------------------------------------------------------------------\u001b[0m",
      "\u001b[0;31mKeyError\u001b[0m                                  Traceback (most recent call last)",
      "File \u001b[0;32m~/anaconda3/lib/python3.11/site-packages/streamlit/runtime/state/session_state.py:398\u001b[0m, in \u001b[0;36mSessionState.__getitem__\u001b[0;34m(self, key)\u001b[0m\n\u001b[1;32m    397\u001b[0m \u001b[38;5;28;01mtry\u001b[39;00m:\n\u001b[0;32m--> 398\u001b[0m     \u001b[38;5;28;01mreturn\u001b[39;00m \u001b[38;5;28mself\u001b[39m\u001b[38;5;241m.\u001b[39m_getitem(widget_id, key)\n\u001b[1;32m    399\u001b[0m \u001b[38;5;28;01mexcept\u001b[39;00m \u001b[38;5;167;01mKeyError\u001b[39;00m:\n",
      "File \u001b[0;32m~/anaconda3/lib/python3.11/site-packages/streamlit/runtime/state/session_state.py:443\u001b[0m, in \u001b[0;36mSessionState._getitem\u001b[0;34m(self, widget_id, user_key)\u001b[0m\n\u001b[1;32m    442\u001b[0m \u001b[38;5;66;03m# We'll never get here\u001b[39;00m\n\u001b[0;32m--> 443\u001b[0m \u001b[38;5;28;01mraise\u001b[39;00m \u001b[38;5;167;01mKeyError\u001b[39;00m\n",
      "\u001b[0;31mKeyError\u001b[0m: ",
      "\nDuring handling of the above exception, another exception occurred:\n",
      "\u001b[0;31mKeyError\u001b[0m                                  Traceback (most recent call last)",
      "File \u001b[0;32m~/anaconda3/lib/python3.11/site-packages/streamlit/runtime/state/session_state_proxy.py:119\u001b[0m, in \u001b[0;36mSessionStateProxy.__getattr__\u001b[0;34m(self, key)\u001b[0m\n\u001b[1;32m    118\u001b[0m \u001b[38;5;28;01mtry\u001b[39;00m:\n\u001b[0;32m--> 119\u001b[0m     \u001b[38;5;28;01mreturn\u001b[39;00m \u001b[38;5;28mself\u001b[39m[key]\n\u001b[1;32m    120\u001b[0m \u001b[38;5;28;01mexcept\u001b[39;00m \u001b[38;5;167;01mKeyError\u001b[39;00m:\n",
      "File \u001b[0;32m~/anaconda3/lib/python3.11/site-packages/streamlit/runtime/state/session_state_proxy.py:90\u001b[0m, in \u001b[0;36mSessionStateProxy.__getitem__\u001b[0;34m(self, key)\u001b[0m\n\u001b[1;32m     89\u001b[0m require_valid_user_key(key)\n\u001b[0;32m---> 90\u001b[0m \u001b[38;5;28;01mreturn\u001b[39;00m get_session_state()[key]\n",
      "File \u001b[0;32m~/anaconda3/lib/python3.11/site-packages/streamlit/runtime/state/safe_session_state.py:91\u001b[0m, in \u001b[0;36mSafeSessionState.__getitem__\u001b[0;34m(self, key)\u001b[0m\n\u001b[1;32m     90\u001b[0m \u001b[38;5;28;01mwith\u001b[39;00m \u001b[38;5;28mself\u001b[39m\u001b[38;5;241m.\u001b[39m_lock:\n\u001b[0;32m---> 91\u001b[0m     \u001b[38;5;28;01mreturn\u001b[39;00m \u001b[38;5;28mself\u001b[39m\u001b[38;5;241m.\u001b[39m_state[key]\n",
      "File \u001b[0;32m~/anaconda3/lib/python3.11/site-packages/streamlit/runtime/state/session_state.py:400\u001b[0m, in \u001b[0;36mSessionState.__getitem__\u001b[0;34m(self, key)\u001b[0m\n\u001b[1;32m    399\u001b[0m \u001b[38;5;28;01mexcept\u001b[39;00m \u001b[38;5;167;01mKeyError\u001b[39;00m:\n\u001b[0;32m--> 400\u001b[0m     \u001b[38;5;28;01mraise\u001b[39;00m \u001b[38;5;167;01mKeyError\u001b[39;00m(_missing_key_error_message(key))\n",
      "\u001b[0;31mKeyError\u001b[0m: 'st.session_state has no key \"source\". Did you forget to initialize it? More info: https://docs.streamlit.io/library/advanced-features/session-state#initialization'",
      "\nDuring handling of the above exception, another exception occurred:\n",
      "\u001b[0;31mAttributeError\u001b[0m                            Traceback (most recent call last)",
      "Cell \u001b[0;32mIn[8], line 34\u001b[0m\n\u001b[1;32m     31\u001b[0m \u001b[38;5;66;03m#    st.subheader(\"What would you like to study?\")\u001b[39;00m\n\u001b[1;32m     33\u001b[0m st\u001b[38;5;241m.\u001b[39mmarkdown(\u001b[38;5;124m\"\"\"\u001b[39m\u001b[38;5;124mWhat would you like to study?\u001b[39m\u001b[38;5;124m\"\"\"\u001b[39m)\n\u001b[0;32m---> 34\u001b[0m source_entry \u001b[38;5;241m=\u001b[39m st\u001b[38;5;241m.\u001b[39mselectbox(\u001b[38;5;124m\"\u001b[39m\u001b[38;5;124mPlease select a source of information to collect, code and analyse.\u001b[39m\u001b[38;5;124m\"\u001b[39m, sources_list, index \u001b[38;5;241m=\u001b[39m source_index(st\u001b[38;5;241m.\u001b[39msession_state\u001b[38;5;241m.\u001b[39msource))\n\u001b[1;32m     35\u001b[0m \u001b[38;5;66;03m#    gpt_api_key_entry = st.text_input(\"Your GPT API key\")\u001b[39;00m\n\u001b[1;32m     37\u001b[0m \u001b[38;5;28;01mif\u001b[39;00m source_entry:\n",
      "File \u001b[0;32m~/anaconda3/lib/python3.11/site-packages/streamlit/runtime/state/session_state_proxy.py:121\u001b[0m, in \u001b[0;36mSessionStateProxy.__getattr__\u001b[0;34m(self, key)\u001b[0m\n\u001b[1;32m    119\u001b[0m     \u001b[38;5;28;01mreturn\u001b[39;00m \u001b[38;5;28mself\u001b[39m[key]\n\u001b[1;32m    120\u001b[0m \u001b[38;5;28;01mexcept\u001b[39;00m \u001b[38;5;167;01mKeyError\u001b[39;00m:\n\u001b[0;32m--> 121\u001b[0m     \u001b[38;5;28;01mraise\u001b[39;00m \u001b[38;5;167;01mAttributeError\u001b[39;00m(_missing_attr_error_message(key))\n",
      "\u001b[0;31mAttributeError\u001b[0m: st.session_state has no attribute \"source\". Did you forget to initialize it? More info: https://docs.streamlit.io/library/advanced-features/session-state#initialization"
     ]
    }
   ],
   "source": [
    "#Create form\n",
    "\n",
    "st.title(\"The Empirical Legal Research Kickstarter\")\n",
    "st.header(\"An Anglo-Australian Pilot\")\n",
    "\n",
    "st.markdown(\"\"\"*The Empirical Legal Research Kickstarter* is an [open-source](https://github.com/nehcneb/au-uk-empirical-legal-research/tree/main) program designed to help kickstart empirical research involving judgments. It automates many costly, time-consuming and mundane tasks in empirical research.\n",
    "\n",
    "This pilot version can automatically\n",
    "\n",
    "(1) search for and collect judgments of select Anglo-Australian courts;\n",
    "\n",
    "(2) extract and code information from the judgment headnotes (ie metadata); and\n",
    "\n",
    "(3) use a generative AI as a research assistant to answer your questions about each judgment.\n",
    "\n",
    "This program can also process your own files or spreadsheet of data.\n",
    "\"\"\")\n",
    "\n",
    "if own_account_allowed() > 0:\n",
    "    st.markdown(\"\"\"**Complete this form to kickstart your project :green[for free] or :orange[with your own GPT account]!** The results of the abovementioned tasks will be available for download.\n",
    "\"\"\")\n",
    "\n",
    "else:\n",
    "    st.markdown(\"\"\"**Complete this form to kickstart your project :green[for free]!** A spreadsheet which hopefully has the data or information you seek will be available for download.\n",
    "\"\"\")\n",
    "\n",
    "st.caption('The Empirical Legal Research Kickstarter is the joint effort of Mike Lynch and Xinwei Luo of Sydney Informatics Hub and Ben Chen of Sydney Law School. It is partially funded by a University of Sydney Research Accelerator (SOAR) Prize awarded to Ben in 2022. Please direct any enquiries to Ben at ben.chen@sydney.edu.au.')\n",
    "\n",
    "st.header(\"Start\")\n",
    "\n",
    "#    st.subheader(\"What would you like to study?\")\n",
    "\n",
    "st.markdown(\"\"\"What would you like to study?\"\"\")\n",
    "source_entry = st.selectbox(\"Please select a source of information to collect, code and analyse.\", sources_list, index = source_index(st.session_state.source))\n",
    "#    gpt_api_key_entry = st.text_input(\"Your GPT API key\")\n",
    "\n",
    "if source_entry:\n",
    "\n",
    "    if source_entry != st.session_state.source:\n",
    "\n",
    "        st.session_state.i_understand = False\n",
    "        \n",
    "    st.warning(f\"This program is designed to help subject-matter experts who are able to evaluate the quality and accuracy of computer-generated information and/or data about {source_entry[0].lower()}{source_entry[1:]}. Please confirm that you understand.\")\n",
    "    \n",
    "    browser_entry = st.checkbox('Yes, I understand.', value = st.session_state['i_understand'])\n",
    "\n",
    "next_button = st.button('Next')"
   ]
  },
  {
   "cell_type": "markdown",
   "id": "756ca27f-fa22-4fb7-b718-aa13bdc0b4b5",
   "metadata": {},
   "source": [
    "# Buttons"
   ]
  },
  {
   "cell_type": "code",
   "execution_count": null,
   "id": "200f6abc-193f-4ac9-be44-513ed62a7a58",
   "metadata": {
    "editable": true,
    "lines_to_next_cell": 3,
    "slideshow": {
     "slide_type": ""
    },
    "tags": []
   },
   "outputs": [],
   "source": [
    "if next_button:\n",
    "\n",
    "    if source_entry == None:\n",
    "\n",
    "        st.write('You must choose a source of information.')\n",
    "\n",
    "    elif browser_entry == False:\n",
    "        st.write('You must tick \"Yes, I understand.\" to use this program.')\n",
    "\n",
    "    else:\n",
    "\n",
    "        st.session_state.source = source_entry\n",
    "\n",
    "        st.session_state.i_understand = browser_entry\n",
    "\n",
    "        st.session_state[\"page_from\"] = \"Home.py\"\n",
    "\n",
    "        page_to = source_pages[sources_list.index(st.session_state.source)]\n",
    "\n",
    "        st.switch_page(page_to)"
   ]
  }
 ],
 "metadata": {
  "kernelspec": {
   "display_name": "Python 3 (ipykernel)",
   "language": "python",
   "name": "python3"
  },
  "language_info": {
   "codemirror_mode": {
    "name": "ipython",
    "version": 3
   },
   "file_extension": ".py",
   "mimetype": "text/x-python",
   "name": "python",
   "nbconvert_exporter": "python",
   "pygments_lexer": "ipython3",
   "version": "3.11.7"
  }
 },
 "nbformat": 4,
 "nbformat_minor": 5
}
