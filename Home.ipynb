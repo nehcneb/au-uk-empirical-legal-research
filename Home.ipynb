{
 "cells": [
  {
   "cell_type": "code",
   "execution_count": 1,
   "id": "e492256b-5aaa-4959-8342-9d9ec6c19f16",
   "metadata": {
    "editable": true,
    "slideshow": {
     "slide_type": ""
    },
    "tags": []
   },
   "outputs": [],
   "source": [
    "#streamlit run Dropbox/Python/GitHub/au-uk-empirical-legal-research/Home.py"
   ]
  },
  {
   "cell_type": "markdown",
   "id": "0984b066-1f75-4b93-9847-9e7638c7d429",
   "metadata": {
    "editable": true,
    "slideshow": {
     "slide_type": ""
    },
    "tags": []
   },
   "source": [
    "# Preliminaries"
   ]
  },
  {
   "cell_type": "code",
   "execution_count": 2,
   "id": "dbee894d-ed7b-4208-a6bc-cd95e42639f9",
   "metadata": {
    "editable": true,
    "lines_to_next_cell": 2,
    "slideshow": {
     "slide_type": ""
    },
    "tags": []
   },
   "outputs": [],
   "source": [
    "#Preliminary modules\n",
    "\n",
    "#Streamlit\n",
    "import streamlit as st"
   ]
  },
  {
   "cell_type": "code",
   "execution_count": 3,
   "id": "6a706700-d1c5-4666-bf14-e18d099bde07",
   "metadata": {
    "editable": true,
    "slideshow": {
     "slide_type": ""
    },
    "tags": []
   },
   "outputs": [],
   "source": [
    "#Title of webpage\n",
    "st.set_page_config(\n",
    "   page_title=\"Empirical Legal Research Kickstarter\",\n",
    "   page_icon=\"🧊\",\n",
    "   layout=\"centered\",\n",
    "   initial_sidebar_state=\"collapsed\",\n",
    ")"
   ]
  },
  {
   "cell_type": "code",
   "execution_count": 4,
   "id": "a950fb9f-2222-468a-b404-d3f8fcfac9a4",
   "metadata": {
    "editable": true,
    "lines_to_next_cell": 2,
    "slideshow": {
     "slide_type": ""
    },
    "tags": []
   },
   "outputs": [],
   "source": [
    "#List of sources of information\n",
    "sources_list = [\"Judgments of select New South Wales courts\", \n",
    "                \"Judgments of the Federal Court of Australia\", \n",
    "                \"Judgments of select United Kingdom courts and tribunals\", \n",
    "                \"The Kercher Reports (decisions of the New South Wales superior courts from 1788 to 1900)\", \n",
    "                \"The English Reports (nearly all English case reports from 1220 to 1866)\",\n",
    "                \"Your own files\", \n",
    "                \"Your own spreadsheet\"\n",
    "               ]"
   ]
  },
  {
   "cell_type": "code",
   "execution_count": 5,
   "id": "edc89d5d-88f4-4109-9d31-ea6036208028",
   "metadata": {
    "editable": true,
    "lines_to_next_cell": 2,
    "slideshow": {
     "slide_type": ""
    },
    "tags": []
   },
   "outputs": [
    {
     "name": "stderr",
     "output_type": "stream",
     "text": [
      "2024-04-30 16:49:05.974 WARNING streamlit.runtime.state.session_state_proxy: Session state does not function when running a script without `streamlit run`\n"
     ]
    }
   ],
   "source": [
    "#Default values\n",
    "if 'name' in st.session_state:\n",
    "    default_name = st.session_state['name']\n",
    "else:\n",
    "    default_name = None\n",
    "\n",
    "if 'email' in st.session_state:\n",
    "    default_email = st.session_state['email']\n",
    "else:\n",
    "    default_email = None\n",
    "    \n",
    "if 'gpt_api_key' in st.session_state:\n",
    "    default_gpt_api_key = st.session_state['gpt_api_key']\n",
    "else:\n",
    "    default_gpt_api_key = None\n",
    "\n",
    "if 'source' in st.session_state:\n",
    "    default_source_index = sources_list.index(st.session_state['source'])\n",
    "else:\n",
    "    default_source_index = None"
   ]
  },
  {
   "cell_type": "markdown",
   "id": "3e324a6f-60d6-42d3-aea3-e19ed167ddbe",
   "metadata": {},
   "source": [
    "# Form"
   ]
  },
  {
   "cell_type": "code",
   "execution_count": 6,
   "id": "a93c1381-dc24-47c5-bd4a-4bd7cdd9ae56",
   "metadata": {
    "editable": true,
    "lines_to_next_cell": 2,
    "slideshow": {
     "slide_type": ""
    },
    "tags": []
   },
   "outputs": [
    {
     "name": "stderr",
     "output_type": "stream",
     "text": [
      "2024-04-30 16:49:06.024 \n",
      "════════════════════════════════════════════════\n",
      "global.dataFrameSerialization IS NO LONGER SUPPORTED.\n",
      "\n",
      "Legacy serialization has been removed. All dataframes will be serialized using Apache Arrow.\n",
      "\n",
      "Please update /Users/Ben/Library/CloudStorage/Dropbox/Python/GitHub/au-uk-empirical-legal-research/.streamlit/config.toml.\n",
      "════════════════════════════════════════════════\n",
      "\n",
      "2024-04-30 16:49:06.025 \n",
      "  \u001b[33m\u001b[1mWarning:\u001b[0m to view this Streamlit app on a browser, run it with the following\n",
      "  command:\n",
      "\n",
      "    streamlit run /Users/Ben/anaconda3/lib/python3.11/site-packages/ipykernel_launcher.py [ARGUMENTS]\n"
     ]
    }
   ],
   "source": [
    "#Create form\n",
    "\n",
    "with st.form(\"GPT_input_form\") as df_responses:\n",
    "    st.title(\"The Empirical Legal Research Kickstarter\")\n",
    "    st.header(\"An Anglo-Australian Pilot\")\n",
    "    \n",
    "    st.markdown(\"\"\"*The Empirical Legal Research Kickstarter* is a web-based program designed to help kickstart empirical research involving judgments. It automates many costly, time-consuming and mundane tasks in empirical research.\n",
    "\n",
    "This pilot version can automatically\n",
    "\n",
    "(1) search for and collect judgments of select Anglo-Australian courts;\n",
    "\n",
    "(2) extract and code information from the judgment headnotes (ie metadata); and\n",
    "\n",
    "(3) use a generative AI as a research assistant to answer your questions about each judgment.\n",
    "\n",
    "This program can also process your own files or spreadsheet of data.\n",
    "\n",
    "**Complete this form to kickstart your project :green[for free]!** The results of the above tasks will be available for download.\n",
    "\"\"\")\n",
    "    st.caption('The Empirical Legal Research Kickstarter is the joint effort of Mike Lynch and Xinwei Luo of Sydney Informatics Hub and Ben Chen of Sydney Law School. It is partially funded by a University of Sydney Research Accelerator (SOAR) Prize awarded to Ben in 2022. Please send any enquiries to Ben at ben.chen@sydney.edu.au.')\n",
    "\n",
    "    st.header(\"Start\")\n",
    "\n",
    "#    st.write(\"This program may not work on a mobile device or a tablet. Please use a desktop or a laptop.\")\n",
    "\n",
    "#    browser_entry = st.checkbox('Yes, I understand.', value = False)\n",
    "\n",
    "#    st.subheader(\"What would you like to study?\")\n",
    "\n",
    "    st.markdown(\"\"\"What would you like to study?\"\"\")\n",
    "    source_entry = st.selectbox(\"Please select a source of information to collect, code and analyse.\", sources_list, index = default_source_index)\n",
    "#    gpt_api_key_entry = st.text_input(\"Your GPT API key\")\n",
    "\n",
    "    \n",
    "    next_button = st.form_submit_button('Next')"
   ]
  },
  {
   "cell_type": "markdown",
   "id": "756ca27f-fa22-4fb7-b718-aa13bdc0b4b5",
   "metadata": {},
   "source": [
    "# Buttons"
   ]
  },
  {
   "cell_type": "code",
   "execution_count": 7,
   "id": "200f6abc-193f-4ac9-be44-513ed62a7a58",
   "metadata": {
    "editable": true,
    "lines_to_next_cell": 2,
    "slideshow": {
     "slide_type": ""
    },
    "tags": []
   },
   "outputs": [],
   "source": [
    "if next_button:\n",
    "\n",
    "#    if int(browser_entry) == 0:\n",
    "#        st.write('You must confirm that you understand this program may not work on a mobile device or a tablet.')\n",
    "\n",
    "#    elif source_entry == None:\n",
    "    if source_entry == None:\n",
    "\n",
    "        st.write('You must choose a source of information.')\n",
    "\n",
    "    else:\n",
    "\n",
    "        st.session_state[\"page_from\"] = \"Home.py\"\n",
    "    \n",
    "        if (('New South Wales' in source_entry) and ('Kercher' not in source_entry)):\n",
    "            st.switch_page(\"pages/NSW.py\")\n",
    "    \n",
    "        if 'Federal Court of Australia' in source_entry:\n",
    "            \n",
    "            st.switch_page(\"pages/CTH.py\")\n",
    "    \n",
    "        if 'United Kingdom' in source_entry:\n",
    "            \n",
    "            st.switch_page(\"pages/UK.py\")\n",
    "            \n",
    "        if 'Kercher' in source_entry:\n",
    "            \n",
    "            st.switch_page(\"pages/KR.py\")\n",
    "\n",
    "        if 'English Reports' in source_entry:\n",
    "            \n",
    "            st.switch_page(\"pages/ER.py\")\n",
    "            \n",
    "        if ' own files' in source_entry:\n",
    "\n",
    "            st.switch_page(\"pages/OWN.py\")\n",
    "\n",
    "        if ' own spreadsheet' in source_entry:\n",
    "            st.switch_page('pages/AI.py')\n",
    "\n"
   ]
  }
 ],
 "metadata": {
  "kernelspec": {
   "display_name": "Python 3 (ipykernel)",
   "language": "python",
   "name": "python3"
  },
  "language_info": {
   "codemirror_mode": {
    "name": "ipython",
    "version": 3
   },
   "file_extension": ".py",
   "mimetype": "text/x-python",
   "name": "python",
   "nbconvert_exporter": "python",
   "pygments_lexer": "ipython3",
   "version": "3.11.7"
  }
 },
 "nbformat": 4,
 "nbformat_minor": 5
}
