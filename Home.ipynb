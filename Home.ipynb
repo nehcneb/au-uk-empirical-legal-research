{
 "cells": [
  {
   "cell_type": "code",
   "execution_count": 1,
   "id": "e492256b-5aaa-4959-8342-9d9ec6c19f16",
   "metadata": {
    "editable": true,
    "slideshow": {
     "slide_type": ""
    },
    "tags": []
   },
   "outputs": [],
   "source": [
    "#streamlit run Dropbox/Python/GitHub/lawtodata/Home.py"
   ]
  },
  {
   "cell_type": "markdown",
   "id": "0984b066-1f75-4b93-9847-9e7638c7d429",
   "metadata": {
    "editable": true,
    "slideshow": {
     "slide_type": ""
    },
    "tags": []
   },
   "source": [
    "# Preliminaries"
   ]
  },
  {
   "cell_type": "code",
   "execution_count": 2,
   "id": "dbee894d-ed7b-4208-a6bc-cd95e42639f9",
   "metadata": {
    "editable": true,
    "lines_to_next_cell": 2,
    "slideshow": {
     "slide_type": ""
    },
    "tags": []
   },
   "outputs": [],
   "source": [
    "#Streamlit\n",
    "import streamlit as st"
   ]
  },
  {
   "cell_type": "code",
   "execution_count": 3,
   "id": "6a706700-d1c5-4666-bf14-e18d099bde07",
   "metadata": {
    "editable": true,
    "slideshow": {
     "slide_type": ""
    },
    "tags": []
   },
   "outputs": [
    {
     "name": "stderr",
     "output_type": "stream",
     "text": [
      "2024-09-28 07:34:20.190 WARNING streamlit.runtime.scriptrunner_utils.script_run_context: Thread 'MainThread': missing ScriptRunContext! This warning can be ignored when running in bare mode.\n"
     ]
    }
   ],
   "source": [
    "#Title of webpage\n",
    "st.set_page_config(\n",
    "   page_title=\"LawtoData: An Empirical Legal Research Kickstarter\",\n",
    "   page_icon=\"🧊\",\n",
    "   layout=\"centered\",\n",
    "   initial_sidebar_state=\"collapsed\",\n",
    ")"
   ]
  },
  {
   "cell_type": "code",
   "execution_count": 4,
   "id": "635cd918-68e8-4b85-959b-34cd674d67df",
   "metadata": {},
   "outputs": [
    {
     "name": "stdout",
     "output_type": "stream",
     "text": [
      "By default, users are allowed to use their own account.\n"
     ]
    }
   ],
   "source": [
    "#Determine whether to allow user to use own account\n",
    "from functions.common_functions import own_account_allowed\n",
    "\n",
    "if own_account_allowed() > 0:\n",
    "    print(f'By default, users are allowed to use their own account.')\n",
    "else:\n",
    "    print(f'By default, users are NOT allowed to use their own account.')"
   ]
  },
  {
   "cell_type": "code",
   "execution_count": 5,
   "id": "fffbebdc-0380-4c8e-b1bc-374501bc084f",
   "metadata": {},
   "outputs": [
    {
     "name": "stdout",
     "output_type": "stream",
     "text": [
      "By default, users are allowed to use batch mode.\n"
     ]
    }
   ],
   "source": [
    "#Determine whether to allow user to use batch mode\n",
    "from functions.common_functions import batch_mode_allowed\n",
    "\n",
    "if batch_mode_allowed() > 0:\n",
    "    print(f'By default, users are allowed to use batch mode.')\n",
    "else:\n",
    "    print(f'By default, users are NOT allowed to use batch mode.')"
   ]
  },
  {
   "cell_type": "code",
   "execution_count": 16,
   "id": "43bb7467-1f22-4dbd-9f65-567399e02224",
   "metadata": {},
   "outputs": [],
   "source": [
    "#Dict of available sources\n",
    "page_dict = {\"pages/HCA.py\": \"Judgments of the High Court of Australia\",\n",
    "            \"pages/FCA.py\": \"Judgments of the Federal Court of Australia\", \n",
    "            \"pages/NSW.py\": \"Judgments of the New South Wales courts and tribunals\", \n",
    "            #\"pages/UK.py\": \"Judgments of select United Kingdom courts and tribunals\", \n",
    "            #\"pages/CA.py\": 'judgments of the Canadian courts, boards and tribunals', \n",
    "            \"pages/AFCA.py\": 'Decisions of the Australian Financial Complaints Authority', \n",
    "            #\"pages/SCTA.py\": 'Decisions of the Superannuation Complaints Tribunal of Australia', \n",
    "            \"pages/ER.py\": \"The English Reports (nearly all English case reports from 1220 to 1866)\", \n",
    "            \"pages/KR.py\": \"The Kercher Reports (judgments of the New South Wales superior courts from 1788 to 1900)\", \n",
    "            \"pages/OWN.py\": \"Your own files\", \n",
    "            'pages/AI.py': \"Your own spreadsheet\"\n",
    "            }\n",
    "\n",
    "#List of pages\n",
    "page_list = [*page_dict.keys()]\n",
    "\n",
    "#List of sources\n",
    "source_list = [*page_dict.values()]"
   ]
  },
  {
   "cell_type": "code",
   "execution_count": 13,
   "id": "56f2e55c-1516-499f-880c-b065d0c5b27b",
   "metadata": {},
   "outputs": [],
   "source": [
    "#Return index of page if available, none otherwise\n",
    "def page_index(page_from):\n",
    "    try:\n",
    "        index = page_list.index(page_from)\n",
    "        return index\n",
    "        \n",
    "    except: \n",
    "        return None\n"
   ]
  },
  {
   "cell_type": "code",
   "execution_count": 8,
   "id": "edc89d5d-88f4-4109-9d31-ea6036208028",
   "metadata": {
    "editable": true,
    "lines_to_next_cell": 2,
    "slideshow": {
     "slide_type": ""
    },
    "tags": []
   },
   "outputs": [
    {
     "name": "stderr",
     "output_type": "stream",
     "text": [
      "2024-09-28 07:34:29.633 WARNING streamlit.runtime.scriptrunner_utils.script_run_context: Thread 'MainThread': missing ScriptRunContext! This warning can be ignored when running in bare mode.\n",
      "2024-09-28 07:34:29.635 WARNING streamlit.runtime.state.session_state_proxy: Session state does not function when running a script without `streamlit run`\n",
      "2024-09-28 07:34:29.636 WARNING streamlit.runtime.scriptrunner_utils.script_run_context: Thread 'MainThread': missing ScriptRunContext! This warning can be ignored when running in bare mode.\n",
      "2024-09-28 07:34:29.636 WARNING streamlit.runtime.scriptrunner_utils.script_run_context: Thread 'MainThread': missing ScriptRunContext! This warning can be ignored when running in bare mode.\n",
      "2024-09-28 07:34:29.637 WARNING streamlit.runtime.scriptrunner_utils.script_run_context: Thread 'MainThread': missing ScriptRunContext! This warning can be ignored when running in bare mode.\n",
      "2024-09-28 07:34:29.637 WARNING streamlit.runtime.scriptrunner_utils.script_run_context: Thread 'MainThread': missing ScriptRunContext! This warning can be ignored when running in bare mode.\n",
      "2024-09-28 07:34:29.638 WARNING streamlit.runtime.scriptrunner_utils.script_run_context: Thread 'MainThread': missing ScriptRunContext! This warning can be ignored when running in bare mode.\n"
     ]
    }
   ],
   "source": [
    "#Initialize\n",
    "\n",
    "if 'page_from' not in st.session_state:\n",
    "    st.session_state['page_from'] = 'Home.py'\n",
    "\n",
    "if 'i_understand' not in st.session_state:\n",
    "    st.session_state['i_understand'] = False"
   ]
  },
  {
   "cell_type": "markdown",
   "id": "3e324a6f-60d6-42d3-aea3-e19ed167ddbe",
   "metadata": {},
   "source": [
    "# Form"
   ]
  },
  {
   "cell_type": "code",
   "execution_count": 8,
   "id": "a93c1381-dc24-47c5-bd4a-4bd7cdd9ae56",
   "metadata": {
    "editable": true,
    "lines_to_next_cell": 2,
    "slideshow": {
     "slide_type": ""
    },
    "tags": []
   },
   "outputs": [
    {
     "name": "stderr",
     "output_type": "stream",
     "text": [
      "2024-08-06 08:43:55.597 \n",
      "  \u001b[33m\u001b[1mWarning:\u001b[0m to view this Streamlit app on a browser, run it with the following\n",
      "  command:\n",
      "\n",
      "    streamlit run /Users/Ben/anaconda3/lib/python3.11/site-packages/ipykernel_launcher.py [ARGUMENTS]\n"
     ]
    }
   ],
   "source": [
    "#Create form\n",
    "\n",
    "st.title(\":blue[LawtoData]\")\n",
    "\n",
    "st.subheader(\"An Empirical Legal Research Kickstarter\")\n",
    "\n",
    "st.markdown(\"\"\"*LawtoData* is an [open-source](https://github.com/nehcneb/au-uk-empirical-legal-research) web app designed to help kickstart empirical projects involving judgments. It automates the most costly and time-consuming aspects of empirical research. \n",
    "\n",
    "This pilot version can **automatically**\n",
    "\n",
    "(1) search for and collect judgments of select Anglo-Australian courts; and\n",
    "\n",
    "(2) extract and code **your** choice of data or information from judgments, partially using GPT.\n",
    "\n",
    "This app can also process your own files or spreadsheet of data.\n",
    "\"\"\")\n",
    "\n",
    "if own_account_allowed() > 0:\n",
    "    st.markdown(\"\"\"**Get started below :green[for free] or :orange[with your own GPT account]!** A spreadsheet which hopefully has the data or information you seek will be available for download.\n",
    "\"\"\")\n",
    "\n",
    "else:\n",
    "    st.markdown(\"\"\"**Get started below :green[for free]!** A spreadsheet which hopefully has the data or information you seek will be available for download.\n",
    "\"\"\")\n",
    "\n",
    "st.caption('The developer Ben Chen acknowledges and greatly appreciates the exemplary technical assistance of Mike Lynch and Xinwei Luo of the Sydney Informatics Hub, a Core Research Facility of the University of Sydney, as well as the financial support provided by a University of Sydney Research Accelerator (SOAR) Prize. Please direct any enquiries to Ben at ben.chen@sydney.edu.au.')\n",
    "\n",
    "st.header(\"Start\")\n",
    "\n",
    "st.markdown(\"\"\"What would you like to research?\"\"\")\n",
    "\n",
    "source_entry = st.selectbox(label = \"Please select a source of information to collect, code and analyse.\", options = source_list, index = page_index(st.session_state.page_from))\n",
    "\n",
    "if source_entry:\n",
    "\n",
    "    st.warning(f\"This app is designed to help subject-matter experts who are able to evaluate the quality and accuracy of computer-generated data and/or information about {source_entry[0].lower()}{source_entry[1:]}. Please confirm that you understand.\")\n",
    "\n",
    "    if source_list.index(source_entry) != page_index(st.session_state.page_from):\n",
    "\n",
    "        st.session_state['i_understand'] = False\n",
    "    \n",
    "    i_unstanding_tick = st.checkbox('Yes, I understand.', value = st.session_state.i_understand)\n",
    "\n",
    "home_next_button = st.button(label = 'NEXT', disabled = not (bool(source_entry)), help = 'To use this app, you must select a source of information and tick \"[y]es, I understand[]\".')\n",
    "\n",
    "if source_entry:\n",
    "\n",
    "    if source_list.index(source_entry) != page_index(st.session_state.page_from):\n",
    "\n",
    "        if ((page_index(st.session_state.page_from) != None) and ('df_master' in st.session_state)):\n",
    "\n",
    "            page_from_name = source_list[page_index(st.session_state.page_from)]\n",
    "\n",
    "            st.warning(f'Pressing NEXT will :red[erase] any earlier entries and data produced. To download such entries or data, please select {page_from_name[0].lower()}{page_from_name[1:]} instead.')"
   ]
  },
  {
   "cell_type": "markdown",
   "id": "756ca27f-fa22-4fb7-b718-aa13bdc0b4b5",
   "metadata": {},
   "source": [
    "# Buttons"
   ]
  },
  {
   "cell_type": "code",
   "execution_count": 9,
   "id": "200f6abc-193f-4ac9-be44-513ed62a7a58",
   "metadata": {
    "editable": true,
    "lines_to_next_cell": 2,
    "slideshow": {
     "slide_type": ""
    },
    "tags": []
   },
   "outputs": [],
   "source": [
    "if home_next_button:\n",
    "\n",
    "    if source_entry == None:\n",
    "\n",
    "        st.write('You must select a source of information.')\n",
    "\n",
    "    elif i_unstanding_tick == False:\n",
    "        st.write('You must tick \"Yes, I understand.\"')\n",
    "\n",
    "    else:\n",
    "\n",
    "        source_entry_index = source_list.index(source_entry)\n",
    "\n",
    "        #Clear df_master if one has been generated from another page\n",
    "        if 'df_master' in st.session_state:\n",
    "\n",
    "            if page_list[source_entry_index] != st.session_state.page_from:\n",
    "\n",
    "                st.session_state.pop('df_master')\n",
    "\n",
    "        st.session_state.i_understand = i_unstanding_tick\n",
    "\n",
    "        st.session_state[\"page_from\"] = \"Home.py\"\n",
    "\n",
    "        page_to = page_list[source_entry_index]\n",
    "\n",
    "        st.switch_page(page_to)"
   ]
  }
 ],
 "metadata": {
  "kernelspec": {
   "display_name": "Python 3 (ipykernel)",
   "language": "python",
   "name": "python3"
  },
  "language_info": {
   "codemirror_mode": {
    "name": "ipython",
    "version": 3
   },
   "file_extension": ".py",
   "mimetype": "text/x-python",
   "name": "python",
   "nbconvert_exporter": "python",
   "pygments_lexer": "ipython3",
   "version": "3.11.7"
  }
 },
 "nbformat": 4,
 "nbformat_minor": 5
}
