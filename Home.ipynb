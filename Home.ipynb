{
 "cells": [
  {
   "cell_type": "code",
   "execution_count": 1,
   "id": "e492256b-5aaa-4959-8342-9d9ec6c19f16",
   "metadata": {
    "editable": true,
    "slideshow": {
     "slide_type": ""
    },
    "tags": []
   },
   "outputs": [],
   "source": [
    "#streamlit run Dropbox/Python/GitHub/au-uk-empirical-legal-research-unlimited/Home.py"
   ]
  },
  {
   "cell_type": "markdown",
   "id": "0984b066-1f75-4b93-9847-9e7638c7d429",
   "metadata": {
    "editable": true,
    "slideshow": {
     "slide_type": ""
    },
    "tags": []
   },
   "source": [
    "# Preliminaries"
   ]
  },
  {
   "cell_type": "code",
   "execution_count": 2,
   "id": "dbee894d-ed7b-4208-a6bc-cd95e42639f9",
   "metadata": {
    "editable": true,
    "lines_to_next_cell": 2,
    "slideshow": {
     "slide_type": ""
    },
    "tags": []
   },
   "outputs": [],
   "source": [
    "#Streamlit\n",
    "import streamlit as st"
   ]
  },
  {
   "cell_type": "code",
   "execution_count": 3,
   "id": "6a706700-d1c5-4666-bf14-e18d099bde07",
   "metadata": {
    "editable": true,
    "slideshow": {
     "slide_type": ""
    },
    "tags": []
   },
   "outputs": [],
   "source": [
    "#Title of webpage\n",
    "st.set_page_config(\n",
    "   page_title=\"LawtoData: An Empirical Legal Research Kickstarter\",\n",
    "   page_icon=\"🧊\",\n",
    "   layout=\"centered\",\n",
    "   initial_sidebar_state=\"collapsed\",\n",
    ")"
   ]
  },
  {
   "cell_type": "code",
   "execution_count": 4,
   "id": "635cd918-68e8-4b85-959b-34cd674d67df",
   "metadata": {},
   "outputs": [
    {
     "name": "stdout",
     "output_type": "stream",
     "text": [
      "By default, users are allowed to use their own account\n"
     ]
    }
   ],
   "source": [
    "#Determine whether to allow user to use own account\n",
    "from common_functions import own_account_allowed\n",
    "\n",
    "if own_account_allowed() > 0:\n",
    "    print(f'By default, users are allowed to use their own account')\n",
    "else:\n",
    "    print(f'By default, users are NOT allowed to use their own account')"
   ]
  },
  {
   "cell_type": "code",
   "execution_count": 5,
   "id": "a950fb9f-2222-468a-b404-d3f8fcfac9a4",
   "metadata": {
    "editable": true,
    "slideshow": {
     "slide_type": ""
    },
    "tags": []
   },
   "outputs": [],
   "source": [
    "#List of sources of information\n",
    "sources_list = [\"Judgments of the High Court of Australia\", \n",
    "                 \"Judgments of the Federal Court of Australia\", \n",
    "                \"Judgments of the New South Wales courts and tribunals\", \n",
    "                #\"Judgments of select United Kingdom courts and tribunals\", \n",
    "                #'judgments of the Canadian courts, boards and tribunals', \n",
    "                'Decisions of the Australian Financial Complaints Authority', \n",
    "                #'Decisions of the Superannuation Complaints Tribunal of Australia', \n",
    "                \"The English Reports (nearly all English case reports from 1220 to 1866)\",\n",
    "                \"The Kercher Reports (judgments of the New South Wales superior courts from 1788 to 1900)\", \n",
    "                \"Your own files\", \n",
    "                \"Your own spreadsheet\"\n",
    "               ]\n",
    "\n",
    "source_pages = [\"pages/HCA.py\",\n",
    "                \"pages/FCA.py\", \n",
    "                \"pages/NSW.py\", \n",
    "                #\"pages/UK.py\", \n",
    "                #\"pages/CA.py\", \n",
    "                \"pages/AFCA.py\", \n",
    "                #\"pages/SCTA.py\", \n",
    "                \"pages/ER.py\", \n",
    "                \"pages/KR.py\", \n",
    "                \"pages/OWN.py\", \n",
    "                'pages/AI.py']"
   ]
  },
  {
   "cell_type": "code",
   "execution_count": 6,
   "id": "56f2e55c-1516-499f-880c-b065d0c5b27b",
   "metadata": {},
   "outputs": [],
   "source": [
    "def source_index(page_from):\n",
    "    try:\n",
    "        index = source_pages.index(page_from)\n",
    "        return index\n",
    "        \n",
    "    except:\n",
    "        \n",
    "        return None\n",
    "\n"
   ]
  },
  {
   "cell_type": "code",
   "execution_count": 7,
   "id": "edc89d5d-88f4-4109-9d31-ea6036208028",
   "metadata": {
    "editable": true,
    "lines_to_next_cell": 2,
    "slideshow": {
     "slide_type": ""
    },
    "tags": []
   },
   "outputs": [
    {
     "name": "stderr",
     "output_type": "stream",
     "text": [
      "2024-08-06 08:43:54.516 WARNING streamlit.runtime.state.session_state_proxy: Session state does not function when running a script without `streamlit run`\n"
     ]
    }
   ],
   "source": [
    "#Initialize\n",
    "\n",
    "if 'page_from' not in st.session_state:\n",
    "    \n",
    "    st.session_state['page_from'] = 'Home.py'\n",
    "\n",
    "#if 'source' not in st.session_state:\n",
    "    #st.session_state['source'] = None\n",
    "\n",
    "#if st.session_state.page_from:\n",
    "    #default_source_index = sources_list.index(st.session_state['source'])\n",
    "#else:\n",
    "    #default_source_index = None\n",
    "\n",
    "if 'i_understand' not in st.session_state:\n",
    "    st.session_state['i_understand'] = False"
   ]
  },
  {
   "cell_type": "markdown",
   "id": "3e324a6f-60d6-42d3-aea3-e19ed167ddbe",
   "metadata": {},
   "source": [
    "# Form"
   ]
  },
  {
   "cell_type": "code",
   "execution_count": 8,
   "id": "a93c1381-dc24-47c5-bd4a-4bd7cdd9ae56",
   "metadata": {
    "editable": true,
    "slideshow": {
     "slide_type": ""
    },
    "tags": []
   },
   "outputs": [
    {
     "name": "stderr",
     "output_type": "stream",
     "text": [
      "2024-08-06 08:43:55.597 \n",
      "  \u001b[33m\u001b[1mWarning:\u001b[0m to view this Streamlit app on a browser, run it with the following\n",
      "  command:\n",
      "\n",
      "    streamlit run /Users/Ben/anaconda3/lib/python3.11/site-packages/ipykernel_launcher.py [ARGUMENTS]\n"
     ]
    }
   ],
   "source": [
    "#Create form\n",
    "\n",
    "st.title(\":blue[LawtoData]\")\n",
    "\n",
    "st.subheader(\"An Empirical Legal Research Kickstarter\")\n",
    "\n",
    "st.markdown(\"\"\"*LawtoData* is an [open-source](https://github.com/nehcneb/au-uk-empirical-legal-research) web app designed to help kickstart empirical projects involving judgments. This pilot version can automatically\n",
    "\n",
    "(1) search for and collect judgments of select Anglo-Australian courts; and\n",
    "\n",
    "(2) extract and code *your* choice of data or information from judgments, partially using a generative AI.\n",
    "\n",
    "This app can also process your own files or spreadsheet of data.\n",
    "\"\"\")\n",
    "\n",
    "if own_account_allowed() > 0:\n",
    "    st.markdown(\"\"\"**Use this app to kickstart your project :green[for free] or :orange[with your own GPT account]!** The results of the abovementioned tasks will be available for download.\n",
    "\"\"\")\n",
    "\n",
    "else:\n",
    "    st.markdown(\"\"\"**Use this app to kickstart your project :green[for free]!** A spreadsheet which hopefully has the data or information you seek will be available for download.\n",
    "\"\"\")\n",
    "\n",
    "#st.caption('The Empirical Legal Research Kickstarter is the joint effort of Mike Lynch and Xinwei Luo of Sydney Informatics Hub and Ben Chen of Sydney Law School. It is partially funded by a University of Sydney Research Accelerator (SOAR) Prize awarded to Ben in 2022. Please direct any enquiries to Ben at ben.chen@sydney.edu.au.')\n",
    "\n",
    "st.caption('The developer Ben Chen acknowledges and greatly appreciates the exemplary technical assistance of Mike Lynch and Xinwei Luo of the Sydney Informatics Hub, a Core Research Facility of the University of Sydney, as well as the financial support provided by a University of Sydney Research Accelerator (SOAR) Prize. Please direct any enquiries to Ben at ben.chen@sydney.edu.au.')\n",
    "\n",
    "st.header(\"Start\")\n",
    "\n",
    "#    st.subheader(\"What would you like to study?\")\n",
    "\n",
    "st.markdown(\"\"\"What would you like to study?\"\"\")\n",
    "source_entry = st.selectbox(label = \"Please select a source of information to collect, code and analyse.\", options = sources_list, index = source_index(st.session_state.page_from))\n",
    "#    gpt_api_key_entry = st.text_input(\"Your GPT API key\")\n",
    "\n",
    "if source_entry:\n",
    "\n",
    "    st.warning(f\"This app is designed to help subject-matter experts who are able to evaluate the quality and accuracy of computer-generated data and/or information about {source_entry[0].lower()}{source_entry[1:]}. Please confirm that you understand.\")\n",
    "\n",
    "    if sources_list.index(source_entry) != source_index(st.session_state.page_from):\n",
    "\n",
    "        st.session_state['i_understand'] = False\n",
    "    \n",
    "    i_unstanding_tick = st.checkbox('Yes, I understand.', value = st.session_state.i_understand)\n",
    "\n",
    "home_next_button = st.button(label = 'NEXT', disabled = not (bool(source_entry)), help = 'To use this app, you must select a source of information and tick \"[y]es, I understand[]\".')\n",
    "\n",
    "if source_entry:\n",
    "\n",
    "    if sources_list.index(source_entry) != source_index(st.session_state.page_from):\n",
    "\n",
    "        if ((source_index(st.session_state.page_from) != None) and ('df_master' in st.session_state)):\n",
    "            #If page_from == CA or UK, for now, source_index(st.session_state.page_from) == None\n",
    "\n",
    "            #page_from_index = source_pages.index(st.session_state.page_from)\n",
    "\n",
    "            page_from_name = sources_list[source_index(st.session_state.page_from)]\n",
    "\n",
    "            st.warning(f'Pressing NEXT will :red[erase] any earlier entries and data produced. To download such entries or data, please select {page_from_name[0].lower()}{page_from_name[1:]} instead.')\n",
    "\n"
   ]
  },
  {
   "cell_type": "markdown",
   "id": "756ca27f-fa22-4fb7-b718-aa13bdc0b4b5",
   "metadata": {},
   "source": [
    "# Buttons"
   ]
  },
  {
   "cell_type": "code",
   "execution_count": 9,
   "id": "200f6abc-193f-4ac9-be44-513ed62a7a58",
   "metadata": {
    "editable": true,
    "lines_to_next_cell": 2,
    "slideshow": {
     "slide_type": ""
    },
    "tags": []
   },
   "outputs": [],
   "source": [
    "if home_next_button:\n",
    "\n",
    "    if source_entry == None:\n",
    "\n",
    "        st.write('You must select a source of information.')\n",
    "\n",
    "    elif i_unstanding_tick == False:\n",
    "        st.write('You must tick \"Yes, I understand.\"')\n",
    "\n",
    "    else:\n",
    "\n",
    "        source_entry_index = sources_list.index(source_entry)\n",
    "\n",
    "        #Clear df_master if one has been generated from another page\n",
    "            \n",
    "        if 'df_master' in st.session_state:\n",
    "\n",
    "            if source_pages[source_entry_index] != st.session_state.page_from:\n",
    "\n",
    "                st.session_state.pop('df_master')\n",
    "\n",
    "        st.session_state.i_understand = i_unstanding_tick\n",
    "\n",
    "        st.session_state[\"page_from\"] = \"Home.py\"\n",
    "\n",
    "        page_to = source_pages[source_entry_index]\n",
    "\n",
    "        st.switch_page(page_to)"
   ]
  },
  {
   "cell_type": "code",
   "execution_count": null,
   "id": "850ebb7c-e52b-411c-87e4-3de0ff685095",
   "metadata": {},
   "outputs": [],
   "source": []
  }
 ],
 "metadata": {
  "kernelspec": {
   "display_name": "Python 3 (ipykernel)",
   "language": "python",
   "name": "python3"
  },
  "language_info": {
   "codemirror_mode": {
    "name": "ipython",
    "version": 3
   },
   "file_extension": ".py",
   "mimetype": "text/x-python",
   "name": "python",
   "nbconvert_exporter": "python",
   "pygments_lexer": "ipython3",
   "version": "3.11.7"
  }
 },
 "nbformat": 4,
 "nbformat_minor": 5
}
